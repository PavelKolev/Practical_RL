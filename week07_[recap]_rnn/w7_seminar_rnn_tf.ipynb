{
  "nbformat": 4,
  "nbformat_minor": 0,
  "metadata": {
    "colab": {
      "name": "w7_seminar_rnn_tf.ipynb",
      "provenance": [],
      "collapsed_sections": []
    },
    "kernelspec": {
      "name": "python3",
      "display_name": "Python 3"
    },
    "accelerator": "GPU"
  },
  "cells": [
    {
      "cell_type": "markdown",
      "metadata": {
        "id": "Cx83IkPt4_Id",
        "colab_type": "text"
      },
      "source": [
        "### Generating names with recurrent neural networks\n",
        "\n",
        "This time you'll find yourself delving into the heart (and other intestines) of recurrent neural networks on a class of toy problems.\n",
        "\n",
        "Struggle to find a name for the variable? Let's see how you'll come up with a name for your son/daughter. Surely no human has expertize over what is a good child name, so let us train RNN instead;\n",
        "\n",
        "It's dangerous to go alone, take these:"
      ]
    },
    {
      "cell_type": "code",
      "metadata": {
        "id": "dtNoyVoiDIbe",
        "colab_type": "code",
        "colab": {
          "base_uri": "https://localhost:8080/",
          "height": 50
        },
        "outputId": "b63ec02b-aa0b-4f16-c113-930a6500433e"
      },
      "source": [
        "import sys\n",
        "if 'google.colab' in sys.modules:\n",
        "    import os\n",
        "\n",
        "    os.system('apt-get install -y xvfb')\n",
        "    os.system('wget https://raw.githubusercontent.com/yandexdataschool/Practical_RL/spring20/xvfb -O ../xvfb')\n",
        "    os.system('apt-get install -y python-opengl ffmpeg')\n",
        "    os.system('pip install pyglet==1.2.4')\n",
        "\n",
        "    os.system('python -m pip install -U pygame --user')\n",
        "\n",
        "    print('setup complete')\n",
        "\n",
        "    !wget -q https://raw.githubusercontent.com/yandexdataschool/Practical_RL/spring20/week07_[recap]_rnn/names\n",
        "\n",
        "# XVFB will be launched if you run on a server\n",
        "import os\n",
        "if type(os.environ.get(\"DISPLAY\")) is not str or len(os.environ.get(\"DISPLAY\")) == 0:\n",
        "    !bash ../xvfb start\n",
        "    os.environ['DISPLAY'] = ':1'"
      ],
      "execution_count": 1,
      "outputs": [
        {
          "output_type": "stream",
          "text": [
            "setup complete\n",
            "Starting virtual X frame buffer: Xvfb.\n"
          ],
          "name": "stdout"
        }
      ]
    },
    {
      "cell_type": "code",
      "metadata": {
        "id": "gSczLRN64_Ie",
        "colab_type": "code",
        "colab": {}
      },
      "source": [
        "import numpy as np\n",
        "import matplotlib.pyplot as plt\n",
        "%matplotlib inline"
      ],
      "execution_count": 2,
      "outputs": []
    },
    {
      "cell_type": "markdown",
      "metadata": {
        "id": "vhUxC9Ug4_Ii",
        "colab_type": "text"
      },
      "source": [
        "# Our data\n",
        "The dataset contains ~8k earthling names from different cultures, all in latin transcript.\n",
        "\n",
        "This notebook has been designed so as to allow you to quickly swap names for something similar: deep learning article titles, IKEA furniture, pokemon names, etc."
      ]
    },
    {
      "cell_type": "code",
      "metadata": {
        "id": "6w0x8ztp4_Ij",
        "colab_type": "code",
        "colab": {}
      },
      "source": [
        "import os\n",
        "start_token = \" \"\n",
        "\n",
        "with open(\"names\") as f:\n",
        "    lines = f.read()[:-1].split('\\n')\n",
        "    lines = [start_token + name for name in lines]"
      ],
      "execution_count": 3,
      "outputs": []
    },
    {
      "cell_type": "code",
      "metadata": {
        "id": "8-PFCaBqDnO6",
        "colab_type": "code",
        "colab": {
          "base_uri": "https://localhost:8080/",
          "height": 84
        },
        "outputId": "233860fe-37e9-4535-f4af-717ad8dd1e2c"
      },
      "source": [
        "print(len(lines))\n",
        "print(lines[0])\n",
        "print(lines[0:3])\n",
        "print(lines[::1000]) #every X element\n"
      ],
      "execution_count": 4,
      "outputs": [
        {
          "output_type": "stream",
          "text": [
            "7944\n",
            " Abagael\n",
            "[' Abagael', ' Abagail', ' Abbe']\n",
            "[' Abagael', ' Claresta', ' Glory', ' Liliane', ' Prissie', ' Geeta', ' Giovanne', ' Piggy']\n"
          ],
          "name": "stdout"
        }
      ]
    },
    {
      "cell_type": "code",
      "metadata": {
        "id": "oZtJJr1P4_Im",
        "colab_type": "code",
        "colab": {
          "base_uri": "https://localhost:8080/",
          "height": 168
        },
        "outputId": "1ec2201b-c1db-410a-e189-5168e4ada29a"
      },
      "source": [
        "print('n samples = ', len(lines))\n",
        "for x in lines[::1000]:\n",
        "    print(x)"
      ],
      "execution_count": 5,
      "outputs": [
        {
          "output_type": "stream",
          "text": [
            "n samples =  7944\n",
            " Abagael\n",
            " Claresta\n",
            " Glory\n",
            " Liliane\n",
            " Prissie\n",
            " Geeta\n",
            " Giovanne\n",
            " Piggy\n"
          ],
          "name": "stdout"
        }
      ]
    },
    {
      "cell_type": "code",
      "metadata": {
        "id": "kKIlhzvO4_Ip",
        "colab_type": "code",
        "colab": {
          "base_uri": "https://localhost:8080/",
          "height": 449
        },
        "outputId": "2858b27b-2fb9-4c24-95e7-14756a2d8820"
      },
      "source": [
        "MAX_LENGTH = max(map(len, lines))\n",
        "print(\"max length =\", MAX_LENGTH)\n",
        "\n",
        "plt.title('Sequence length distribution')\n",
        "plt.hist(list(map(len, lines)), bins=25)"
      ],
      "execution_count": 6,
      "outputs": [
        {
          "output_type": "stream",
          "text": [
            "max length = 16\n"
          ],
          "name": "stdout"
        },
        {
          "output_type": "execute_result",
          "data": {
            "text/plain": [
              "(array([1.900e+01, 2.720e+02, 0.000e+00, 9.260e+02, 0.000e+00, 1.878e+03,\n",
              "        0.000e+00, 2.049e+03, 0.000e+00, 1.447e+03, 0.000e+00, 8.460e+02,\n",
              "        0.000e+00, 3.510e+02, 0.000e+00, 1.160e+02, 0.000e+00, 2.400e+01,\n",
              "        0.000e+00, 1.000e+01, 0.000e+00, 3.000e+00, 0.000e+00, 1.000e+00,\n",
              "        2.000e+00]),\n",
              " array([ 3.  ,  3.52,  4.04,  4.56,  5.08,  5.6 ,  6.12,  6.64,  7.16,\n",
              "         7.68,  8.2 ,  8.72,  9.24,  9.76, 10.28, 10.8 , 11.32, 11.84,\n",
              "        12.36, 12.88, 13.4 , 13.92, 14.44, 14.96, 15.48, 16.  ]),\n",
              " <a list of 25 Patch objects>)"
            ]
          },
          "metadata": {
            "tags": []
          },
          "execution_count": 6
        },
        {
          "output_type": "display_data",
          "data": {
            "image/png": "[encoded data removed]",
            "text/plain": [
              "<Figure size 432x288 with 1 Axes>"
            ]
          },
          "metadata": {
            "tags": [],
            "needs_background": "light"
          }
        }
      ]
    },
    {
      "cell_type": "markdown",
      "metadata": {
        "id": "eyv3inms4_It",
        "colab_type": "text"
      },
      "source": [
        "# Text processing\n",
        "\n",
        "First we need next to collect a \"vocabulary\" of all unique tokens i.e. unique characters. We can then encode inputs as a sequence of character ids."
      ]
    },
    {
      "cell_type": "code",
      "metadata": {
        "id": "GSVERUQ7vyeS",
        "colab_type": "code",
        "colab": {
          "base_uri": "https://localhost:8080/",
          "height": 54
        },
        "outputId": "783384d0-de6f-4bc2-c2a8-ad0edab8db42"
      },
      "source": [
        "tokens = []\n",
        "l = [list(np.unique([x for x in word])) for word in lines]\n",
        "for word in lines:\n",
        "    l = list(np.unique([x for x in word]))\n",
        "    tokens = list(np.unique(tokens + l))\n",
        "\n",
        "print(tokens)"
      ],
      "execution_count": 7,
      "outputs": [
        {
          "output_type": "stream",
          "text": [
            "[' ', \"'\", '-', 'A', 'B', 'C', 'D', 'E', 'F', 'G', 'H', 'I', 'J', 'K', 'L', 'M', 'N', 'O', 'P', 'Q', 'R', 'S', 'T', 'U', 'V', 'W', 'X', 'Y', 'Z', 'a', 'b', 'c', 'd', 'e', 'f', 'g', 'h', 'i', 'j', 'k', 'l', 'm', 'n', 'o', 'p', 'q', 'r', 's', 't', 'u', 'v', 'w', 'x', 'y', 'z']\n"
          ],
          "name": "stdout"
        }
      ]
    },
    {
      "cell_type": "code",
      "metadata": {
        "id": "PDuj7_JM4_It",
        "colab_type": "code",
        "colab": {
          "base_uri": "https://localhost:8080/",
          "height": 34
        },
        "outputId": "756a7414-c8f8-4d2a-89f3-85e9372138bd"
      },
      "source": [
        "# get all unique characters from lines (including capital letters and symbols)\n",
        "tokens = []\n",
        "l = [list(np.unique([x for x in word])) for word in lines]\n",
        "for word in lines:\n",
        "    l = list(np.unique([x for x in word]))\n",
        "    tokens = list(np.unique(tokens + l))\n",
        "\n",
        "n_tokens = len(tokens)\n",
        "print('n_tokens = ', n_tokens)\n",
        "\n",
        "assert 50 < n_tokens < 60"
      ],
      "execution_count": 8,
      "outputs": [
        {
          "output_type": "stream",
          "text": [
            "n_tokens =  55\n"
          ],
          "name": "stdout"
        }
      ]
    },
    {
      "cell_type": "markdown",
      "metadata": {
        "id": "KpM6znke4_Iw",
        "colab_type": "text"
      },
      "source": [
        "### Cast everything from symbols into identifiers\n",
        "\n",
        "Tensorflow string manipulation is a bit tricky, so we'll work around it. \n",
        "We'll feed our recurrent neural network with ids of characters from our dictionary.\n",
        "\n",
        "To create such dictionary, let's assign each character with it's index in tokens list."
      ]
    },
    {
      "cell_type": "code",
      "metadata": {
        "id": "ZPutMUor4_Ix",
        "colab_type": "code",
        "colab": {}
      },
      "source": [
        "# dictionary of symbol -> its identifier (index in tokens list)\n",
        "token_to_id = {x:i for i,x in enumerate(tokens)}"
      ],
      "execution_count": 9,
      "outputs": []
    },
    {
      "cell_type": "code",
      "metadata": {
        "id": "c-NVRPuF4_I1",
        "colab_type": "code",
        "colab": {
          "base_uri": "https://localhost:8080/",
          "height": 34
        },
        "outputId": "a9ae4544-90f7-4135-9293-1701d1d20bba"
      },
      "source": [
        "assert len(tokens) == len(token_to_id), \"dictionaries must have same size\"\n",
        "for i in range(n_tokens):\n",
        "    assert token_to_id[tokens[i]] == i, \"token identifier must be it's position in tokens list\"\n",
        "\n",
        "print(\"Seems alright!\")"
      ],
      "execution_count": 10,
      "outputs": [
        {
          "output_type": "stream",
          "text": [
            "Seems alright!\n"
          ],
          "name": "stdout"
        }
      ]
    },
    {
      "cell_type": "code",
      "metadata": {
        "id": "bq-qBWH64_I5",
        "colab_type": "code",
        "colab": {}
      },
      "source": [
        "def to_matrix(names, max_len=None, pad=token_to_id[' '], dtype='int32'):\n",
        "    \"\"\"Casts a list of names into rnn-digestable matrix\"\"\"\n",
        "    max_len = max_len or max(map(len, names))\n",
        "    names_ix = np.zeros([len(names), max_len], dtype) + pad\n",
        "\n",
        "    for i in range(len(names)):\n",
        "        name_ix = list(map(token_to_id.get, names[i]))\n",
        "        names_ix[i, :len(name_ix)] = name_ix\n",
        "\n",
        "    return names_ix"
      ],
      "execution_count": 11,
      "outputs": []
    },
    {
      "cell_type": "code",
      "metadata": {
        "id": "CNlKXeng4_I9",
        "colab_type": "code",
        "colab": {
          "base_uri": "https://localhost:8080/",
          "height": 151
        },
        "outputId": "cb25079b-9517-40e1-9351-2e04a6f80448"
      },
      "source": [
        "# Example: cast 4 random names to matrices, pad with zeros\n",
        "print('\\n'.join(lines[::2000]))\n",
        "print(to_matrix(lines[::2000]))"
      ],
      "execution_count": 12,
      "outputs": [
        {
          "output_type": "stream",
          "text": [
            " Abagael\n",
            " Glory\n",
            " Prissie\n",
            " Giovanne\n",
            "[[ 0  3 30 29 35 29 33 40  0]\n",
            " [ 0  9 40 43 46 53  0  0  0]\n",
            " [ 0 18 46 37 47 47 37 33  0]\n",
            " [ 0  9 37 43 50 29 42 42 33]]\n"
          ],
          "name": "stdout"
        }
      ]
    },
    {
      "cell_type": "markdown",
      "metadata": {
        "id": "uxP_APIV4_I_",
        "colab_type": "text"
      },
      "source": [
        "# Recurrent neural network\n",
        "\n",
        "We can rewrite recurrent neural network as a consecutive application of dense layer to input $x_t$ and previous rnn state $h_t$. This is exactly what we're gonna do now.\n",
        "<img src=\"https://github.com/yandexdataschool/Practical_RL/blob/master/week07_%5Brecap%5D_rnn/rnn.png?raw=1\" width=480>\n",
        "\n",
        "Since we're training a language model, there should also be:\n",
        "* An embedding layer that converts character ids x_t to a vector.\n",
        "* An output layer that predicts probabilities of next token"
      ]
    },
    {
      "cell_type": "code",
      "metadata": {
        "id": "u3AbSJet4_JA",
        "colab_type": "code",
        "colab": {
          "base_uri": "https://localhost:8080/",
          "height": 138
        },
        "outputId": "c5ee1fd5-8f1f-44b4-8241-b679aacd54a1"
      },
      "source": [
        "import tensorflow.compat.v1 as tf\n",
        "tf.disable_v2_behavior()\n",
        "\n",
        "import keras\n",
        "import keras.layers as L\n",
        "\n",
        "emb_size, rnn_size = 16, 64\n",
        "\n",
        "# an embedding layer that converts character ids into embeddings\n",
        "embed_x = L.Embedding(n_tokens, emb_size)\n",
        "\n",
        "# a dense layer that maps input and previous state to new hidden state, [x_t,h_t] -> h_t+1\n",
        "get_h_next = L.Dense(rnn_size, activation='tanh')\n",
        "\n",
        "# a dense layer that maps current hidden state to probabilities of characters [h_t+1]->P(x_t+1|h_t+1)\n",
        "get_probas = L.Dense(n_tokens, activation='softmax')"
      ],
      "execution_count": 13,
      "outputs": [
        {
          "output_type": "stream",
          "text": [
            "WARNING:tensorflow:From /usr/local/lib/python3.6/dist-packages/tensorflow/python/compat/v2_compat.py:96: disable_resource_variables (from tensorflow.python.ops.variable_scope) is deprecated and will be removed in a future version.\n",
            "Instructions for updating:\n",
            "non-resource variables are not supported in the long term\n",
            "WARNING:tensorflow:From /usr/local/lib/python3.6/dist-packages/tensorflow/python/keras/initializers/initializers_v1.py:59: calling RandomUniform.__init__ (from tensorflow.python.ops.init_ops) with dtype is deprecated and will be removed in a future version.\n",
            "Instructions for updating:\n",
            "Call initializer instance with the dtype argument instead of passing it to the constructor\n"
          ],
          "name": "stdout"
        }
      ]
    },
    {
      "cell_type": "code",
      "metadata": {
        "id": "xI7hcpgIq_CG",
        "colab_type": "code",
        "colab": {}
      },
      "source": [
        "# Our Goal is to design the following algo:\n",
        "\n",
        "# input:     ivan\n",
        "# answer:    [one_hot(v),           one_hot(a),        one_hot(n)]\n",
        "# predicted: [rnn_1(emb(i)), rnn_2(emb(v),h_1), rnn_3(emb(a),h_2), rnn_3(emb(n),h_3)]"
      ],
      "execution_count": null,
      "outputs": []
    },
    {
      "cell_type": "code",
      "metadata": {
        "id": "eQuoNnYz4_JC",
        "colab_type": "code",
        "colab": {}
      },
      "source": [
        "def rnn_one_step(x_t, h_t):\n",
        "    \"\"\"\n",
        "    Recurrent neural network step that produces next state and output\n",
        "    given prev input and previous state.\n",
        "    We'll call this method repeatedly to produce the whole sequence.\n",
        "    :param x_t: token vector, int32[batch_size,]\n",
        "    :param h_t: previous state matrix, float32[batch_size, rnn_size]\n",
        "\n",
        "    Follow isntructions to complete the function.\n",
        "    \"\"\"\n",
        "    #batch_size = x_t.shape[0]\n",
        "    #print('batch_size: ', batch_size)\n",
        "\n",
        "    # 1. convert character id into embedding (use embed_x layer)\n",
        "    x_t_emb = embed_x(tf.reshape(x_t, [-1, 1]))[:, 0]\n",
        "    #print('x_t_emb: ', x_t_emb.shape)\n",
        "    \n",
        "    # 2. concatenate x _embedding_ and previous h state (over last axis)\n",
        "    r_t = tf.concat((x_t_emb, h_t), axis=-1)\n",
        "    #print('r_t: ', r_t.shape)\n",
        "\n",
        "    # 3. compute next state given h and x embedding\n",
        "    next_h = get_h_next(r_t)\n",
        "    #print('next_h: ', next_h.shape)\n",
        "\n",
        "    # 4. get probabilities for language model P(x_next | h_next)\n",
        "    next_probas = get_probas(next_h)\n",
        "    #print('next_probas: ', next_probas)\n",
        "\n",
        "    return next_h, next_probas"
      ],
      "execution_count": 14,
      "outputs": []
    },
    {
      "cell_type": "code",
      "metadata": {
        "id": "RTN0S6v94_JG",
        "colab_type": "code",
        "colab": {}
      },
      "source": [
        "input_sequence = tf.placeholder('int32', (None, MAX_LENGTH))\n",
        "batch_size = tf.shape(input_sequence)[0]\n",
        "\n",
        "# initial hidden state\n",
        "h0 = tf.zeros([batch_size, rnn_size])"
      ],
      "execution_count": 15,
      "outputs": []
    },
    {
      "cell_type": "code",
      "metadata": {
        "id": "3SdrjEgq4_JJ",
        "colab_type": "code",
        "colab": {}
      },
      "source": [
        "# TEST: single rnn step\n",
        "h1, p_y1 = rnn_one_step(input_sequence[:, 0], h0)\n",
        "\n",
        "dummy_data = np.arange(MAX_LENGTH * 2).reshape([2, -1])\n",
        "\n",
        "sess = tf.InteractiveSession()\n",
        "sess.run(tf.global_variables_initializer())\n",
        "\n",
        "test_h1, test_p_y1 = sess.run([h1, p_y1],  {input_sequence: dummy_data})\n",
        "\n",
        "assert test_h1.shape == (len(dummy_data), rnn_size)\n",
        "assert test_p_y1.shape == (len(dummy_data), n_tokens) and np.allclose(test_p_y1.sum(-1), 1)"
      ],
      "execution_count": 16,
      "outputs": []
    },
    {
      "cell_type": "markdown",
      "metadata": {
        "id": "AeerxlfM4_JS",
        "colab_type": "text"
      },
      "source": [
        "### RNN loop\n",
        "\n",
        "Once rnn_one_step is ready, let's apply it in a loop over name characters to get predictions.\n",
        "\n",
        "Let's assume that all names are at most of length 16 for now, so we can simply iterate over them in a for loop.\n",
        "\n",
        "\n"
      ]
    },
    {
      "cell_type": "code",
      "metadata": {
        "id": "f4KoNutS4_JT",
        "colab_type": "code",
        "colab": {}
      },
      "source": [
        "h_prev = h0\n",
        "temp_predicted_probas = []\n",
        "\n",
        "for t in range(MAX_LENGTH):\n",
        "    x_t = input_sequence[:, t]\n",
        "\n",
        "    # Task: compute next token probas and next hidden state\n",
        "    h_next, probas_next = rnn_one_step(x_t, h_prev)\n",
        "    # END OF YOUR CODE\n",
        "\n",
        "    temp_predicted_probas.append(probas_next)\n",
        "    h_prev = h_next\n",
        "\n",
        "predicted_probas = tf.stack(temp_predicted_probas, axis=1)"
      ],
      "execution_count": 17,
      "outputs": []
    },
    {
      "cell_type": "code",
      "metadata": {
        "id": "DBlA6WF14_JY",
        "colab_type": "code",
        "colab": {}
      },
      "source": [
        "assert predicted_probas.shape.as_list() == [None, MAX_LENGTH, n_tokens]\n",
        "assert h_prev.shape.as_list() == h0.shape.as_list()"
      ],
      "execution_count": 18,
      "outputs": []
    },
    {
      "cell_type": "markdown",
      "metadata": {
        "id": "q2rzytoh4_Jb",
        "colab_type": "text"
      },
      "source": [
        "## RNN: loss and gradients\n",
        "\n",
        "Let's gather a matrix of predictions for $P(x_{next}|h)$ and the corresponding correct answers.\n",
        "\n",
        "Our network can then be trained by minimizing crossentropy between predicted probabilities and those answers."
      ]
    },
    {
      "cell_type": "code",
      "metadata": {
        "id": "3uUbKnFC4_Jc",
        "colab_type": "code",
        "colab": {
          "base_uri": "https://localhost:8080/",
          "height": 50
        },
        "outputId": "906aa02b-0909-401f-8ab0-a2981736deb2"
      },
      "source": [
        "# input:     ivan\n",
        "# answer:    [one_hot(v), one_hot(a), one_hot(n)] )\n",
        "# predicted: [dist(x), dist(y), dist(z)]\n",
        "\n",
        "predictions_matrix = predicted_probas[:, :-1]\n",
        "answers_matrix = tf.one_hot(input_sequence[:, 1:], n_tokens)\n",
        "\n",
        "print('predictions_matrix:', predictions_matrix.shape)\n",
        "print('answers_matrix:', predictions_matrix.shape)"
      ],
      "execution_count": 19,
      "outputs": [
        {
          "output_type": "stream",
          "text": [
            "predictions_matrix: (?, 15, 55)\n",
            "answers_matrix: (?, 15, 55)\n"
          ],
          "name": "stdout"
        }
      ]
    },
    {
      "cell_type": "code",
      "metadata": {
        "id": "yWaOYQ9u4_Jf",
        "colab_type": "code",
        "colab": {}
      },
      "source": [
        "# define loss as categorical crossentropy. Mind that predictions are probabilities and NOT logits!\n",
        "loss = tf.reduce_mean(tf.keras.losses.categorical_crossentropy(\n",
        "    answers_matrix, predictions_matrix, from_logits=False))\n",
        "\n",
        "optimize = tf.train.AdamOptimizer().minimize(loss)"
      ],
      "execution_count": 20,
      "outputs": []
    },
    {
      "cell_type": "markdown",
      "metadata": {
        "id": "nFoWTiIz4_Ji",
        "colab_type": "text"
      },
      "source": [
        "### The training loop"
      ]
    },
    {
      "cell_type": "code",
      "metadata": {
        "id": "BpCdSwQF4_Jj",
        "colab_type": "code",
        "colab": {}
      },
      "source": [
        "from IPython.display import clear_output\n",
        "from random import sample\n",
        "sess.run(tf.global_variables_initializer())\n",
        "\n",
        "history = []"
      ],
      "execution_count": 21,
      "outputs": []
    },
    {
      "cell_type": "code",
      "metadata": {
        "id": "uVQkeCbA4_Jm",
        "colab_type": "code",
        "colab": {
          "base_uri": "https://localhost:8080/",
          "height": 265
        },
        "outputId": "f2d1e6a9-6f4d-46f5-c469-58313361bb45"
      },
      "source": [
        "for i in range(6000):\n",
        "    batch = to_matrix(sample(lines, 32), max_len=MAX_LENGTH)\n",
        "\n",
        "    loss_i, _ = sess.run([loss, optimize], {input_sequence: batch})\n",
        "\n",
        "    history.append(loss_i)\n",
        "    if (i+1) % 100 == 0:\n",
        "        clear_output(True)\n",
        "        plt.plot(history, label='loss')\n",
        "        plt.legend()\n",
        "        plt.show()\n",
        "\n",
        "assert np.mean(history[:10]) > np.mean(history[-10:]), \"RNN didn't converge.\""
      ],
      "execution_count": 22,
      "outputs": [
        {
          "output_type": "display_data",
          "data": {
            "image/png": "[encoded data removed]",
            "text/plain": [
              "<Figure size 432x288 with 1 Axes>"
            ]
          },
          "metadata": {
            "tags": [],
            "needs_background": "light"
          }
        }
      ]
    },
    {
      "cell_type": "markdown",
      "metadata": {
        "id": "qsI06Dnb4_Jo",
        "colab_type": "text"
      },
      "source": [
        "### RNN: sampling\n",
        "Once we've trained our network a bit, let's get to actually generating stuff. All we need is the `rnn_one_step` function you have written above."
      ]
    },
    {
      "cell_type": "code",
      "metadata": {
        "id": "41_VjOJH4_Jp",
        "colab_type": "code",
        "colab": {}
      },
      "source": [
        "x_t = tf.placeholder('int32', (None,))\n",
        "h_t = tf.Variable(np.zeros([1, rnn_size], 'float32'))\n",
        "\n",
        "next_h, next_probs = rnn_one_step(x_t, h_t)"
      ],
      "execution_count": 23,
      "outputs": []
    },
    {
      "cell_type": "code",
      "metadata": {
        "id": "Qab5Jt-Z4_Jr",
        "colab_type": "code",
        "colab": {}
      },
      "source": [
        "def generate_sample(seed_phrase=' ', max_length=MAX_LENGTH):\n",
        "    '''\n",
        "    The function generates text given a phrase of length at least SEQ_LENGTH.\n",
        "    :param seed_phrase: prefix characters. The RNN is asked to continue the phrase\n",
        "    :param max_length: maximum output length, including seed_phrase\n",
        "    :param temperature: coefficient for sampling.  higher temperature produces more chaotic outputs,\n",
        "                        smaller temperature converges to the single most likely output\n",
        "    '''\n",
        "    x_sequence = [token_to_id[token] for token in seed_phrase]\n",
        "    sess.run(tf.variables_initializer([h_t]))\n",
        "\n",
        "    # feed the seed phrase, if any\n",
        "    for ix in x_sequence[:-1]:\n",
        "        sess.run(tf.assign(h_t, next_h), {x_t: [ix]})\n",
        "\n",
        "    # start generating\n",
        "    for _ in range(max_length - len(seed_phrase)):\n",
        "        x_probs, _ = sess.run([next_probs, tf.assign(h_t, next_h)], {\n",
        "                              x_t: [x_sequence[-1]]})\n",
        "        x_sequence.append(np.random.choice(n_tokens, p=x_probs[0]))\n",
        "\n",
        "    return ''.join([tokens[ix] for ix in x_sequence])"
      ],
      "execution_count": 24,
      "outputs": []
    },
    {
      "cell_type": "code",
      "metadata": {
        "id": "kWWGeRGp4_Jv",
        "colab_type": "code",
        "colab": {
          "base_uri": "https://localhost:8080/",
          "height": 185
        },
        "outputId": "1d2c613b-2e22-41c0-e3f3-7e0f444155f0"
      },
      "source": [
        "for _ in range(10):\n",
        "    print(generate_sample())"
      ],
      "execution_count": 25,
      "outputs": [
        {
          "output_type": "stream",
          "text": [
            " Morill         \n",
            " Shari          \n",
            " Ausila         \n",
            " Windald        \n",
            " Berry          \n",
            " Redgoe         \n",
            " Linn           \n",
            " Durnah         \n",
            " Kio            \n",
            " Mawl           \n"
          ],
          "name": "stdout"
        }
      ]
    },
    {
      "cell_type": "code",
      "metadata": {
        "id": "BM6t_xLd4_J0",
        "colab_type": "code",
        "colab": {
          "base_uri": "https://localhost:8080/",
          "height": 353
        },
        "outputId": "62555dad-39e0-4591-dfb7-a17da2be5ed8"
      },
      "source": [
        "for _ in range(20):\n",
        "    print(generate_sample(' Trump'))"
      ],
      "execution_count": 26,
      "outputs": [
        {
          "output_type": "stream",
          "text": [
            " Trumpha        \n",
            " Trumphy        \n",
            " Trumpyn        \n",
            " Trumphett      \n",
            " Trumph         \n",
            " Trumphere      \n",
            " Trumpiel       \n",
            " Trumprilu      \n",
            " Trumpie        \n",
            " Trumpir        \n",
            " Trumpie        \n",
            " Trumpi         \n",
            " Trumpup        \n",
            " Trumph         \n",
            " Trumpe         \n",
            " Trumpil        \n",
            " Trumphi        \n",
            " Trumpastt      \n",
            " Trumpon        \n",
            " Trumpie        \n"
          ],
          "name": "stdout"
        }
      ]
    },
    {
      "cell_type": "markdown",
      "metadata": {
        "id": "H4bcztpP4_J5",
        "colab_type": "text"
      },
      "source": [
        "### Try it out!\n",
        "You've just implemented a recurrent language model that can be tasked with generating any kind of sequence, so there's plenty of data you can try it on:\n",
        "\n",
        "* Novels/poems/songs of your favorite author\n",
        "* News titles/clickbait titles\n",
        "* Source code of Linux or Tensorflow\n",
        "* Molecules in [smiles](https://en.wikipedia.org/wiki/Simplified_molecular-input_line-entry_system) format\n",
        "* Melody in notes/chords format\n",
        "* Ikea catalog titles\n",
        "* Pokemon names\n",
        "* Cards from Magic, the Gathering / Hearthstone\n",
        "\n",
        "If you're willing to give it a try, here's what you wanna look at:\n",
        "* Current data format is a sequence of lines, so a novel can be formatted as a list of sentences. Alternatively, you can change data preprocessing altogether.\n",
        "* While some datasets are readily available, others can only be scraped from the web. Try `Selenium` or `Scrapy` for that.\n",
        "* Make sure MAX_LENGTH is adjusted for longer datasets. There's also a bonus section about dynamic RNNs at the bottom.\n",
        "* More complex tasks require larger RNN architecture, try more neurons or several layers. It would also require more training iterations.\n",
        "* Long-term dependencies in music, novels or molecules are better handled with LSTM or GRU\n",
        "\n",
        "__Good hunting!__"
      ]
    },
    {
      "cell_type": "code",
      "metadata": {
        "id": "GgHJJfXsFPwR",
        "colab_type": "code",
        "colab": {
          "base_uri": "https://localhost:8080/",
          "height": 470
        },
        "outputId": "e5d02a86-cb18-47c1-e28e-84c2e99ebbbd"
      },
      "source": [
        "# np.reshape\n",
        "\n",
        "arr = np.array([[[11,22,33], [44,55,66]], [[1,2,3], [4,5,6]]])\n",
        "\n",
        "x = np.reshape(arr, -1)\n",
        "print(x)\n",
        "print()\n",
        "x = np.reshape(arr, [-1, 1])\n",
        "print(x)\n",
        "print()\n",
        "x = np.reshape(arr, [-1, 2])\n",
        "print(x)\n",
        "print()\n",
        "x = np.reshape(arr, [1, -1])\n",
        "print(x)\n",
        "print()\n",
        "x = np.reshape(arr, [2, -1])\n",
        "print(x)\n",
        "print()"
      ],
      "execution_count": 27,
      "outputs": [
        {
          "output_type": "stream",
          "text": [
            "[11 22 33 44 55 66  1  2  3  4  5  6]\n",
            "\n",
            "[[11]\n",
            " [22]\n",
            " [33]\n",
            " [44]\n",
            " [55]\n",
            " [66]\n",
            " [ 1]\n",
            " [ 2]\n",
            " [ 3]\n",
            " [ 4]\n",
            " [ 5]\n",
            " [ 6]]\n",
            "\n",
            "[[11 22]\n",
            " [33 44]\n",
            " [55 66]\n",
            " [ 1  2]\n",
            " [ 3  4]\n",
            " [ 5  6]]\n",
            "\n",
            "[[11 22 33 44 55 66  1  2  3  4  5  6]]\n",
            "\n",
            "[[11 22 33 44 55 66]\n",
            " [ 1  2  3  4  5  6]]\n",
            "\n"
          ],
          "name": "stdout"
        }
      ]
    },
    {
      "cell_type": "code",
      "metadata": {
        "id": "yrJtzaO-L2nP",
        "colab_type": "code",
        "colab": {
          "base_uri": "https://localhost:8080/",
          "height": 286
        },
        "outputId": "f9e4a674-02c4-4463-e09d-9a60744c7c3a"
      },
      "source": [
        "x = np.arange(MAX_LENGTH * 2)\n",
        "print(x)\n",
        "x = x.reshape([2, -1])\n",
        "print(x)\n",
        "print(x[:,0])\n",
        "print()\n",
        "\n",
        "y = embed_x(tf.reshape(x[:,0], [-1, 1]))\n",
        "print('y: ', y)\n",
        "print(y.shape)\n",
        "print()\n",
        "\n",
        "print('y[:,0]: ', y[:,0])\n",
        "print(y[:,0].shape)\n",
        "print()\n",
        "\n",
        "ht = tf.reshape(tf.range(rnn_size, dtype='float32'), (1,-1))\n",
        "print('h_t: ',ht)\n",
        "z = tf.tile( ht, (y[:,0].shape[0], 1) )\n",
        "print('z: ', z)\n",
        "print(z.shape)\n",
        "\n",
        "rt = tf.concat((y[:,0],z),axis=-1)\n",
        "print('rt: ', rt)"
      ],
      "execution_count": 28,
      "outputs": [
        {
          "output_type": "stream",
          "text": [
            "[ 0  1  2  3  4  5  6  7  8  9 10 11 12 13 14 15 16 17 18 19 20 21 22 23\n",
            " 24 25 26 27 28 29 30 31]\n",
            "[[ 0  1  2  3  4  5  6  7  8  9 10 11 12 13 14 15]\n",
            " [16 17 18 19 20 21 22 23 24 25 26 27 28 29 30 31]]\n",
            "[ 0 16]\n",
            "\n",
            "y:  Tensor(\"embedding_18/embedding_lookup/Identity_1:0\", shape=(2, 1, 16), dtype=float32)\n",
            "(2, 1, 16)\n",
            "\n",
            "y[:,0]:  Tensor(\"strided_slice_38:0\", shape=(2, 16), dtype=float32)\n",
            "(2, 16)\n",
            "\n",
            "h_t:  Tensor(\"Reshape_19:0\", shape=(1, 64), dtype=float32)\n",
            "z:  Tensor(\"Tile:0\", shape=(2, 64), dtype=float32)\n",
            "(2, 64)\n",
            "rt:  Tensor(\"concat_18:0\", shape=(2, 80), dtype=float32)\n"
          ],
          "name": "stdout"
        }
      ]
    },
    {
      "cell_type": "markdown",
      "metadata": {
        "id": "rt_7x7gr4_J6",
        "colab_type": "text"
      },
      "source": [
        "### Coming next\n",
        "\n",
        "* The easy way to train recurrent neural networks in Keras\n",
        "* Other problems solved with RNNs: sequence classification, sequential labelling\n",
        "* LSTM, GRU, OMGWTF\n",
        "\n",
        "```\n",
        "\n",
        "```\n",
        "```\n",
        "\n",
        "```\n",
        "```\n",
        "\n",
        "```\n",
        "```\n",
        "\n",
        "```\n",
        "```\n",
        "\n",
        "```\n",
        "```\n",
        "\n",
        "```"
      ]
    },
    {
      "cell_type": "markdown",
      "metadata": {
        "id": "D21l1DGO4_J7",
        "colab_type": "text"
      },
      "source": [
        "### Bonus level: dynamic RNNs\n",
        "\n",
        "Apart from keras, there's also a friendly tensorflow API for recurrent neural nets. It's based around the symbolic loop function (aka [scan](https://www.tensorflow.org/api_docs/python/tf/scan)).\n",
        "\n",
        "This interface allows for dynamic sequence length and comes with some pre-implemented architectures."
      ]
    },
    {
      "cell_type": "code",
      "metadata": {
        "id": "TcYAOPV6qHAc",
        "colab_type": "code",
        "colab": {}
      },
      "source": [
        "class CustomRNN(tf.nn.rnn_cell.BasicRNNCell):\n",
        "    def call(self, input, state):\n",
        "        return rnn_one_step(input[:, 0], state)\n",
        "\n",
        "    @property\n",
        "    def output_size(self):\n",
        "        return n_tokens\n",
        "\n",
        "\n",
        "cell = CustomRNN(rnn_size)\n",
        "\n",
        "input_sequence = tf.placeholder('int32', (None, None))\n",
        "\n",
        "predicted_probas, last_state = tf.nn.dynamic_rnn(cell, input_sequence[:, :, None],\n",
        "                                                 time_major=False, dtype='float32')\n",
        "\n",
        "print predicted_probas.eval({input_sequence: to_matrix(names[:10], max_len=50)}).shape"
      ],
      "execution_count": null,
      "outputs": []
    },
    {
      "cell_type": "markdown",
      "metadata": {
        "id": "STjQEMuH4_KA",
        "colab_type": "text"
      },
      "source": [
        "Note that we never used MAX_LENGTH in the code above: TF will iterate over however many time-steps you gave it.\n",
        "\n",
        "You can also use the all the pre-implemented RNN cells:"
      ]
    },
    {
      "cell_type": "code",
      "metadata": {
        "id": "op-cIMgW4_KC",
        "colab_type": "code",
        "colab": {}
      },
      "source": [
        "for obj in dir(tf.nn.rnn_cell)+dir(tf.contrib.rnn):\n",
        "    if obj.endswith('Cell'):\n",
        "        print(obj)"
      ],
      "execution_count": null,
      "outputs": []
    },
    {
      "cell_type": "code",
      "metadata": {
        "id": "J3ATy1WW4_KE",
        "colab_type": "code",
        "colab": {}
      },
      "source": [
        "input_sequence = tf.placeholder('int32', (None, None))\n",
        "\n",
        "inputs_embedded = embed_x(input_sequence)\n",
        "\n",
        "cell = tf.nn.rnn_cell.LSTMCell(rnn_num_units)\n",
        "\n",
        "state_sequence, last_state = tf.nn.dynamic_rnn(\n",
        "    cell, inputs_embedded, dtype='float32')\n",
        "\n",
        "print('LSTM visible states[batch, time, unit]:', state_sequence)"
      ],
      "execution_count": null,
      "outputs": []
    }
  ]
}