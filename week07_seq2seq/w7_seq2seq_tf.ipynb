{
  "nbformat": 4,
  "nbformat_minor": 0,
  "metadata": {
    "colab": {
      "name": "w7_seq2seq_tf.ipynb",
      "provenance": [],
      "collapsed_sections": [
        "7h9ObV0Xtglh"
      ]
    },
    "kernelspec": {
      "name": "python3",
      "display_name": "Python 3"
    },
    "accelerator": "GPU"
  },
  "cells": [
    {
      "cell_type": "code",
      "metadata": {
        "id": "lYkijTgztgkU",
        "colab_type": "code",
        "colab": {
          "base_uri": "https://localhost:8080/",
          "height": 1000
        },
        "outputId": "e13ef073-ab16-4dbe-c3aa-d057cd11d179"
      },
      "source": [
        "import sys, os\n",
        "if 'google.colab' in sys.modules:\n",
        "    # https://github.com/yandexdataschool/Practical_RL/issues/256\n",
        "    !pip uninstall tensorflow --yes\n",
        "    !pip uninstall keras --yes\n",
        "    !pip install tensorflow-gpu==1.13.1\n",
        "    !pip install keras==2.2.4\n",
        "    \n",
        "    if not os.path.exists('.setup_complete'):\n",
        "        !wget -q https://raw.githubusercontent.com/yandexdataschool/Practical_RL/master/setup_colab.sh -O- | bash\n",
        "\n",
        "        !wget -q https://raw.githubusercontent.com/yandexdataschool/Practical_RL/master/week07_seq2seq/basic_model_tf.py\n",
        "        !wget -q https://raw.githubusercontent.com/yandexdataschool/Practical_RL/master/week07_seq2seq/he-pron-wiktionary.txt\n",
        "        !wget -q https://raw.githubusercontent.com/yandexdataschool/Practical_RL/master/week07_seq2seq/main_dataset.txt\n",
        "        !wget -q https://raw.githubusercontent.com/yandexdataschool/Practical_RL/master/week07_seq2seq/voc.py\n",
        "\n",
        "        !touch .setup_complete\n",
        "\n",
        "# This code creates a virtual display to draw game images on.\n",
        "# It will have no effect if your machine has a monitor.\n",
        "if type(os.environ.get(\"DISPLAY\")) is not str or len(os.environ.get(\"DISPLAY\")) == 0:\n",
        "    !bash ../xvfb start\n",
        "    os.environ['DISPLAY'] = ':1'"
      ],
      "execution_count": 1,
      "outputs": [
        {
          "output_type": "stream",
          "text": [
            "Uninstalling tensorflow-2.3.0:\n",
            "  Successfully uninstalled tensorflow-2.3.0\n",
            "Uninstalling Keras-2.4.3:\n",
            "  Successfully uninstalled Keras-2.4.3\n",
            "Collecting tensorflow-gpu==1.13.1\n",
            "\u001b[?25l  Downloading https://files.pythonhosted.org/packages/7b/b1/0ad4ae02e17ddd62109cd54c291e311c4b5fd09b4d0678d3d6ce4159b0f0/tensorflow_gpu-1.13.1-cp36-cp36m-manylinux1_x86_64.whl (345.2MB)\n",
            "\u001b[K     |████████████████████████████████| 345.2MB 49kB/s \n",
            "\u001b[?25hRequirement already satisfied: wheel>=0.26 in /usr/local/lib/python3.6/dist-packages (from tensorflow-gpu==1.13.1) (0.34.2)\n",
            "Requirement already satisfied: termcolor>=1.1.0 in /usr/local/lib/python3.6/dist-packages (from tensorflow-gpu==1.13.1) (1.1.0)\n",
            "Requirement already satisfied: keras-preprocessing>=1.0.5 in /usr/local/lib/python3.6/dist-packages (from tensorflow-gpu==1.13.1) (1.1.2)\n",
            "Requirement already satisfied: protobuf>=3.6.1 in /usr/local/lib/python3.6/dist-packages (from tensorflow-gpu==1.13.1) (3.12.4)\n",
            "Collecting tensorflow-estimator<1.14.0rc0,>=1.13.0\n",
            "\u001b[?25l  Downloading https://files.pythonhosted.org/packages/bb/48/13f49fc3fa0fdf916aa1419013bb8f2ad09674c275b4046d5ee669a46873/tensorflow_estimator-1.13.0-py2.py3-none-any.whl (367kB)\n",
            "\u001b[K     |████████████████████████████████| 368kB 39.6MB/s \n",
            "\u001b[?25hRequirement already satisfied: six>=1.10.0 in /usr/local/lib/python3.6/dist-packages (from tensorflow-gpu==1.13.1) (1.15.0)\n",
            "Collecting tensorboard<1.14.0,>=1.13.0\n",
            "\u001b[?25l  Downloading https://files.pythonhosted.org/packages/0f/39/bdd75b08a6fba41f098b6cb091b9e8c7a80e1b4d679a581a0ccd17b10373/tensorboard-1.13.1-py3-none-any.whl (3.2MB)\n",
            "\u001b[K     |████████████████████████████████| 3.2MB 56.5MB/s \n",
            "\u001b[?25hRequirement already satisfied: absl-py>=0.1.6 in /usr/local/lib/python3.6/dist-packages (from tensorflow-gpu==1.13.1) (0.9.0)\n",
            "Requirement already satisfied: grpcio>=1.8.6 in /usr/local/lib/python3.6/dist-packages (from tensorflow-gpu==1.13.1) (1.30.0)\n",
            "Collecting keras-applications>=1.0.6\n",
            "\u001b[?25l  Downloading https://files.pythonhosted.org/packages/71/e3/19762fdfc62877ae9102edf6342d71b28fbfd9dea3d2f96a882ce099b03f/Keras_Applications-1.0.8-py3-none-any.whl (50kB)\n",
            "\u001b[K     |████████████████████████████████| 51kB 8.1MB/s \n",
            "\u001b[?25hRequirement already satisfied: numpy>=1.13.3 in /usr/local/lib/python3.6/dist-packages (from tensorflow-gpu==1.13.1) (1.18.5)\n",
            "Requirement already satisfied: astor>=0.6.0 in /usr/local/lib/python3.6/dist-packages (from tensorflow-gpu==1.13.1) (0.8.1)\n",
            "Requirement already satisfied: gast>=0.2.0 in /usr/local/lib/python3.6/dist-packages (from tensorflow-gpu==1.13.1) (0.3.3)\n",
            "Requirement already satisfied: setuptools in /usr/local/lib/python3.6/dist-packages (from protobuf>=3.6.1->tensorflow-gpu==1.13.1) (49.2.0)\n",
            "Collecting mock>=2.0.0\n",
            "  Downloading https://files.pythonhosted.org/packages/cd/74/d72daf8dff5b6566db857cfd088907bb0355f5dd2914c4b3ef065c790735/mock-4.0.2-py3-none-any.whl\n",
            "Requirement already satisfied: werkzeug>=0.11.15 in /usr/local/lib/python3.6/dist-packages (from tensorboard<1.14.0,>=1.13.0->tensorflow-gpu==1.13.1) (1.0.1)\n",
            "Requirement already satisfied: markdown>=2.6.8 in /usr/local/lib/python3.6/dist-packages (from tensorboard<1.14.0,>=1.13.0->tensorflow-gpu==1.13.1) (3.2.2)\n",
            "Requirement already satisfied: h5py in /usr/local/lib/python3.6/dist-packages (from keras-applications>=1.0.6->tensorflow-gpu==1.13.1) (2.10.0)\n",
            "Requirement already satisfied: importlib-metadata; python_version < \"3.8\" in /usr/local/lib/python3.6/dist-packages (from markdown>=2.6.8->tensorboard<1.14.0,>=1.13.0->tensorflow-gpu==1.13.1) (1.7.0)\n",
            "Requirement already satisfied: zipp>=0.5 in /usr/local/lib/python3.6/dist-packages (from importlib-metadata; python_version < \"3.8\"->markdown>=2.6.8->tensorboard<1.14.0,>=1.13.0->tensorflow-gpu==1.13.1) (3.1.0)\n",
            "Installing collected packages: mock, tensorflow-estimator, tensorboard, keras-applications, tensorflow-gpu\n",
            "  Found existing installation: tensorflow-estimator 2.3.0\n",
            "    Uninstalling tensorflow-estimator-2.3.0:\n",
            "      Successfully uninstalled tensorflow-estimator-2.3.0\n",
            "  Found existing installation: tensorboard 2.3.0\n",
            "    Uninstalling tensorboard-2.3.0:\n",
            "      Successfully uninstalled tensorboard-2.3.0\n",
            "Successfully installed keras-applications-1.0.8 mock-4.0.2 tensorboard-1.13.1 tensorflow-estimator-1.13.0 tensorflow-gpu-1.13.1\n",
            "Collecting keras==2.2.4\n",
            "\u001b[?25l  Downloading https://files.pythonhosted.org/packages/5e/10/aa32dad071ce52b5502266b5c659451cfd6ffcbf14e6c8c4f16c0ff5aaab/Keras-2.2.4-py2.py3-none-any.whl (312kB)\n",
            "\u001b[K     |████████████████████████████████| 317kB 4.6MB/s \n",
            "\u001b[?25hRequirement already satisfied: keras-preprocessing>=1.0.5 in /usr/local/lib/python3.6/dist-packages (from keras==2.2.4) (1.1.2)\n",
            "Requirement already satisfied: h5py in /usr/local/lib/python3.6/dist-packages (from keras==2.2.4) (2.10.0)\n",
            "Requirement already satisfied: scipy>=0.14 in /usr/local/lib/python3.6/dist-packages (from keras==2.2.4) (1.4.1)\n",
            "Requirement already satisfied: keras-applications>=1.0.6 in /usr/local/lib/python3.6/dist-packages (from keras==2.2.4) (1.0.8)\n",
            "Requirement already satisfied: pyyaml in /usr/local/lib/python3.6/dist-packages (from keras==2.2.4) (3.13)\n",
            "Requirement already satisfied: numpy>=1.9.1 in /usr/local/lib/python3.6/dist-packages (from keras==2.2.4) (1.18.5)\n",
            "Requirement already satisfied: six>=1.9.0 in /usr/local/lib/python3.6/dist-packages (from keras==2.2.4) (1.15.0)\n",
            "\u001b[31mERROR: fancyimpute 0.4.3 requires tensorflow, which is not installed.\u001b[0m\n",
            "Installing collected packages: keras\n",
            "Successfully installed keras-2.2.4\n",
            "Selecting previously unselected package xvfb.\n",
            "(Reading database ... 144487 files and directories currently installed.)\n",
            "Preparing to unpack .../xvfb_2%3a1.19.6-1ubuntu4.4_amd64.deb ...\n",
            "Unpacking xvfb (2:1.19.6-1ubuntu4.4) ...\n",
            "Setting up xvfb (2:1.19.6-1ubuntu4.4) ...\n",
            "Processing triggers for man-db (2.8.3-2ubuntu0.1) ...\n",
            "Starting virtual X frame buffer: Xvfb.\n"
          ],
          "name": "stdout"
        }
      ]
    },
    {
      "cell_type": "code",
      "metadata": {
        "id": "gTdtYdKMe4xq",
        "colab_type": "code",
        "colab": {
          "base_uri": "https://localhost:8080/",
          "height": 50
        },
        "outputId": "20a1381e-87d6-45b1-fcae-97b009e6491c"
      },
      "source": [
        "print(sorted(set(''.join(['12','3']))))\n",
        "list(filter(len, '   s t  r i n g'.split(' ')))"
      ],
      "execution_count": 2,
      "outputs": [
        {
          "output_type": "stream",
          "text": [
            "['1', '2', '3']\n"
          ],
          "name": "stdout"
        },
        {
          "output_type": "execute_result",
          "data": {
            "text/plain": [
              "['s', 't', 'r', 'i', 'n', 'g']"
            ]
          },
          "metadata": {
            "tags": []
          },
          "execution_count": 2
        }
      ]
    },
    {
      "cell_type": "markdown",
      "metadata": {
        "id": "n5-7MSdctgkr",
        "colab_type": "text"
      },
      "source": [
        "## Reinforcement Learning for seq2seq\n",
        "\n",
        "This time we'll solve a problem of transribing hebrew words in english, also known as g2p (grapheme2phoneme)\n",
        "\n",
        " * word (sequence of letters in source language) -> translation (sequence of letters in target language)\n",
        "\n",
        "Unlike what most deep learning practitioners do, we won't only train it to maximize likelihood of correct translation, but also employ reinforcement learning to actually teach it to translate with as few errors as possible.\n",
        "\n",
        "\n",
        "### About the task\n",
        "\n",
        "One notable property of Hebrew is that it's consonant language. That is, there are no wovels in the written language. One could represent wovels with diacritics above consonants, but you don't expect people to do that in everyay life.\n",
        "\n",
        "Therefore, some hebrew characters will correspond to several english letters and others - to none, so we should use encoder-decoder architecture to figure that out.\n",
        "\n",
        "![img](https://esciencegroup.files.wordpress.com/2016/03/seq2seq.jpg)\n",
        "_(img: esciencegroup.files.wordpress.com)_\n",
        "\n",
        "Encoder-decoder architectures are about converting anything to anything, including\n",
        " * Machine translation and spoken dialogue systems\n",
        " * [Image captioning](http://mscoco.org/dataset/#captions-challenge2015) and [image2latex](https://openai.com/requests-for-research/#im2latex) (convolutional encoder, recurrent decoder)\n",
        " * Generating [images by captions](https://arxiv.org/abs/1511.02793) (recurrent encoder, convolutional decoder)\n",
        " * Grapheme2phoneme - convert words to transcripts\n",
        "  \n",
        "We chose simplified __Hebrew->English__ machine translation for words and short phrases (character-level), as it is relatively quick to train even without a gpu cluster."
      ]
    },
    {
      "cell_type": "code",
      "metadata": {
        "id": "_jo2jNMItgkt",
        "colab_type": "code",
        "colab": {}
      },
      "source": [
        "# If True, only translates phrases shorter than 20 characters (way easier).\n",
        "EASY_MODE = True\n",
        "# Useful for initial coding.\n",
        "# If false, works with all phrases (please switch to this mode for homework assignment)\n",
        "\n",
        "MODE = \"he-to-en\"  # way we translate. Either \"he-to-en\" or \"en-to-he\"\n",
        "# maximal length of _generated_ output, does not affect training\n",
        "MAX_OUTPUT_LENGTH = 50 if not EASY_MODE else 20\n",
        "REPORT_FREQ = 100  # how often to evaluate validation score"
      ],
      "execution_count": 3,
      "outputs": []
    },
    {
      "cell_type": "markdown",
      "metadata": {
        "id": "3vQZbRwytgk-",
        "colab_type": "text"
      },
      "source": [
        "### Step 1: preprocessing\n",
        "\n",
        "We shall store dataset as a dictionary\n",
        "`{ word1:[translation1,translation2,...], word2:[...],...}`.\n",
        "\n",
        "This is mostly due to the fact that many words have several correct translations.\n",
        "\n",
        "We have implemented this thing for you so that you can focus on more interesting parts.\n",
        "\n",
        "\n",
        "__Attention python2 users!__ You may want to cast everything to unicode later during homework phase, just make sure you do it _everywhere_."
      ]
    },
    {
      "cell_type": "code",
      "metadata": {
        "id": "kgzZwdlutglA",
        "colab_type": "code",
        "colab": {
          "base_uri": "https://localhost:8080/",
          "height": 34
        },
        "outputId": "b85c317e-98d0-47de-d7a4-9e5a29a81326"
      },
      "source": [
        "import numpy as np\n",
        "from collections import defaultdict\n",
        "word_to_translation = defaultdict(list)  # our dictionary\n",
        "\n",
        "bos = '_' # beginning of sentence\n",
        "eos = ';' # end of sentence\n",
        "\n",
        "with open(\"main_dataset.txt\") as fin:\n",
        "    for line in fin:\n",
        "\n",
        "        en, he = line[:-1].lower().replace(bos, ' ').replace(eos,\n",
        "                                                             ' ').split('\\t')\n",
        "        word, trans = (he, en) if MODE == 'he-to-en' else (en, he)\n",
        "\n",
        "        if len(word) < 3:\n",
        "            continue\n",
        "        if EASY_MODE:\n",
        "            if max(len(word), len(trans)) > 20:\n",
        "                continue\n",
        "\n",
        "        word_to_translation[word].append(trans)\n",
        "\n",
        "print(\"size = \", len(word_to_translation))"
      ],
      "execution_count": 4,
      "outputs": [
        {
          "output_type": "stream",
          "text": [
            "size =  130114\n"
          ],
          "name": "stdout"
        }
      ]
    },
    {
      "cell_type": "code",
      "metadata": {
        "id": "nOw--gJ0tglU",
        "colab_type": "code",
        "colab": {}
      },
      "source": [
        "# get all unique lines in source language\n",
        "all_words = np.array(list(word_to_translation.keys()))\n",
        "# get all unique lines in translation language\n",
        "all_translations = np.array(\n",
        "    [ts for all_ts in word_to_translation.values() for ts in all_ts])"
      ],
      "execution_count": 5,
      "outputs": []
    },
    {
      "cell_type": "code",
      "metadata": {
        "id": "AFsW15bsiIk8",
        "colab_type": "code",
        "colab": {
          "base_uri": "https://localhost:8080/",
          "height": 50
        },
        "outputId": "79a476fc-2bed-4c6b-dcd9-1e6011a8276a"
      },
      "source": [
        "print(all_words)\n",
        "print(all_translations)"
      ],
      "execution_count": 6,
      "outputs": [
        {
          "output_type": "stream",
          "text": [
            "['משתמש:צלף/!' 'סימן קריאה' 'תבנית:!!' ... '星野仙一' 'user:榎' 'מומנט מגנט']\n",
            "['!' '!' 'exclamation mark' ... '星野仙一' '榎~enwiki' '老陳/sandbox2']\n"
          ],
          "name": "stdout"
        }
      ]
    },
    {
      "cell_type": "markdown",
      "metadata": {
        "id": "7h9ObV0Xtglh",
        "colab_type": "text"
      },
      "source": [
        "### split the dataset\n",
        "\n",
        "We hold out 10% of all words to be used for validation.\n"
      ]
    },
    {
      "cell_type": "code",
      "metadata": {
        "id": "dcS2zfSLtgls",
        "colab_type": "code",
        "colab": {}
      },
      "source": [
        "from sklearn.model_selection import train_test_split\n",
        "\n",
        "train_words, test_words = train_test_split(\n",
        "    all_words, test_size=0.1, random_state=42)"
      ],
      "execution_count": 7,
      "outputs": []
    },
    {
      "cell_type": "markdown",
      "metadata": {
        "id": "YbkFuQ4Qtgl8",
        "colab_type": "text"
      },
      "source": [
        "### Building vocabularies\n",
        "\n",
        "We now need to build vocabularies that map strings to token ids and vice versa. We're gonna need these fellas when we feed training data into model or convert output matrices into english words."
      ]
    },
    {
      "cell_type": "code",
      "metadata": {
        "id": "3RW_7vhytgl-",
        "colab_type": "code",
        "colab": {}
      },
      "source": [
        "from voc import Vocab\n",
        "inp_voc = Vocab.from_lines(''.join(all_words), bos=bos, eos=eos, sep='')\n",
        "out_voc = Vocab.from_lines(''.join(all_translations), bos=bos, eos=eos, sep='')"
      ],
      "execution_count": 8,
      "outputs": []
    },
    {
      "cell_type": "code",
      "metadata": {
        "id": "6JYeUsKXtgsb",
        "colab_type": "code",
        "colab": {
          "base_uri": "https://localhost:8080/",
          "height": 218
        },
        "outputId": "18a41f31-308e-400a-bbc8-54908b70cabb"
      },
      "source": [
        "# Here's how you cast lines into ids and backwards.\n",
        "batch_lines = all_words[:5]\n",
        "batch_ids = inp_voc.to_matrix(batch_lines)\n",
        "batch_lines_restored = inp_voc.to_lines(batch_ids)\n",
        "\n",
        "print(\"lines\")\n",
        "print(batch_lines)\n",
        "print(\"\\nwords to ids (0 = bos, 1 = eos):\")\n",
        "print(batch_ids)\n",
        "print(\"\\nback to words\")\n",
        "print(batch_lines_restored)"
      ],
      "execution_count": 9,
      "outputs": [
        {
          "output_type": "stream",
          "text": [
            "lines\n",
            "['משתמש:צלף/!' 'סימן קריאה' 'תבנית:!!' '$9.99' \"תבנית:'\"]\n",
            "\n",
            "words to ids (0 = bos, 1 = eos):\n",
            "[[  0 127 138 139 127 138  27 135 125 132  16   3   1]\n",
            " [  0 130 122 127 128   2 136 137 122 113 117   1   1]\n",
            " [  0 139 114 129 122 139  27   3   3   1   1   1   1]\n",
            " [  0   6  26  15  26  26   1   1   1   1   1   1   1]\n",
            " [  0 139 114 129 122 139  27   8   1   1   1   1   1]]\n",
            "\n",
            "back to words\n",
            "['משתמש:צלף/!', 'סימן קריאה', 'תבנית:!!', '$9.99', \"תבנית:'\"]\n"
          ],
          "name": "stdout"
        }
      ]
    },
    {
      "cell_type": "markdown",
      "metadata": {
        "id": "nNrJCaSItgsi",
        "colab_type": "text"
      },
      "source": [
        "Draw word/translation length distributions to estimate the scope of the task."
      ]
    },
    {
      "cell_type": "code",
      "metadata": {
        "id": "aAKiRPHmtgsj",
        "colab_type": "code",
        "colab": {
          "base_uri": "https://localhost:8080/",
          "height": 398
        },
        "outputId": "4b855e8a-931f-475c-d6d8-9e29277c218c"
      },
      "source": [
        "import matplotlib.pyplot as plt\n",
        "%matplotlib inline\n",
        "plt.figure(figsize=[8, 4])\n",
        "plt.subplot(1, 2, 1)\n",
        "plt.title(\"words\")\n",
        "plt.hist(list(map(len, all_words)), bins=20)\n",
        "\n",
        "plt.subplot(1, 2, 2)\n",
        "plt.title('translations')\n",
        "plt.hist(list(map(len, all_translations)), bins=20)"
      ],
      "execution_count": 10,
      "outputs": [
        {
          "output_type": "execute_result",
          "data": {
            "text/plain": [
              "(array([   20.,    93.,  2164.,  5532.,  7753.,  9500.,  9435.,  8577.,\n",
              "         8614.,  9449., 10091., 10964., 11044., 10702.,  9206.,  7788.,\n",
              "         6454.,  5470.,  4461.,  3642.]),\n",
              " array([ 1.  ,  1.95,  2.9 ,  3.85,  4.8 ,  5.75,  6.7 ,  7.65,  8.6 ,\n",
              "         9.55, 10.5 , 11.45, 12.4 , 13.35, 14.3 , 15.25, 16.2 , 17.15,\n",
              "        18.1 , 19.05, 20.  ]),\n",
              " <a list of 20 Patch objects>)"
            ]
          },
          "metadata": {
            "tags": []
          },
          "execution_count": 10
        },
        {
          "output_type": "display_data",
          "data": {
            "image/png": "[encoded data removed]",
            "text/plain": [
              "<Figure size 576x288 with 2 Axes>"
            ]
          },
          "metadata": {
            "tags": [],
            "needs_background": "light"
          }
        }
      ]
    },
    {
      "cell_type": "markdown",
      "metadata": {
        "id": "81h-8ojQtgst",
        "colab_type": "text"
      },
      "source": [
        "### Step 3: deploy encoder-decoder (1 point)\n",
        "\n",
        "__assignment starts here__\n",
        "\n",
        "Our architecture consists of two main blocks:\n",
        "* Encoder reads words character by character and outputs code vector (usually a function of last RNN state)\n",
        "* Decoder takes that code vector and produces translations character by character\n",
        "\n",
        "Than it gets fed into a model that follows this simple interface:\n",
        "* __`model.symbolic_translate(inp, **flags) -> out, logp`__ - takes symbolic int32 matrix of hebrew words, produces output tokens sampled from the model and output log-probabilities for all possible tokens at each tick.\n",
        "   * if given flag __`greedy=True`__, takes most likely next token at each iteration. Otherwise samples with next token probabilities predicted by model.\n",
        "* __`model.symbolic_score(inp, out, **flags) -> logp`__ - takes symbolic int32 matrices of hebrew words and their english translations. Computes the log-probabilities of all possible english characters given english prefices and hebrew word.\n",
        "* __`model.weights`__ - weights from all model layers [a list of variables]\n",
        "\n",
        "That's all! It's as hard as it gets. With those two methods alone you can implement all kinds of prediction and training."
      ]
    },
    {
      "cell_type": "code",
      "metadata": {
        "id": "JQV5faNCtgsu",
        "colab_type": "code",
        "colab": {
          "base_uri": "https://localhost:8080/",
          "height": 238
        },
        "outputId": "9501f984-7a0b-42a7-d41f-8a1a758496d2"
      },
      "source": [
        "#import tensorflow.compat.v1 as tf\n",
        "#tf.disable_v2_behavior()\n",
        "\n",
        "import tensorflow as tf\n",
        "\n",
        "tf.reset_default_graph()\n",
        "s = tf.InteractiveSession()\n",
        "\n",
        "# ^^^ if you get \"variable *** already exists\": re-run this cell again"
      ],
      "execution_count": 11,
      "outputs": [
        {
          "output_type": "stream",
          "text": [
            "/usr/local/lib/python3.6/dist-packages/tensorflow/python/framework/dtypes.py:526: FutureWarning: Passing (type, 1) or '1type' as a synonym of type is deprecated; in a future version of numpy, it will be understood as (type, (1,)) / '(1,)type'.\n",
            "  _np_qint8 = np.dtype([(\"qint8\", np.int8, 1)])\n",
            "/usr/local/lib/python3.6/dist-packages/tensorflow/python/framework/dtypes.py:527: FutureWarning: Passing (type, 1) or '1type' as a synonym of type is deprecated; in a future version of numpy, it will be understood as (type, (1,)) / '(1,)type'.\n",
            "  _np_quint8 = np.dtype([(\"quint8\", np.uint8, 1)])\n",
            "/usr/local/lib/python3.6/dist-packages/tensorflow/python/framework/dtypes.py:528: FutureWarning: Passing (type, 1) or '1type' as a synonym of type is deprecated; in a future version of numpy, it will be understood as (type, (1,)) / '(1,)type'.\n",
            "  _np_qint16 = np.dtype([(\"qint16\", np.int16, 1)])\n",
            "/usr/local/lib/python3.6/dist-packages/tensorflow/python/framework/dtypes.py:529: FutureWarning: Passing (type, 1) or '1type' as a synonym of type is deprecated; in a future version of numpy, it will be understood as (type, (1,)) / '(1,)type'.\n",
            "  _np_quint16 = np.dtype([(\"quint16\", np.uint16, 1)])\n",
            "/usr/local/lib/python3.6/dist-packages/tensorflow/python/framework/dtypes.py:530: FutureWarning: Passing (type, 1) or '1type' as a synonym of type is deprecated; in a future version of numpy, it will be understood as (type, (1,)) / '(1,)type'.\n",
            "  _np_qint32 = np.dtype([(\"qint32\", np.int32, 1)])\n",
            "/usr/local/lib/python3.6/dist-packages/tensorflow/python/framework/dtypes.py:535: FutureWarning: Passing (type, 1) or '1type' as a synonym of type is deprecated; in a future version of numpy, it will be understood as (type, (1,)) / '(1,)type'.\n",
            "  np_resource = np.dtype([(\"resource\", np.ubyte, 1)])\n"
          ],
          "name": "stderr"
        }
      ]
    },
    {
      "cell_type": "code",
      "metadata": {
        "id": "KzJYz6CYtgs4",
        "colab_type": "code",
        "colab": {
          "base_uri": "https://localhost:8080/",
          "height": 255
        },
        "outputId": "68147d49-c4a9-496f-e361-d779025652c3"
      },
      "source": [
        "from basic_model_tf import BasicTranslationModel\n",
        "\n",
        "model = BasicTranslationModel('model', inp_voc, out_voc,\n",
        "                              emb_size=64, hid_size=128)\n",
        "\n",
        "s.run(tf.global_variables_initializer())"
      ],
      "execution_count": 12,
      "outputs": [
        {
          "output_type": "stream",
          "text": [
            "WARNING:tensorflow:From /content/basic_model_tf.py:25: GRUCell.__init__ (from tensorflow.python.ops.rnn_cell_impl) is deprecated and will be removed in a future version.\n",
            "Instructions for updating:\n",
            "This class is equivalent as tf.keras.layers.GRUCell, and will be replaced by that in Tensorflow 2.0.\n",
            "WARNING:tensorflow:From /usr/local/lib/python3.6/dist-packages/tensorflow/python/framework/op_def_library.py:263: colocate_with (from tensorflow.python.framework.ops) is deprecated and will be removed in a future version.\n",
            "Instructions for updating:\n",
            "Colocations handled automatically by placer.\n",
            "WARNING:tensorflow:From /content/basic_model_tf.py:53: dynamic_rnn (from tensorflow.python.ops.rnn) is deprecated and will be removed in a future version.\n",
            "Instructions for updating:\n",
            "Please use `keras.layers.RNN(cell)`, which is equivalent to this API\n",
            "WARNING:tensorflow:From /usr/local/lib/python3.6/dist-packages/tensorflow/python/ops/rnn.py:626: to_int32 (from tensorflow.python.ops.math_ops) is deprecated and will be removed in a future version.\n",
            "Instructions for updating:\n",
            "Use tf.cast instead.\n"
          ],
          "name": "stdout"
        },
        {
          "output_type": "stream",
          "text": [
            "Using TensorFlow backend.\n"
          ],
          "name": "stderr"
        }
      ]
    },
    {
      "cell_type": "code",
      "metadata": {
        "id": "jWPgssKjtgtC",
        "colab_type": "code",
        "colab": {
          "base_uri": "https://localhost:8080/",
          "height": 222
        },
        "outputId": "05613b21-17bd-46be-f295-f66f82a42783"
      },
      "source": [
        "# Play around with symbolic_translate and symbolic_score\n",
        "inp = tf.placeholder_with_default(np.random.randint(\n",
        "    0, 10, [3, 5], dtype='int32'), [None, None])\n",
        "out = tf.placeholder_with_default(np.random.randint(\n",
        "    0, 10, [3, 5], dtype='int32'), [None, None])\n",
        "\n",
        "# translate inp (with untrained model)\n",
        "sampled_out, logp = model.symbolic_translate(inp, greedy=False)\n",
        "print(\"\\nSymbolic_translate output:\\n\", sampled_out, logp)\n",
        "print(\"\\nSample translations:\\n\", s.run(sampled_out))"
      ],
      "execution_count": 13,
      "outputs": [
        {
          "output_type": "stream",
          "text": [
            "WARNING:tensorflow:From /content/basic_model_tf.py:142: multinomial (from tensorflow.python.ops.random_ops) is deprecated and will be removed in a future version.\n",
            "Instructions for updating:\n",
            "Use tf.random.categorical instead.\n",
            "\n",
            "Symbolic_translate output:\n",
            " Tensor(\"transpose_1:0\", shape=(?, ?), dtype=int32) Tensor(\"LogSoftmax:0\", shape=(?, ?, 283), dtype=float32)\n",
            "\n",
            "Sample translations:\n",
            " [[  0 230  37 274  61  39 218 145  79  42 211]\n",
            " [  0 200 244  33 151  97 155 102 132 136  82]\n",
            " [  0  77 260 253  12 233 245 178  47  18  17]]\n"
          ],
          "name": "stdout"
        }
      ]
    },
    {
      "cell_type": "code",
      "metadata": {
        "id": "JGm-ZysgtgtO",
        "colab_type": "code",
        "colab": {
          "base_uri": "https://localhost:8080/",
          "height": 235
        },
        "outputId": "bea1ad19-f4bb-47f1-d5b7-515964ea7cbc"
      },
      "source": [
        "# score logp(out | inp) with untrained input\n",
        "logp = model.symbolic_score(inp, out)\n",
        "print(\"\\nSymbolic_score output:\\n\", logp)\n",
        "print(\"\\nLog-probabilities (clipped):\\n\", s.run(logp)[:, :2, :5])"
      ],
      "execution_count": 14,
      "outputs": [
        {
          "output_type": "stream",
          "text": [
            "\n",
            "Symbolic_score output:\n",
            " Tensor(\"LogSoftmax_1:0\", shape=(?, ?, 283), dtype=float32)\n",
            "\n",
            "Log-probabilities (clipped):\n",
            " [[[  0.        -69.07755   -69.07755   -69.07755   -69.07755  ]\n",
            "  [ -5.6378045  -5.6612644  -5.6361527  -5.65181    -5.6464453]]\n",
            "\n",
            " [[  0.        -69.07755   -69.07755   -69.07755   -69.07755  ]\n",
            "  [ -5.638915   -5.655749   -5.655651   -5.6531444  -5.6515603]]\n",
            "\n",
            " [[  0.        -69.07755   -69.07755   -69.07755   -69.07755  ]\n",
            "  [ -5.643696   -5.655167   -5.649859   -5.649866   -5.6338925]]]\n"
          ],
          "name": "stdout"
        }
      ]
    },
    {
      "cell_type": "code",
      "metadata": {
        "id": "aj0cMtdPtgtX",
        "colab_type": "code",
        "colab": {}
      },
      "source": [
        "# Prepare any operations you want here\n",
        "input_sequence = tf.placeholder('int32', [None, None])\n",
        "greedy_translations, logp = model.symbolic_translate(input_sequence, greedy=True)\n",
        "\n",
        "\n",
        "def translate(lines):\n",
        "    \"\"\"\n",
        "    You are given a list of input lines. \n",
        "    Make your neural network translate them.\n",
        "    :return: a list of output lines\n",
        "    \"\"\"\n",
        "    # Convert lines to a matrix of indices\n",
        "    lines_ix = inp_voc.to_matrix(lines)\n",
        "\n",
        "    # Compute translations in form of indices\n",
        "    trans_ix = s.run(greedy_translations, { input_sequence: lines_ix })\n",
        "\n",
        "    # Convert translations back into strings\n",
        "    return out_voc.to_lines(trans_ix)"
      ],
      "execution_count": 15,
      "outputs": []
    },
    {
      "cell_type": "code",
      "metadata": {
        "id": "M7X0-rN_tgtf",
        "colab_type": "code",
        "colab": {
          "base_uri": "https://localhost:8080/",
          "height": 67
        },
        "outputId": "499ad0dd-4ffd-42cf-cec2-220d938e3e7e"
      },
      "source": [
        "print(\"Sample inputs:\", all_words[:3])\n",
        "print(\"Dummy translations:\", translate(all_words[:3]))\n",
        "\n",
        "assert isinstance(greedy_translations,\n",
        "                  tf.Tensor) and greedy_translations.dtype.is_integer, \"trans must be a tensor of integers (token ids)\"\n",
        "assert translate(all_words[:3]) == translate(\n",
        "    all_words[:3]), \"make sure translation is deterministic (use greedy=True and disable any noise layers)\"\n",
        "assert type(translate(all_words[:3])) is list and (type(translate(all_words[:1])[0]) is str or type(\n",
        "    translate(all_words[:1])[0]) is unicode), \"translate(lines) must return a sequence of strings!\"\n",
        "print(\"Tests passed!\")"
      ],
      "execution_count": 16,
      "outputs": [
        {
          "output_type": "stream",
          "text": [
            "Sample inputs: ['משתמש:צלף/!' 'סימן קריאה' 'תבנית:!!']\n",
            "Dummy translations: ['ēあß–лσñ', 'ģ ююююوrъ子子ẓŏẓŏиŏẓŏŏẓḥ!!!!', 'ēßi`ффűḳḳşşūūūاūاūاūاūاūاū']\n",
            "Tests passed!\n"
          ],
          "name": "stdout"
        }
      ]
    },
    {
      "cell_type": "markdown",
      "metadata": {
        "id": "AzZ5287ltgtn",
        "colab_type": "text"
      },
      "source": [
        "### Scoring function\n",
        "\n",
        "LogLikelihood is a poor estimator of model performance.\n",
        "* If we predict zero probability once, it shouldn't ruin entire model.\n",
        "* It is enough to learn just one translation if there are several correct ones.\n",
        "* What matters is how many mistakes model's gonna make when it translates!\n",
        "\n",
        "Therefore, we will use minimal Levenshtein distance. It measures how many characters do we need to add/remove/replace from model translation to make it perfect. Alternatively, one could use character-level BLEU/RougeL or other similar metrics.\n",
        "\n",
        "The catch here is that Levenshtein distance is not differentiable: it isn't even continuous. We can't train our neural network to maximize it by gradient descent."
      ]
    },
    {
      "cell_type": "code",
      "metadata": {
        "id": "bqk2tQVutgtp",
        "colab_type": "code",
        "colab": {}
      },
      "source": [
        "import editdistance  # !pip install editdistance\n",
        "\n",
        "\n",
        "def get_distance(word, trans):\n",
        "    \"\"\"\n",
        "    A function that takes word and predicted translation\n",
        "    and evaluates (Levenshtein's) edit distance to closest correct translation\n",
        "    \"\"\"\n",
        "    references = word_to_translation[word]\n",
        "    assert len(references) != 0, \"wrong/unknown word\"\n",
        "    return min(editdistance.eval(trans, ref) for ref in references)\n",
        "\n",
        "\n",
        "def score(words, bsize=100):\n",
        "    \"\"\"a function that computes levenshtein distance for bsize random samples\"\"\"\n",
        "    assert isinstance(words, np.ndarray)\n",
        "\n",
        "    batch_words = np.random.choice(words, size=bsize, replace=False)\n",
        "    batch_trans = translate(batch_words)\n",
        "\n",
        "    distances = list(map(get_distance, batch_words, batch_trans))\n",
        "\n",
        "    return np.array(distances, dtype='float32')"
      ],
      "execution_count": 17,
      "outputs": []
    },
    {
      "cell_type": "code",
      "metadata": {
        "id": "bu9yzc23tgtw",
        "colab_type": "code",
        "colab": {
          "base_uri": "https://localhost:8080/",
          "height": 34
        },
        "outputId": "2ea9073e-7ac6-4565-ed73-5e0495a1e434"
      },
      "source": [
        "# should be around 5-50 and decrease rapidly after training :)\n",
        "[score(test_words, 10).mean() for _ in range(5)]"
      ],
      "execution_count": 18,
      "outputs": [
        {
          "output_type": "execute_result",
          "data": {
            "text/plain": [
              "[43.6, 37.4, 37.7, 33.4, 41.6]"
            ]
          },
          "metadata": {
            "tags": []
          },
          "execution_count": 18
        }
      ]
    },
    {
      "cell_type": "markdown",
      "metadata": {
        "id": "Bmaoiq7Dtgt3",
        "colab_type": "text"
      },
      "source": [
        "## Step 2: Supervised pre-training\n",
        "\n",
        "Here we define a function that trains our model through maximizing log-likelihood a.k.a. minimizing crossentropy."
      ]
    },
    {
      "cell_type": "code",
      "metadata": {
        "id": "QDx3Nryutgt7",
        "colab_type": "code",
        "colab": {}
      },
      "source": [
        "# import utility functions\n",
        "from basic_model_tf import initialize_uninitialized, infer_length, infer_mask, select_values_over_last_axis\n",
        "\n",
        "\n",
        "class supervised_training:\n",
        "\n",
        "    # variable for inputs and correct answers\n",
        "    input_sequence = tf.placeholder('int32', [None, None])\n",
        "    reference_answers = tf.placeholder('int32', [None, None])\n",
        "\n",
        "    # Compute log-probabilities of all possible tokens at each step. Use model interface.\n",
        "    _, logprobs_seq = model.symbolic_translate(input_sequence, greedy=False)\n",
        "    \n",
        "    # compute mean crossentropy\n",
        "    crossentropy = - select_values_over_last_axis(logprobs_seq, reference_answers)\n",
        "\n",
        "    mask = infer_mask(reference_answers, out_voc.eos_ix)\n",
        "\n",
        "    loss = tf.reduce_sum(crossentropy * mask)/tf.reduce_sum(mask)\n",
        "\n",
        "    # Build weights optimizer. Use model.weights to get all trainable params.\n",
        "    train_step = tf.train.AdamOptimizer().minimize(loss, var_list=model.weights)    \n",
        "\n",
        "\n",
        "# intialize optimizer params while keeping model intact\n",
        "initialize_uninitialized(s)"
      ],
      "execution_count": 19,
      "outputs": []
    },
    {
      "cell_type": "markdown",
      "metadata": {
        "id": "w2Y6WuivtguC",
        "colab_type": "text"
      },
      "source": [
        "Actually run training on minibatches"
      ]
    },
    {
      "cell_type": "code",
      "metadata": {
        "id": "L-UPft-utguE",
        "colab_type": "code",
        "colab": {}
      },
      "source": [
        "import random\n",
        "\n",
        "\n",
        "def sample_batch(words, word_to_translation, batch_size):\n",
        "    \"\"\"\n",
        "    sample random batch of words and random correct translation for each word\n",
        "    example usage:\n",
        "    batch_x,batch_y = sample_batch(train_words, word_to_translations,10)\n",
        "    \"\"\"\n",
        "    # choose words\n",
        "    batch_words = np.random.choice(words, size=batch_size)\n",
        "\n",
        "    # choose translations\n",
        "    batch_trans_candidates = list(map(word_to_translation.get, batch_words))\n",
        "    batch_trans = list(map(random.choice, batch_trans_candidates))\n",
        "\n",
        "    return inp_voc.to_matrix(batch_words), out_voc.to_matrix(batch_trans)"
      ],
      "execution_count": 20,
      "outputs": []
    },
    {
      "cell_type": "code",
      "metadata": {
        "id": "NAGSUbVktguL",
        "colab_type": "code",
        "colab": {
          "base_uri": "https://localhost:8080/",
          "height": 151
        },
        "outputId": "cb695b8c-b73d-4fcc-81b2-22d6af8d61ff"
      },
      "source": [
        "bx, by = sample_batch(train_words, word_to_translation, batch_size=3)\n",
        "print(\"Source:\")\n",
        "print(bx)\n",
        "print(\"Target:\")\n",
        "print(by)"
      ],
      "execution_count": 21,
      "outputs": [
        {
          "output_type": "stream",
          "text": [
            "Source:\n",
            "[[  0 113 129 113 121 118 125 122   2 121 137 118 133 122 127 118 114   1]\n",
            " [  0 119 129 118 114 122 117   1   1   1   1   1   1   1   1   1   1   1]\n",
            " [  0 127 118 120 127 116   2 129 118 130 137 139 122   1   1   1   1   1]]\n",
            "Target:\n",
            "[[ 0 33 46 33 52 47 44 57  2 52 50 47 38 41 45 47 54  1]\n",
            " [ 0 58 37 46 47 34 41 33  1  1  1  1  1  1  1  1  1  1]\n",
            " [ 0 45 47 40 33 45 45 33 36  2 46 47 51 50 33 52 41  1]]\n"
          ],
          "name": "stdout"
        }
      ]
    },
    {
      "cell_type": "code",
      "metadata": {
        "id": "QU2kjxhwtguO",
        "colab_type": "code",
        "colab": {
          "base_uri": "https://localhost:8080/",
          "height": 314
        },
        "outputId": "0dde8553-0ac6-402f-dfcc-5b4953945d95"
      },
      "source": [
        "from IPython.display import clear_output\n",
        "from tqdm import tqdm, trange  # or use tqdm_notebook,tnrange\n",
        "\n",
        "loss_history = []\n",
        "editdist_history = []\n",
        "\n",
        "iters = 25000\n",
        "for i in trange(iters):\n",
        "    bx, by = sample_batch(train_words, word_to_translation, 32)\n",
        "\n",
        "    feed_dict = {\n",
        "        supervised_training.input_sequence: bx,\n",
        "        supervised_training.reference_answers: by\n",
        "    }\n",
        "\n",
        "    loss, _ = s.run([supervised_training.loss,\n",
        "                     supervised_training.train_step], feed_dict)\n",
        "    loss_history.append(loss)\n",
        "\n",
        "    if (i+1) % REPORT_FREQ == 0:\n",
        "        clear_output(True)\n",
        "        current_scores = score(test_words)\n",
        "        editdist_history.append(current_scores.mean())\n",
        "        plt.figure(figsize=(12, 4))\n",
        "        plt.subplot(131)\n",
        "        plt.title('train loss / traning time')\n",
        "        plt.plot(loss_history)\n",
        "        plt.grid()\n",
        "        plt.subplot(132)\n",
        "        plt.title('val score distribution')\n",
        "        plt.hist(current_scores, bins=20)\n",
        "        plt.subplot(133)\n",
        "        plt.title('val score / traning time')\n",
        "        plt.plot(editdist_history)\n",
        "        plt.grid()\n",
        "        plt.show()\n",
        "        print(\"llh=%.3f, mean score=%.3f\" %\n",
        "              (np.mean(loss_history[-10:]), np.mean(editdist_history[-10:])))\n",
        "\n",
        "# Note: it's okay if loss oscillates up and down as long as it gets better on average over long term (e.g. 5k batches)"
      ],
      "execution_count": 22,
      "outputs": [
        {
          "output_type": "display_data",
          "data": {
            "image/png": "[encoded data removed]",
            "text/plain": [
              "<Figure size 864x288 with 3 Axes>"
            ]
          },
          "metadata": {
            "tags": [],
            "needs_background": "light"
          }
        },
        {
          "output_type": "stream",
          "text": [
            "\r100%|██████████| 25000/25000 [32:50<00:00, 12.69it/s]"
          ],
          "name": "stderr"
        },
        {
          "output_type": "stream",
          "text": [
            "llh=1.967, mean score=6.949\n"
          ],
          "name": "stdout"
        },
        {
          "output_type": "stream",
          "text": [
            "\n"
          ],
          "name": "stderr"
        }
      ]
    },
    {
      "cell_type": "code",
      "metadata": {
        "id": "XGf2OcM2tguS",
        "colab_type": "code",
        "colab": {
          "base_uri": "https://localhost:8080/",
          "height": 185
        },
        "outputId": "7051bddc-fc1d-4e04-8647-41a00684cf00"
      },
      "source": [
        "for word in train_words[:10]:\n",
        "    print(\"%s -> %s\" % (word, translate([word])[0]))"
      ],
      "execution_count": 23,
      "outputs": [
        {
          "output_type": "stream",
          "text": [
            "מפרש קדמה -> kadea   aae\n",
            "the information -> the firrroiinn\n",
            "ביאליניצ'י -> billliiiii\n",
            "סונו ג'וי -> sono jov\n",
            "ויוויאן פוקס -> vioian posks\n",
            "מנורת שמן -> sheee    ee\n",
            "רובין אליס -> robin lllis\n",
            "פרנצ'סקו גוארדי -> francesco carrdd\n",
            "צ'איאונו -> chaiooo\n",
            "תאופיק אל-חכים -> teeiaaaaaaaa\n"
          ],
          "name": "stdout"
        }
      ]
    },
    {
      "cell_type": "code",
      "metadata": {
        "id": "GjpwFJRbtguV",
        "colab_type": "code",
        "colab": {
          "base_uri": "https://localhost:8080/",
          "height": 50
        },
        "outputId": "a8b37f0b-2609-4284-8267-e99b83144508"
      },
      "source": [
        "test_scores = []\n",
        "for start_i in trange(0, len(test_words), 32):\n",
        "    batch_words = test_words[start_i:start_i+32]\n",
        "    batch_trans = translate(batch_words)\n",
        "    distances = list(map(get_distance, batch_words, batch_trans))\n",
        "    test_scores.extend(distances)\n",
        "\n",
        "print(\"Supervised test score:\", np.mean(test_scores))"
      ],
      "execution_count": 24,
      "outputs": [
        {
          "output_type": "stream",
          "text": [
            "100%|██████████| 407/407 [00:15<00:00, 27.05it/s]"
          ],
          "name": "stderr"
        },
        {
          "output_type": "stream",
          "text": [
            "Supervised test score: 7.066169689517369\n"
          ],
          "name": "stdout"
        },
        {
          "output_type": "stream",
          "text": [
            "\n"
          ],
          "name": "stderr"
        }
      ]
    },
    {
      "cell_type": "markdown",
      "metadata": {
        "id": "dsF7jK6Jtgue",
        "colab_type": "text"
      },
      "source": [
        "## Preparing for reinforcement learning (2 points)\n",
        "\n",
        "First we need to define loss function as a custom tf operation.\n",
        "\n",
        "The simple way to do so is through `tensorflow.py_func` wrapper.\n",
        "```\n",
        "def my_func(x):\n",
        "  # x will be a numpy array with the contents of the placeholder below\n",
        "  return np.sinh(x)\n",
        "inp = tf.placeholder(tf.float32)\n",
        "y = tf.py_func(my_func, [inp], tf.float32)\n",
        "```\n",
        "\n",
        "\n",
        "__Your task__ is to implement `_compute_levenshtein` function that takes matrices of words and translations, along with input masks, then converts those to actual words and phonemes and computes min-levenshtein via __get_distance__ function above.\n"
      ]
    },
    {
      "cell_type": "code",
      "metadata": {
        "id": "P3CPQ5e9tguj",
        "colab_type": "code",
        "colab": {}
      },
      "source": [
        "def _compute_levenshtein(words_ix, trans_ix):\n",
        "    \"\"\"\n",
        "    A custom tensorflow operation that computes levenshtein loss for predicted trans.\n",
        "\n",
        "    Params:\n",
        "    - words_ix - a matrix of letter indices, shape=[batch_size,word_length]\n",
        "    - words_mask - a matrix of zeros/ones, \n",
        "       1 means \"word is still not finished\"\n",
        "       0 means \"word has already finished and this is padding\"\n",
        "\n",
        "    - trans_mask - a matrix of output letter indices, shape=[batch_size,translation_length]\n",
        "    - trans_mask - a matrix of zeros/ones, similar to words_mask but for trans_ix\n",
        "\n",
        "\n",
        "    Please implement the function and make sure it passes tests from the next cell.\n",
        "\n",
        "    \"\"\"\n",
        "    # convert words to strings\n",
        "    words = inp_voc.to_lines(words_ix)\n",
        "\n",
        "    #assert type(words) is list and type(\n",
        "    #    words[0]) is str and len(words) == len(words_ix)\n",
        "\n",
        "    # convert translations to lists\n",
        "    translations = out_voc.to_lines(trans_ix)\n",
        "\n",
        "    #assert type(translations) is list and type(\n",
        "    #    translations[0]) is str and len(translations) == len(trans_ix)\n",
        "\n",
        "    # computes levenstein distances. can be arbitrary python code.\n",
        "    distances = [get_distance(w,t) for w,t in zip(words, translations)]\n",
        "\n",
        "    #assert type(distances) in (list, tuple, np.ndarray) and len(\n",
        "    #    distances) == len(words_ix)\n",
        "\n",
        "    distances = np.array(list(distances), dtype='float32')\n",
        "    return distances\n",
        "\n",
        "\n",
        "def compute_levenshtein(words_ix, trans_ix):\n",
        "    out = tf.py_func(_compute_levenshtein, [words_ix, trans_ix, ], tf.float32)\n",
        "    out.set_shape([None])\n",
        "\n",
        "    return tf.stop_gradient(out)"
      ],
      "execution_count": 25,
      "outputs": []
    },
    {
      "cell_type": "markdown",
      "metadata": {
        "id": "7fmow3w0tgut",
        "colab_type": "text"
      },
      "source": [
        "Simple test suite to make sure your implementation is correct. Hint: if you run into any bugs, feel free to use print from inside _compute_levenshtein."
      ]
    },
    {
      "cell_type": "code",
      "metadata": {
        "id": "6QlIyysVtguv",
        "colab_type": "code",
        "colab": {}
      },
      "source": [
        "# test suite\n",
        "# sample random batch of (words, correct trans, wrong trans)\n",
        "batch_words = np.random.choice(train_words, size=100)\n",
        "batch_trans = list(map(random.choice, map(word_to_translation.get, batch_words)))\n",
        "batch_trans_wrong = np.random.choice(all_translations, size=100)\n",
        "\n",
        "batch_words_ix = tf.constant(inp_voc.to_matrix(batch_words))\n",
        "batch_trans_ix = tf.constant(out_voc.to_matrix(batch_trans))\n",
        "batch_trans_wrong_ix = tf.constant(out_voc.to_matrix(batch_trans_wrong))"
      ],
      "execution_count": 26,
      "outputs": []
    },
    {
      "cell_type": "code",
      "metadata": {
        "id": "rzMj510ttgu3",
        "colab_type": "code",
        "colab": {
          "base_uri": "https://localhost:8080/",
          "height": 205
        },
        "outputId": "956665e1-4265-4e41-fe0e-e42b35732b43"
      },
      "source": [
        "# assert compute_levenshtein is zero for ideal translations\n",
        "tf_lev_dists = compute_levenshtein(batch_words_ix, batch_trans_ix)\n",
        "correct_answers_score = tf_lev_dists.eval()\n",
        "\n",
        "assert np.all(correct_answers_score ==\n",
        "              0), \"a perfect translation got nonzero levenshtein score!\"\n",
        "\n",
        "print(\"Everything seems alright!\")"
      ],
      "execution_count": 27,
      "outputs": [
        {
          "output_type": "stream",
          "text": [
            "WARNING:tensorflow:From <ipython-input-25-9dc952581431>:41: py_func (from tensorflow.python.ops.script_ops) is deprecated and will be removed in a future version.\n",
            "Instructions for updating:\n",
            "tf.py_func is deprecated in TF V2. Instead, use\n",
            "    tf.py_function, which takes a python function which manipulates tf eager\n",
            "    tensors instead of numpy arrays. It's easy to convert a tf eager tensor to\n",
            "    an ndarray (just call tensor.numpy()) but having access to eager tensors\n",
            "    means `tf.py_function`s can use accelerators such as GPUs as well as\n",
            "    being differentiable using a gradient tape.\n",
            "    \n",
            "Everything seems alright!\n"
          ],
          "name": "stdout"
        }
      ]
    },
    {
      "cell_type": "code",
      "metadata": {
        "id": "9yQRlu9itgu-",
        "colab_type": "code",
        "colab": {
          "base_uri": "https://localhost:8080/",
          "height": 34
        },
        "outputId": "ea7180e9-197c-4e6f-951c-9d1c775b4180"
      },
      "source": [
        "# assert compute_levenshtein matches actual scoring function\n",
        "wrong_answers_score = compute_levenshtein(\n",
        "    batch_words_ix, batch_trans_wrong_ix).eval()\n",
        "\n",
        "true_wrong_answers_score = np.array(\n",
        "    list(map(get_distance, batch_words, batch_trans_wrong)))\n",
        "\n",
        "assert np.all(wrong_answers_score ==\n",
        "              true_wrong_answers_score), \"for some word symbolic levenshtein is different from actual levenshtein distance\"\n",
        "\n",
        "print(\"Everything seems alright!\")"
      ],
      "execution_count": 28,
      "outputs": [
        {
          "output_type": "stream",
          "text": [
            "Everything seems alright!\n"
          ],
          "name": "stdout"
        }
      ]
    },
    {
      "cell_type": "markdown",
      "metadata": {
        "id": "Nla5UsQFtgvB",
        "colab_type": "text"
      },
      "source": [
        "Once you got it working...\n",
        "\n",
        "\n",
        "* You may now want to __remove/comment asserts__ from function code for a slight speed-up.\n",
        "\n",
        "* There's a more detailed tutorial on custom tensorflow ops: [`py_func`](https://www.tensorflow.org/api_docs/python/tf/py_func), [`low-level`](https://www.tensorflow.org/api_docs/python/tf/py_func)."
      ]
    },
    {
      "cell_type": "markdown",
      "metadata": {
        "id": "RlU3PWcWtgvC",
        "colab_type": "text"
      },
      "source": [
        "## 3. Self-critical policy gradient (2 points)\n",
        "\n",
        "In this section you'll implement algorithm called self-critical sequence training (here's an [article](https://arxiv.org/abs/1612.00563)).\n",
        "\n",
        "The algorithm is a vanilla policy gradient with a special baseline. \n",
        "\n",
        "$$ \\nabla J = E_{x \\sim p(s)} E_{y \\sim \\pi(y|x)} \\nabla log \\pi(y|x) \\cdot (R(x,y) - b(x)) $$\n",
        "\n",
        "Here reward R(x,y) is a __negative levenshtein distance__ (since we minimize it). The baseline __b(x)__ represents how well model fares on word __x__.\n",
        "\n",
        "In practice, this means that we compute baseline as a score of greedy translation, $b(x) = R(x,y_{greedy}(x)) $.\n",
        "\n",
        "![img](https://github.com/yandexdataschool/Practical_RL/raw/master/yet_another_week/_resource/scheme.png)\n",
        "Luckily, we already obtained the required outputs: `model.greedy_translations, model.greedy_mask` and we only need to compute levenshtein using `compute_levenshtein` function.\n"
      ]
    },
    {
      "cell_type": "code",
      "metadata": {
        "id": "Jp2miivztgvC",
        "colab_type": "code",
        "colab": {}
      },
      "source": [
        "class trainer:\n",
        "\n",
        "    input_sequence = tf.placeholder('int32', [None, None])\n",
        "\n",
        "    # use model to __sample__ symbolic translations given input_sequence\n",
        "    sample_translations, sample_logp = model.symbolic_translate(input_sequence, greedy=False)\n",
        "                                               \n",
        "    # use model to __greedy__ symbolic translations given input_sequence\n",
        "    greedy_translations, greedy_logp = model.symbolic_translate(input_sequence, greedy=True)\n",
        "\n",
        "    rewards = - compute_levenshtein(input_sequence, sample_translations)\n",
        "\n",
        "    # compute __negative__ levenshtein for greedy mode\n",
        "    baseline = - compute_levenshtein(input_sequence, greedy_translations)\n",
        "\n",
        "    # compute advantage using rewards and baseline\n",
        "    advantage = rewards - baseline\n",
        "    assert advantage.shape.ndims == 1, \"advantage must be of shape [batch_size]\"\n",
        "\n",
        "\n",
        "    # compute log_pi(a_t|s_t), shape = [batch, seq_length]\n",
        "    logprobs_phoneme = select_values_over_last_axis(sample_logp, sample_translations)\n",
        "    # ^-- hint: look at how crossentropy is implemented in supervised learning loss above\n",
        "    # mind the sign - this one should not be multiplied by -1 :)\n",
        "\n",
        "\n",
        "    # Compute policy gradient\n",
        "    # or rather surrogate function who's gradient is policy gradient\n",
        "    J = logprobs_phoneme * advantage[:, None]\n",
        "\n",
        "    mask = infer_mask(sample_translations, out_voc.eos_ix)\n",
        "    loss = - tf.reduce_sum(J * mask) / tf.reduce_sum(mask)\n",
        "\n",
        "    # regularize with negative entropy. Don't forget the sign!\n",
        "    # note: for entropy you need probabilities for all tokens (sample_logp), not just phoneme_logprobs\n",
        "    #entropy = <compute entropy matrix of shape[batch, seq_length], H = -sum(p*log_p), don't forget the sign!>\n",
        "    # hint: you can get sample probabilities from sample_logp using math :)\n",
        "    entropy = - tf.reduce_sum(sample_logp * tf.math.exp(sample_logp), axis=-1)\n",
        "\n",
        "    assert entropy.shape.ndims == 2, \"please make sure elementwise entropy is of shape [batch,time]\"\n",
        "\n",
        "    loss -= 0.01*tf.reduce_sum(entropy*mask) / tf.reduce_sum(mask)\n",
        "\n",
        "    # compute weight updates, clip by norm\n",
        "    grads = tf.gradients(loss, model.weights)\n",
        "    grads = tf.clip_by_global_norm(grads, 50)[0]\n",
        "\n",
        "    train_step = tf.train.AdamOptimizer(\n",
        "        learning_rate=1e-5).apply_gradients(zip(grads, model.weights,))\n",
        "\n",
        "\n",
        "initialize_uninitialized()"
      ],
      "execution_count": 29,
      "outputs": []
    },
    {
      "cell_type": "markdown",
      "metadata": {
        "id": "hGF_QXzCtgvG",
        "colab_type": "text"
      },
      "source": [
        "# Policy gradient training\n"
      ]
    },
    {
      "cell_type": "code",
      "metadata": {
        "id": "Y0CrNjK2tgvH",
        "colab_type": "code",
        "colab": {
          "base_uri": "https://localhost:8080/",
          "height": 314
        },
        "outputId": "0c7f0491-d317-445e-96d0-9dde48201b3c"
      },
      "source": [
        "iters = 100000\n",
        "for i in trange(iters):\n",
        "    bx = sample_batch(train_words, word_to_translation, 32)[0]\n",
        "    pseudo_loss, _ = s.run([trainer.loss, trainer.train_step], {\n",
        "                           trainer.input_sequence: bx})\n",
        "\n",
        "    loss_history.append(pseudo_loss)\n",
        "        \n",
        "    if (i+1) % REPORT_FREQ == 0:\n",
        "            clear_output(True)\n",
        "            current_scores = score(test_words)\n",
        "            editdist_history.append(current_scores.mean())\n",
        "            plt.figure(figsize=(12, 4))\n",
        "            plt.subplot(131)\n",
        "            plt.title('train loss / traning time')\n",
        "            plt.plot(loss_history)\n",
        "            plt.grid()\n",
        "            plt.subplot(132)\n",
        "            plt.title('val score distribution')\n",
        "            plt.hist(current_scores, bins=20)\n",
        "            plt.subplot(133)\n",
        "            plt.title('val score / traning time')\n",
        "            plt.plot(editdist_history)\n",
        "            plt.grid()\n",
        "            plt.show()\n",
        "            print(\"llh=%.3f, mean score=%.3f\" %\n",
        "                (np.mean(loss_history[-10:]), np.mean(editdist_history[-10:])))"
      ],
      "execution_count": 30,
      "outputs": [
        {
          "output_type": "display_data",
          "data": {
            "image/png": "[encoded data removed]",
            "text/plain": [
              "<Figure size 864x288 with 3 Axes>"
            ]
          },
          "metadata": {
            "tags": [],
            "needs_background": "light"
          }
        },
        {
          "output_type": "stream",
          "text": [
            " 53%|█████▎    | 52801/100000 [1:44:17<2:00:31,  6.53it/s]"
          ],
          "name": "stderr"
        },
        {
          "output_type": "stream",
          "text": [
            "llh=-0.615, mean score=6.400\n"
          ],
          "name": "stdout"
        },
        {
          "output_type": "stream",
          "text": [
            " 53%|█████▎    | 52804/100000 [1:44:17<1:38:45,  7.97it/s]"
          ],
          "name": "stderr"
        },
        {
          "output_type": "stream",
          "text": [
            "Buffered data was truncated after reaching the output size limit."
          ],
          "name": "stdout"
        }
      ]
    },
    {
      "cell_type": "markdown",
      "metadata": {
        "id": "3rpqim80tgvQ",
        "colab_type": "text"
      },
      "source": [
        "### Results"
      ]
    },
    {
      "cell_type": "code",
      "metadata": {
        "id": "NeaJeM5mtgvR",
        "colab_type": "code",
        "colab": {
          "base_uri": "https://localhost:8080/",
          "height": 185
        },
        "outputId": "9a081b9b-1be0-47e4-9178-843a9af17e33"
      },
      "source": [
        "for word in train_words[:10]:\n",
        "    print(\"%s -> %s\" % (word, translate([word])[0]))"
      ],
      "execution_count": 31,
      "outputs": [
        {
          "output_type": "stream",
          "text": [
            "מפרש קדמה -> camea ma\n",
            "the information -> the iinronn\n",
            "ביאליניצ'י -> billiiii\n",
            "סונו ג'וי -> sono go\n",
            "ויוויאן פוקס -> vioiin posk\n",
            "מנורת שמן -> canee sin\n",
            "רובין אליס -> robin llls\n",
            "פרנצ'סקו גוארדי -> francss   rrdd\n",
            "צ'איאונו -> chaion\n",
            "תאופיק אל-חכים -> thepil  aak\n"
          ],
          "name": "stdout"
        }
      ]
    },
    {
      "cell_type": "code",
      "metadata": {
        "id": "LCS5GUvbtgvT",
        "colab_type": "code",
        "colab": {
          "base_uri": "https://localhost:8080/",
          "height": 1000
        },
        "outputId": "29fccfdd-b9b0-4994-b00d-f3dca9f2bf6e"
      },
      "source": [
        "test_scores = []\n",
        "for start_i in trange(0, len(test_words), 32):\n",
        "    batch_words = test_words[start_i:start_i+32]\n",
        "    batch_trans = translate(batch_words)\n",
        "    distances = list(map(get_distance, batch_words, batch_trans))\n",
        "    test_scores.extend(distances)\n",
        "print(\"Supervised test score:\", np.mean(test_scores))\n",
        "\n",
        "# ^^ If you get Out Of Memory, please replace this with batched computation"
      ],
      "execution_count": 32,
      "outputs": [
        {
          "output_type": "stream",
          "text": [
            "\n",
            "  0%|          | 0/407 [00:00<?, ?it/s]\u001b[A\n",
            "  1%|          | 3/407 [00:00<00:14, 27.28it/s]\u001b[A\n",
            "  1%|▏         | 6/407 [00:00<00:14, 27.56it/s]\u001b[A\n",
            "  2%|▏         | 9/407 [00:00<00:14, 27.80it/s]\u001b[A\n",
            "  3%|▎         | 12/407 [00:00<00:14, 27.64it/s]\u001b[A\n",
            "  4%|▎         | 15/407 [00:00<00:14, 27.79it/s]\u001b[A\n",
            "  5%|▍         | 19/407 [00:00<00:13, 28.60it/s]\u001b[A\n",
            "  5%|▌         | 22/407 [00:00<00:13, 28.30it/s]\u001b[A\n",
            "  6%|▌         | 25/407 [00:00<00:13, 27.36it/s]\u001b[A\n",
            "  7%|▋         | 28/407 [00:01<00:13, 27.80it/s]\u001b[A\n",
            "  8%|▊         | 31/407 [00:01<00:13, 27.72it/s]\u001b[A\n",
            "  8%|▊         | 34/407 [00:01<00:13, 27.60it/s]\u001b[A\n",
            "  9%|▉         | 37/407 [00:01<00:13, 27.86it/s]\u001b[A\n",
            " 10%|▉         | 40/407 [00:01<00:13, 28.17it/s]\u001b[A\n",
            " 11%|█         | 43/407 [00:01<00:13, 27.34it/s]\u001b[A\n",
            " 11%|█▏        | 46/407 [00:01<00:12, 27.85it/s]\u001b[A\n",
            " 12%|█▏        | 49/407 [00:01<00:12, 28.23it/s]\u001b[A\n",
            " 13%|█▎        | 52/407 [00:01<00:12, 27.97it/s]\u001b[A\n",
            " 14%|█▎        | 55/407 [00:01<00:12, 27.38it/s]\u001b[A\n",
            " 14%|█▍        | 58/407 [00:02<00:12, 27.03it/s]\u001b[A\n",
            " 15%|█▍        | 61/407 [00:02<00:12, 26.71it/s]\u001b[A\n",
            " 16%|█▌        | 64/407 [00:02<00:12, 27.44it/s]\u001b[A\n",
            " 16%|█▋        | 67/407 [00:02<00:12, 27.40it/s]\u001b[A\n",
            " 17%|█▋        | 70/407 [00:02<00:12, 26.36it/s]\u001b[A\n",
            " 18%|█▊        | 73/407 [00:02<00:12, 27.18it/s]\u001b[A\n",
            " 19%|█▊        | 76/407 [00:02<00:12, 27.37it/s]\u001b[A\n",
            " 19%|█▉        | 79/407 [00:02<00:12, 27.20it/s]\u001b[A\n",
            " 20%|██        | 82/407 [00:02<00:12, 26.87it/s]\u001b[A\n",
            " 21%|██        | 85/407 [00:03<00:11, 26.92it/s]\u001b[A\n",
            " 22%|██▏       | 88/407 [00:03<00:12, 26.43it/s]\u001b[A\n",
            " 22%|██▏       | 91/407 [00:03<00:12, 26.23it/s]\u001b[A\n",
            " 23%|██▎       | 94/407 [00:03<00:11, 27.16it/s]\u001b[A\n",
            " 24%|██▍       | 97/407 [00:03<00:11, 26.83it/s]\u001b[A\n",
            " 25%|██▍       | 100/407 [00:03<00:11, 27.59it/s]\u001b[A\n",
            " 25%|██▌       | 103/407 [00:03<00:10, 27.69it/s]\u001b[A\n",
            " 26%|██▌       | 106/407 [00:03<00:10, 27.77it/s]\u001b[A\n",
            " 27%|██▋       | 109/407 [00:04<00:11, 25.08it/s]\u001b[A\n",
            " 28%|██▊       | 112/407 [00:04<00:12, 24.15it/s]\u001b[A\n",
            " 28%|██▊       | 115/407 [00:04<00:12, 23.36it/s]\u001b[A\n",
            " 29%|██▉       | 118/407 [00:04<00:11, 24.61it/s]\u001b[A\n",
            " 30%|██▉       | 121/407 [00:04<00:11, 25.56it/s]\u001b[A\n",
            " 30%|███       | 124/407 [00:04<00:10, 25.90it/s]\u001b[A\n",
            " 31%|███       | 127/407 [00:04<00:10, 26.47it/s]\u001b[A\n",
            " 32%|███▏      | 130/407 [00:04<00:10, 27.30it/s]\u001b[A\n",
            " 33%|███▎      | 133/407 [00:04<00:09, 27.91it/s]\u001b[A\n",
            " 33%|███▎      | 136/407 [00:05<00:09, 27.12it/s]\u001b[A\n",
            " 34%|███▍      | 139/407 [00:05<00:09, 27.75it/s]\u001b[A\n",
            " 35%|███▍      | 142/407 [00:05<00:09, 27.67it/s]\u001b[A\n",
            " 36%|███▌      | 145/407 [00:05<00:09, 27.11it/s]\u001b[A\n",
            " 36%|███▋      | 148/407 [00:05<00:09, 26.74it/s]\u001b[A\n",
            " 37%|███▋      | 151/407 [00:05<00:09, 26.53it/s]\u001b[A\n",
            " 38%|███▊      | 154/407 [00:05<00:09, 27.14it/s]\u001b[A\n",
            " 39%|███▉      | 158/407 [00:05<00:08, 27.76it/s]\u001b[A\n",
            " 40%|███▉      | 161/407 [00:05<00:08, 28.09it/s]\u001b[A\n",
            " 40%|████      | 164/407 [00:06<00:08, 27.24it/s]\u001b[A\n",
            " 41%|████      | 167/407 [00:06<00:08, 27.93it/s]\u001b[A\n",
            " 42%|████▏     | 170/407 [00:06<00:08, 27.58it/s]\u001b[A\n",
            " 43%|████▎     | 173/407 [00:06<00:08, 27.57it/s]\u001b[A\n",
            " 43%|████▎     | 176/407 [00:06<00:08, 27.69it/s]\u001b[A\n",
            " 44%|████▍     | 179/407 [00:06<00:08, 26.94it/s]\u001b[A\n",
            " 45%|████▍     | 182/407 [00:06<00:08, 26.57it/s]\u001b[A\n",
            " 45%|████▌     | 185/407 [00:06<00:08, 27.35it/s]\u001b[A\n",
            " 46%|████▌     | 188/407 [00:06<00:07, 27.84it/s]\u001b[A\n",
            " 47%|████▋     | 191/407 [00:07<00:07, 27.11it/s]\u001b[A\n",
            " 48%|████▊     | 194/407 [00:07<00:07, 27.37it/s]\u001b[A\n",
            " 48%|████▊     | 197/407 [00:07<00:07, 27.71it/s]\u001b[A\n",
            " 49%|████▉     | 200/407 [00:07<00:07, 27.65it/s]\u001b[A\n",
            " 50%|████▉     | 203/407 [00:07<00:07, 27.76it/s]\u001b[A\n",
            " 51%|█████     | 206/407 [00:07<00:07, 26.54it/s]\u001b[A\n",
            " 51%|█████▏    | 209/407 [00:07<00:07, 27.31it/s]\u001b[A\n",
            " 52%|█████▏    | 212/407 [00:07<00:07, 27.48it/s]\u001b[A\n",
            " 53%|█████▎    | 215/407 [00:07<00:07, 26.44it/s]\u001b[A\n",
            " 54%|█████▎    | 218/407 [00:08<00:07, 24.80it/s]\u001b[A\n",
            " 54%|█████▍    | 221/407 [00:08<00:07, 23.99it/s]\u001b[A\n",
            " 55%|█████▌    | 224/407 [00:08<00:07, 24.07it/s]\u001b[A\n",
            " 56%|█████▌    | 227/407 [00:08<00:07, 24.99it/s]\u001b[A\n",
            " 57%|█████▋    | 230/407 [00:08<00:06, 26.13it/s]\u001b[A\n",
            " 57%|█████▋    | 233/407 [00:08<00:06, 25.86it/s]\u001b[A\n",
            " 58%|█████▊    | 236/407 [00:08<00:06, 25.05it/s]\u001b[A\n",
            " 59%|█████▊    | 239/407 [00:08<00:06, 25.02it/s]\u001b[A\n",
            " 59%|█████▉    | 242/407 [00:09<00:06, 25.61it/s]\u001b[A\n",
            " 60%|██████    | 245/407 [00:09<00:06, 26.18it/s]\u001b[A\n",
            " 61%|██████    | 248/407 [00:09<00:06, 26.39it/s]\u001b[A\n",
            " 62%|██████▏   | 251/407 [00:09<00:05, 26.68it/s]\u001b[A\n",
            " 62%|██████▏   | 254/407 [00:09<00:05, 27.12it/s]\u001b[A\n",
            " 63%|██████▎   | 257/407 [00:09<00:05, 27.42it/s]\u001b[A\n",
            " 64%|██████▍   | 260/407 [00:09<00:05, 26.97it/s]\u001b[A\n",
            " 65%|██████▍   | 263/407 [00:09<00:05, 27.40it/s]\u001b[A\n",
            " 65%|██████▌   | 266/407 [00:09<00:05, 27.85it/s]\u001b[A\n",
            " 66%|██████▌   | 269/407 [00:09<00:04, 28.05it/s]\u001b[A\n",
            " 67%|██████▋   | 272/407 [00:10<00:05, 26.98it/s]\u001b[A\n",
            " 68%|██████▊   | 276/407 [00:10<00:04, 28.00it/s]\u001b[A\n",
            " 69%|██████▊   | 279/407 [00:10<00:04, 27.92it/s]\u001b[A\n",
            " 70%|██████▉   | 283/407 [00:10<00:04, 29.02it/s]\u001b[A\n",
            " 70%|███████   | 286/407 [00:10<00:04, 28.69it/s]\u001b[A\n",
            " 71%|███████   | 289/407 [00:10<00:04, 27.82it/s]\u001b[A\n",
            " 72%|███████▏  | 292/407 [00:10<00:04, 27.29it/s]\u001b[A\n",
            " 72%|███████▏  | 295/407 [00:10<00:04, 26.99it/s]\u001b[A\n",
            " 73%|███████▎  | 298/407 [00:11<00:04, 26.87it/s]\u001b[A\n",
            " 74%|███████▍  | 301/407 [00:11<00:03, 27.48it/s]\u001b[A\n",
            " 75%|███████▍  | 304/407 [00:11<00:03, 27.59it/s]\u001b[A\n",
            " 75%|███████▌  | 307/407 [00:11<00:03, 28.18it/s]\u001b[A\n",
            " 76%|███████▌  | 310/407 [00:11<00:03, 28.17it/s]\u001b[A\n",
            " 77%|███████▋  | 313/407 [00:11<00:03, 27.96it/s]\u001b[A\n",
            " 78%|███████▊  | 316/407 [00:11<00:03, 25.55it/s]\u001b[A\n",
            " 78%|███████▊  | 319/407 [00:11<00:03, 24.81it/s]\u001b[A\n",
            " 79%|███████▉  | 322/407 [00:11<00:03, 23.70it/s]\u001b[A\n",
            " 80%|███████▉  | 325/407 [00:12<00:03, 22.45it/s]\u001b[A\n",
            " 81%|████████  | 328/407 [00:12<00:03, 21.89it/s]\u001b[A\n",
            " 81%|████████▏ | 331/407 [00:12<00:03, 22.95it/s]\u001b[A\n",
            " 82%|████████▏ | 334/407 [00:12<00:03, 23.79it/s]\u001b[A\n",
            " 83%|████████▎ | 337/407 [00:12<00:02, 25.25it/s]\u001b[A\n",
            " 84%|████████▎ | 340/407 [00:12<00:02, 24.53it/s]\u001b[A\n",
            " 84%|████████▍ | 343/407 [00:12<00:02, 25.24it/s]\u001b[A\n",
            " 85%|████████▌ | 346/407 [00:12<00:02, 25.59it/s]\u001b[A\n",
            " 86%|████████▌ | 349/407 [00:13<00:02, 25.56it/s]\u001b[A\n",
            " 86%|████████▋ | 352/407 [00:13<00:02, 25.69it/s]\u001b[A\n",
            " 87%|████████▋ | 355/407 [00:13<00:01, 26.24it/s]\u001b[A\n",
            " 88%|████████▊ | 358/407 [00:13<00:01, 25.79it/s]\u001b[A\n",
            " 89%|████████▊ | 361/407 [00:13<00:01, 26.63it/s]\u001b[A\n",
            " 89%|████████▉ | 364/407 [00:13<00:01, 26.23it/s]\u001b[A\n",
            " 90%|█████████ | 367/407 [00:13<00:01, 25.68it/s]\u001b[A\n",
            " 91%|█████████ | 370/407 [00:13<00:01, 25.69it/s]\u001b[A\n",
            " 92%|█████████▏| 373/407 [00:13<00:01, 26.02it/s]\u001b[A\n",
            " 92%|█████████▏| 376/407 [00:14<00:01, 25.68it/s]\u001b[A\n",
            " 93%|█████████▎| 379/407 [00:14<00:01, 25.34it/s]\u001b[A\n",
            " 94%|█████████▍| 382/407 [00:14<00:00, 25.91it/s]\u001b[A\n",
            " 95%|█████████▍| 385/407 [00:14<00:00, 26.38it/s]\u001b[A\n",
            " 95%|█████████▌| 388/407 [00:14<00:00, 26.52it/s]\u001b[A\n",
            " 96%|█████████▌| 391/407 [00:14<00:00, 26.55it/s]\u001b[A\n",
            " 97%|█████████▋| 394/407 [00:14<00:00, 25.61it/s]\u001b[A\n",
            " 98%|█████████▊| 397/407 [00:14<00:00, 25.51it/s]\u001b[A\n",
            " 98%|█████████▊| 400/407 [00:15<00:00, 26.37it/s]\u001b[A\n",
            " 99%|█████████▉| 403/407 [00:15<00:00, 25.98it/s]\u001b[A\n",
            "100%|██████████| 407/407 [00:15<00:00, 26.61it/s]"
          ],
          "name": "stderr"
        },
        {
          "output_type": "stream",
          "text": [
            "Supervised test score: 6.477559176145097\n"
          ],
          "name": "stdout"
        },
        {
          "output_type": "stream",
          "text": [
            "\n"
          ],
          "name": "stderr"
        }
      ]
    },
    {
      "cell_type": "markdown",
      "metadata": {
        "id": "3CUayGZeHlMe",
        "colab_type": "text"
      },
      "source": [
        "***\n",
        "Checking Backend Code:"
      ]
    },
    {
      "cell_type": "code",
      "metadata": {
        "id": "a81g1xPfHa2J",
        "colab_type": "code",
        "colab": {
          "base_uri": "https://localhost:8080/",
          "height": 302
        },
        "outputId": "61c1fd44-ccdd-45be-bf83-7f6e4e8ea068"
      },
      "source": [
        "m = s.run(sampled_out)\n",
        "print(m,'\\n')\n",
        "\n",
        "q = s.run(logp)\n",
        "print(q.shape)\n",
        "print(q[0])"
      ],
      "execution_count": 49,
      "outputs": [
        {
          "output_type": "stream",
          "text": [
            "[[  0 281  95  14 179 180  57  58 167 145 148]\n",
            " [  0 115 212 220 248 246 155  17  62 192 176]\n",
            " [  0  91 151 102 174  65 238  85 100 275  92]] \n",
            "\n",
            "(3, 6, 283)\n",
            "[[  0.        -69.07755   -69.07755   ... -69.07755   -69.07755\n",
            "  -69.07755  ]\n",
            " [ -5.643199   -5.6467123  -5.649428  ...  -5.6427116  -5.648053\n",
            "   -5.642649 ]\n",
            " [ -5.6475224  -5.646464   -5.6531463 ...  -5.639222   -5.647919\n",
            "   -5.641734 ]\n",
            " [ -5.6489096  -5.647051   -5.657944  ...  -5.6444077  -5.643326\n",
            "   -5.642326 ]\n",
            " [ -5.649103   -5.647677   -5.6613264 ...  -5.647879   -5.639561\n",
            "   -5.644182 ]\n",
            " [ -5.6487446  -5.6485643  -5.6565247 ...  -5.649971   -5.632969\n",
            "   -5.648437 ]]\n"
          ],
          "name": "stdout"
        }
      ]
    },
    {
      "cell_type": "code",
      "metadata": {
        "id": "c7FbIbBNHjmR",
        "colab_type": "code",
        "colab": {
          "base_uri": "https://localhost:8080/",
          "height": 269
        },
        "outputId": "82a97c54-7279-49d0-cb8f-dd0788118279"
      },
      "source": [
        "_b = tf.fill([5], 3)\n",
        "print(s.run(_b))\n",
        "\n",
        "_f = tf.one_hot(_b, 7) + 0.1\n",
        "\n",
        "print(s.run(_f))\n",
        "\n",
        "print(s.run(_f[:, None]))"
      ],
      "execution_count": 74,
      "outputs": [
        {
          "output_type": "stream",
          "text": [
            "[3 3 3 3 3]\n",
            "[[0.1 0.1 0.1 1.1 0.1 0.1 0.1]\n",
            " [0.1 0.1 0.1 1.1 0.1 0.1 0.1]\n",
            " [0.1 0.1 0.1 1.1 0.1 0.1 0.1]\n",
            " [0.1 0.1 0.1 1.1 0.1 0.1 0.1]\n",
            " [0.1 0.1 0.1 1.1 0.1 0.1 0.1]]\n",
            "[[[0.1 0.1 0.1 1.1 0.1 0.1 0.1]]\n",
            "\n",
            " [[0.1 0.1 0.1 1.1 0.1 0.1 0.1]]\n",
            "\n",
            " [[0.1 0.1 0.1 1.1 0.1 0.1 0.1]]\n",
            "\n",
            " [[0.1 0.1 0.1 1.1 0.1 0.1 0.1]]\n",
            "\n",
            " [[0.1 0.1 0.1 1.1 0.1 0.1 0.1]]]\n"
          ],
          "name": "stdout"
        }
      ]
    },
    {
      "cell_type": "code",
      "metadata": {
        "id": "1jfhD7wcMTtI",
        "colab_type": "code",
        "colab": {
          "base_uri": "https://localhost:8080/",
          "height": 118
        },
        "outputId": "5bd53552-1c80-4a57-bb78-45a12a28bd19"
      },
      "source": [
        "_e = np.array([1, 2, 3, 4, 5, 6])\n",
        "_i = np.array([1, 1, 1, 1, 1, 1])\n",
        "_so = tf.scan(lambda s, e: e * s, _e, initializer=_i)\n",
        "print(s.run(_so))"
      ],
      "execution_count": 72,
      "outputs": [
        {
          "output_type": "stream",
          "text": [
            "[[  1   1   1   1   1   1]\n",
            " [  2   2   2   2   2   2]\n",
            " [  6   6   6   6   6   6]\n",
            " [ 24  24  24  24  24  24]\n",
            " [120 120 120 120 120 120]\n",
            " [720 720 720 720 720 720]]\n"
          ],
          "name": "stdout"
        }
      ]
    },
    {
      "cell_type": "code",
      "metadata": {
        "id": "UObmxbl2C3rw",
        "colab_type": "code",
        "colab": {}
      },
      "source": [
        "_values  = [ [1,2,3], \n",
        "            [4,5,6]]\n",
        "_indices = [ [] ]\n",
        "\n",
        "batch_size, seq_len = tf.shape(indices)[0], tf.shape(indices)[1]\n",
        "batch_i = tf.tile(tf.range(0, batch_size)[:, None], [1, seq_len])\n",
        "time_i = tf.tile(tf.range(0, seq_len)[None, :], [batch_size, 1])\n",
        "indices_nd = tf.stack([batch_i, time_i, indices], axis=-1)\n"
      ],
      "execution_count": null,
      "outputs": []
    },
    {
      "cell_type": "code",
      "metadata": {
        "id": "iZx2Yx-WQKxL",
        "colab_type": "code",
        "colab": {}
      },
      "source": [
        ""
      ],
      "execution_count": null,
      "outputs": []
    },
    {
      "cell_type": "markdown",
      "metadata": {
        "id": "ounJnJ4NtgvX",
        "colab_type": "text"
      },
      "source": [
        "## Step 6: Make it actually work (5++ pts)\n",
        "<img src=https://github.com/yandexdataschool/Practical_RL/raw/master/yet_another_week/_resource/do_something_scst.png width=400>\n",
        "\n",
        "In this section we want you to finally __restart with EASY_MODE=False__ and experiment to find a good model/curriculum for that task.\n",
        "\n",
        "We recommend you to start with the following architecture\n",
        "\n",
        "```\n",
        "encoder---decoder\n",
        "\n",
        "           P(y|h)\n",
        "             ^\n",
        " LSTM  ->   LSTM\n",
        "  ^          ^\n",
        " biLSTM  ->   LSTM\n",
        "  ^          ^\n",
        "input       y_prev\n",
        "```\n",
        "\n",
        "__Note:__ you can fit all 4 state tensors of both LSTMs into a in a single state - just assume that it contains, for example, [h0, c0, h1, c1] - pack it in encode and update in decode.\n",
        "\n",
        "\n",
        "Here are some cool ideas on what you can do then.\n",
        "\n",
        "__General tips & tricks:__\n",
        "* In some tensorflow versions and for some layers, it is required that each rnn/gru/lstm cell gets it's own `tf.variable_scope(unique_name, reuse=False)`.\n",
        "  * Otherwise it will complain about wrong tensor sizes because it tries to reuse weights from one rnn to the other.\n",
        "* You will likely need to adjust pre-training time for such a network.\n",
        "* Supervised pre-training may benefit from clipping gradients somehow.\n",
        "* SCST may indulge a higher learning rate in some cases and changing entropy regularizer over time.\n",
        "* It's often useful to save pre-trained model parameters to not re-train it every time you want new policy gradient parameters. \n",
        "* When leaving training for nighttime, try setting REPORT_FREQ to a larger value (e.g. 500) not to waste time on it.\n",
        "\n",
        "__Formal criteria:__\n",
        "To get 5 points we want you to build an architecture that:\n",
        "* _doesn't consist of single GRU_\n",
        "* _works better_ than single GRU baseline. \n",
        "* We also want you to provide either learning curve or trained model, preferably both\n",
        "* ... and write a brief report or experiment log describing what you did and how it fared.\n",
        "\n",
        "### Attention\n",
        "There's more than one way to connect decoder to encoder\n",
        "  * __Vanilla:__ layer_i of encoder last state goes to layer_i of decoder initial state\n",
        "  * __Every tick:__ feed encoder last state _on every iteration_ of decoder.\n",
        "  * __Attention:__ allow decoder to \"peek\" at one (or several) positions of encoded sequence on every tick.\n",
        "  \n",
        "The most effective (and cool) of those is, of course, attention.\n",
        "You can read more about attention [in this nice blog post](https://distill.pub/2016/augmented-rnns/). The easiest way to begin is to use \"soft\" attention with \"additive\" or \"dot-product\" intermediate layers.\n",
        "\n",
        "__Tips__\n",
        "* Model usually generalizes better if you no longer allow decoder to see final encoder state\n",
        "* Once your model made it through several epochs, it is a good idea to visualize attention maps to understand what your model has actually learned\n",
        "\n",
        "* There's more stuff [here](https://github.com/yandexdataschool/Practical_RL/blob/master/week8_scst/bonus.ipynb)\n",
        "* If you opted for hard attention, we recommend [gumbel-softmax](https://blog.evjang.com/2016/11/tutorial-categorical-variational.html) instead of sampling. Also please make sure soft attention works fine before you switch to hard.\n",
        "\n",
        "### UREX\n",
        "* This is a way to improve exploration in policy-based settings. The main idea is that you find and upweight under-appreciated actions.\n",
        "* Here's [video](https://www.youtube.com/watch?v=fZNyHoXgV7M&feature=youtu.be&t=3444)\n",
        " and an [article](https://arxiv.org/abs/1611.09321).\n",
        "* You may want to reduce batch size 'cuz UREX requires you to sample multiple times per source sentence.\n",
        "* Once you got it working, try using experience replay with importance sampling instead of (in addition to) basic UREX.\n",
        "\n",
        "### Some additional ideas:\n",
        "* (advanced deep learning) It may be a good idea to first train on small phrases and then adapt to larger ones (a.k.a. training curriculum).\n",
        "* (advanced nlp) You may want to switch from raw utf8 to something like unicode or even syllables to make task easier.\n",
        "* (advanced nlp) Since hebrew words are written __with vowels omitted__, you may want to use a small Hebrew vowel markup dataset at `he-pron-wiktionary.txt`.\n",
        "\n"
      ]
    },
    {
      "cell_type": "markdown",
      "metadata": {
        "id": "ZqHc5uZItgvX",
        "colab_type": "text"
      },
      "source": [
        "### Bonus hints: [here](https://github.com/yandexdataschool/Practical_RL/blob/master/week8_scst/bonus.ipynb)"
      ]
    },
    {
      "cell_type": "code",
      "metadata": {
        "id": "wp5iX7pZtgvY",
        "colab_type": "code",
        "colab": {}
      },
      "source": [
        "assert not EASY_MODE, \"make sure you set EASY_MODE = False at the top of the notebook.\""
      ],
      "execution_count": null,
      "outputs": []
    },
    {
      "cell_type": "markdown",
      "metadata": {
        "id": "HAh86imUtgva",
        "colab_type": "text"
      },
      "source": [
        "`[your report/log here or anywhere you please]`"
      ]
    },
    {
      "cell_type": "markdown",
      "metadata": {
        "id": "iCf65Df6tgvb",
        "colab_type": "text"
      },
      "source": [
        "__Contributions:__ This notebook is brought to you by\n",
        "* Yandex [MT team](https://tech.yandex.com/translate/)\n",
        "* Denis Mazur ([DeniskaMazur](https://github.com/DeniskaMazur)), Oleg Vasilev ([Omrigan](https://github.com/Omrigan/)), Dmitry Emelyanenko ([TixFeniks](https://github.com/tixfeniks)) and Fedor Ratnikov ([justheuristic](https://github.com/justheuristic/))\n",
        "* Dataset is parsed from [Wiktionary](https://en.wiktionary.org), which is under CC-BY-SA and GFDL licenses.\n"
      ]
    }
  ]
}