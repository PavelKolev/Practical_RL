{
  "nbformat": 4,
  "nbformat_minor": 0,
  "metadata": {
    "colab": {
      "name": "w8_practice_lstm_distinct_tf_v2.ipynb",
      "provenance": [],
      "collapsed_sections": []
    },
    "kernelspec": {
      "name": "python3",
      "display_name": "Python 3"
    }
  },
  "cells": [
    {
      "cell_type": "markdown",
      "metadata": {
        "id": "hxrhkGBVY4UN",
        "colab_type": "text"
      },
      "source": [
        "### Deep Kung-Fu with advantage actor-critic\n",
        "\n",
        "In this notebook you'll build a deep reinforcement learning agent for Atari [Kung-Fu Master](https://gym.openai.com/envs/KungFuMaster-v0/) that uses a recurrent neural net.\n",
        "\n",
        "![https://upload.wikimedia.org/wikipedia/en/6/66/Kung_fu_master_mame.png](https://upload.wikimedia.org/wikipedia/en/6/66/Kung_fu_master_mame.png)"
      ]
    },
    {
      "cell_type": "code",
      "metadata": {
        "id": "zRUw7nQHY4UO",
        "colab_type": "code",
        "colab": {
          "base_uri": "https://localhost:8080/",
          "height": 1000
        },
        "outputId": "c4daabd9-fdac-43c4-fe63-4ad59a2837fc"
      },
      "source": [
        "import sys, os\n",
        "if 'google.colab' in sys.modules:\n",
        "    # https://github.com/yandexdataschool/Practical_RL/issues/256\n",
        "    !pip uninstall tensorflow --yes\n",
        "    !pip uninstall keras --yes\n",
        "    !pip install tensorflow-gpu==1.13.1\n",
        "    !pip install keras==2.2.4\n",
        "    \n",
        "    if not os.path.exists('.setup_complete'):\n",
        "        !wget -q https://raw.githubusercontent.com/yandexdataschool/Practical_RL/master/setup_colab.sh -O- | bash\n",
        "\n",
        "        !wget -q https://raw.githubusercontent.com/yandexdataschool/Practical_RL/master/week08_pomdp/atari_util.py\n",
        "        \n",
        "        !touch .setup_complete\n",
        "\n",
        "# This code creates a virtual display to draw game images on.\n",
        "# It will have no effect if your machine has a monitor.\n",
        "if type(os.environ.get(\"DISPLAY\")) is not str or len(os.environ.get(\"DISPLAY\")) == 0:\n",
        "    !bash ../xvfb start\n",
        "    os.environ['DISPLAY'] = ':1'"
      ],
      "execution_count": 1,
      "outputs": [
        {
          "output_type": "stream",
          "text": [
            "Uninstalling tensorflow-2.3.0:\n",
            "  Successfully uninstalled tensorflow-2.3.0\n",
            "Uninstalling Keras-2.4.3:\n",
            "  Successfully uninstalled Keras-2.4.3\n",
            "Collecting tensorflow-gpu==1.13.1\n",
            "\u001b[?25l  Downloading https://files.pythonhosted.org/packages/7b/b1/0ad4ae02e17ddd62109cd54c291e311c4b5fd09b4d0678d3d6ce4159b0f0/tensorflow_gpu-1.13.1-cp36-cp36m-manylinux1_x86_64.whl (345.2MB)\n",
            "\u001b[K     |████████████████████████████████| 345.2MB 45kB/s \n",
            "\u001b[?25hRequirement already satisfied: numpy>=1.13.3 in /usr/local/lib/python3.6/dist-packages (from tensorflow-gpu==1.13.1) (1.18.5)\n",
            "Requirement already satisfied: six>=1.10.0 in /usr/local/lib/python3.6/dist-packages (from tensorflow-gpu==1.13.1) (1.15.0)\n",
            "Requirement already satisfied: astor>=0.6.0 in /usr/local/lib/python3.6/dist-packages (from tensorflow-gpu==1.13.1) (0.8.1)\n",
            "Requirement already satisfied: termcolor>=1.1.0 in /usr/local/lib/python3.6/dist-packages (from tensorflow-gpu==1.13.1) (1.1.0)\n",
            "Collecting tensorflow-estimator<1.14.0rc0,>=1.13.0\n",
            "\u001b[?25l  Downloading https://files.pythonhosted.org/packages/bb/48/13f49fc3fa0fdf916aa1419013bb8f2ad09674c275b4046d5ee669a46873/tensorflow_estimator-1.13.0-py2.py3-none-any.whl (367kB)\n",
            "\u001b[K     |████████████████████████████████| 368kB 45.2MB/s \n",
            "\u001b[?25hRequirement already satisfied: absl-py>=0.1.6 in /usr/local/lib/python3.6/dist-packages (from tensorflow-gpu==1.13.1) (0.9.0)\n",
            "Requirement already satisfied: grpcio>=1.8.6 in /usr/local/lib/python3.6/dist-packages (from tensorflow-gpu==1.13.1) (1.31.0)\n",
            "Requirement already satisfied: protobuf>=3.6.1 in /usr/local/lib/python3.6/dist-packages (from tensorflow-gpu==1.13.1) (3.12.4)\n",
            "Requirement already satisfied: gast>=0.2.0 in /usr/local/lib/python3.6/dist-packages (from tensorflow-gpu==1.13.1) (0.3.3)\n",
            "Collecting keras-applications>=1.0.6\n",
            "\u001b[?25l  Downloading https://files.pythonhosted.org/packages/71/e3/19762fdfc62877ae9102edf6342d71b28fbfd9dea3d2f96a882ce099b03f/Keras_Applications-1.0.8-py3-none-any.whl (50kB)\n",
            "\u001b[K     |████████████████████████████████| 51kB 5.8MB/s \n",
            "\u001b[?25hCollecting tensorboard<1.14.0,>=1.13.0\n",
            "\u001b[?25l  Downloading https://files.pythonhosted.org/packages/0f/39/bdd75b08a6fba41f098b6cb091b9e8c7a80e1b4d679a581a0ccd17b10373/tensorboard-1.13.1-py3-none-any.whl (3.2MB)\n",
            "\u001b[K     |████████████████████████████████| 3.2MB 20.6MB/s \n",
            "\u001b[?25hRequirement already satisfied: wheel>=0.26 in /usr/local/lib/python3.6/dist-packages (from tensorflow-gpu==1.13.1) (0.34.2)\n",
            "Requirement already satisfied: keras-preprocessing>=1.0.5 in /usr/local/lib/python3.6/dist-packages (from tensorflow-gpu==1.13.1) (1.1.2)\n",
            "Collecting mock>=2.0.0\n",
            "  Downloading https://files.pythonhosted.org/packages/cd/74/d72daf8dff5b6566db857cfd088907bb0355f5dd2914c4b3ef065c790735/mock-4.0.2-py3-none-any.whl\n",
            "Requirement already satisfied: setuptools in /usr/local/lib/python3.6/dist-packages (from protobuf>=3.6.1->tensorflow-gpu==1.13.1) (49.2.0)\n",
            "Requirement already satisfied: h5py in /usr/local/lib/python3.6/dist-packages (from keras-applications>=1.0.6->tensorflow-gpu==1.13.1) (2.10.0)\n",
            "Requirement already satisfied: werkzeug>=0.11.15 in /usr/local/lib/python3.6/dist-packages (from tensorboard<1.14.0,>=1.13.0->tensorflow-gpu==1.13.1) (1.0.1)\n",
            "Requirement already satisfied: markdown>=2.6.8 in /usr/local/lib/python3.6/dist-packages (from tensorboard<1.14.0,>=1.13.0->tensorflow-gpu==1.13.1) (3.2.2)\n",
            "Requirement already satisfied: importlib-metadata; python_version < \"3.8\" in /usr/local/lib/python3.6/dist-packages (from markdown>=2.6.8->tensorboard<1.14.0,>=1.13.0->tensorflow-gpu==1.13.1) (1.7.0)\n",
            "Requirement already satisfied: zipp>=0.5 in /usr/local/lib/python3.6/dist-packages (from importlib-metadata; python_version < \"3.8\"->markdown>=2.6.8->tensorboard<1.14.0,>=1.13.0->tensorflow-gpu==1.13.1) (3.1.0)\n",
            "Installing collected packages: mock, tensorflow-estimator, keras-applications, tensorboard, tensorflow-gpu\n",
            "  Found existing installation: tensorflow-estimator 2.3.0\n",
            "    Uninstalling tensorflow-estimator-2.3.0:\n",
            "      Successfully uninstalled tensorflow-estimator-2.3.0\n",
            "  Found existing installation: tensorboard 2.3.0\n",
            "    Uninstalling tensorboard-2.3.0:\n",
            "      Successfully uninstalled tensorboard-2.3.0\n",
            "Successfully installed keras-applications-1.0.8 mock-4.0.2 tensorboard-1.13.1 tensorflow-estimator-1.13.0 tensorflow-gpu-1.13.1\n",
            "Collecting keras==2.2.4\n",
            "\u001b[?25l  Downloading https://files.pythonhosted.org/packages/5e/10/aa32dad071ce52b5502266b5c659451cfd6ffcbf14e6c8c4f16c0ff5aaab/Keras-2.2.4-py2.py3-none-any.whl (312kB)\n",
            "\u001b[K     |████████████████████████████████| 317kB 1.8MB/s \n",
            "\u001b[?25hRequirement already satisfied: six>=1.9.0 in /usr/local/lib/python3.6/dist-packages (from keras==2.2.4) (1.15.0)\n",
            "Requirement already satisfied: numpy>=1.9.1 in /usr/local/lib/python3.6/dist-packages (from keras==2.2.4) (1.18.5)\n",
            "Requirement already satisfied: scipy>=0.14 in /usr/local/lib/python3.6/dist-packages (from keras==2.2.4) (1.4.1)\n",
            "Requirement already satisfied: pyyaml in /usr/local/lib/python3.6/dist-packages (from keras==2.2.4) (3.13)\n",
            "Requirement already satisfied: keras-applications>=1.0.6 in /usr/local/lib/python3.6/dist-packages (from keras==2.2.4) (1.0.8)\n",
            "Requirement already satisfied: h5py in /usr/local/lib/python3.6/dist-packages (from keras==2.2.4) (2.10.0)\n",
            "Requirement already satisfied: keras-preprocessing>=1.0.5 in /usr/local/lib/python3.6/dist-packages (from keras==2.2.4) (1.1.2)\n",
            "\u001b[31mERROR: fancyimpute 0.4.3 requires tensorflow, which is not installed.\u001b[0m\n",
            "Installing collected packages: keras\n",
            "Successfully installed keras-2.2.4\n",
            "Selecting previously unselected package xvfb.\n",
            "(Reading database ... 144487 files and directories currently installed.)\n",
            "Preparing to unpack .../xvfb_2%3a1.19.6-1ubuntu4.4_amd64.deb ...\n",
            "Unpacking xvfb (2:1.19.6-1ubuntu4.4) ...\n",
            "Setting up xvfb (2:1.19.6-1ubuntu4.4) ...\n",
            "Processing triggers for man-db (2.8.3-2ubuntu0.1) ...\n",
            "Starting virtual X frame buffer: Xvfb.\n"
          ],
          "name": "stdout"
        }
      ]
    },
    {
      "cell_type": "code",
      "metadata": {
        "id": "RhkyrISI5lA5",
        "colab_type": "code",
        "colab": {}
      },
      "source": [
        "\"\"\"\n",
        "A thin wrapper for openAI gym environments that maintains a set of parallel games and has a method to generate\n",
        "interaction sessions given agent one-step applier function.\n",
        "\"\"\"\n",
        "\n",
        "import numpy as np\n",
        "\n",
        "# A whole lot of space invaders\n",
        "\n",
        "\n",
        "class EnvPool(object):\n",
        "    def __init__(self, actor, critic, make_env, n_parallel_games=1):\n",
        "        \"\"\"\n",
        "        A special class that handles training on multiple parallel sessions\n",
        "        and is capable of some auxilary actions like evaluating agent on one game session (See .evaluate()).\n",
        "\n",
        "        :param agent: Agent which interacts with the environment.\n",
        "        :param make_env: Factory that produces environments OR a name of the gym environment.\n",
        "        :param n_games: Number of parallel games. One game by default.\n",
        "        :param max_size: Max pool size by default (if appending sessions). By default, pool is not constrained in size.\n",
        "        \"\"\"\n",
        "        # Create atari games.\n",
        "        self.actor  = actor\n",
        "        self.critic = critic\n",
        "        self.make_env = make_env\n",
        "        self.envs = [self.make_env() for _ in range(n_parallel_games)]\n",
        "\n",
        "        # Initial observations.\n",
        "        self.prev_observations = [env.reset() for env in self.envs]\n",
        "\n",
        "        # Agent memory variables (if you use recurrent networks).\n",
        "        self.prev_memory_states_actor  = actor.get_initial_state(n_parallel_games)\n",
        "        self.prev_memory_states_critic = critic.get_initial_state(n_parallel_games)\n",
        "\n",
        "        # Whether particular session has just been terminated and needs\n",
        "        # restarting.\n",
        "        self.just_ended = [False] * len(self.envs)\n",
        "\n",
        "\n",
        "    def interact(self, n_steps=100, verbose=False):\n",
        "        \"\"\"Generate interaction sessions with ataries (openAI gym atari environments)\n",
        "        Sessions will have length n_steps. Each time one of games is finished, it is immediately getting reset\n",
        "        and this time is recorded in is_alive_log (See returned values).\n",
        "\n",
        "        :param n_steps: Length of an interaction.\n",
        "        :returns: observation_seq, action_seq, reward_seq, is_alive_seq\n",
        "        :rtype: a bunch of tensors [batch, tick, ...]\n",
        "        \"\"\"\n",
        "\n",
        "        def env_step(i, action):\n",
        "            if not self.just_ended[i]:\n",
        "                new_observation, cur_reward, is_done, info = self.envs[i].step(action)\n",
        "                if is_done:\n",
        "                    # Game ends now, will finalize on next tick.\n",
        "                    self.just_ended[i] = True\n",
        "\n",
        "                # note: is_alive=True in any case because environment is still\n",
        "                # alive (last tick alive) in our notation.\n",
        "                return new_observation, cur_reward, True, info\n",
        "            else:\n",
        "                # Reset environment, get new observation to be used on next\n",
        "                # tick.\n",
        "                new_observation = self.envs[i].reset()\n",
        "\n",
        "                # Reset memory for new episode.\n",
        "                initial_memory_state_actor  = self.actor.get_initial_state(batch_size=1)\n",
        "                initial_memory_state_critic = self.critic.get_initial_state(batch_size=1)\n",
        "\n",
        "                for m_i in range(len(new_memory_states_actor)):\n",
        "                    new_memory_states_actor[m_i][i]  = initial_memory_state_actor[m_i][0]\n",
        "\n",
        "                for m_i in range(len(new_memory_states_critic)):\n",
        "                    new_memory_states_critic[m_i][i] = initial_memory_state_critic[m_i][0]\n",
        "\n",
        "                if verbose:\n",
        "                    print(\"env %i reloaded\" % i)\n",
        "\n",
        "                self.just_ended[i] = False\n",
        "\n",
        "                return new_observation, 0, False, {'end': True}\n",
        "\n",
        "        history_log = []\n",
        "        \n",
        "        last_prev_mem_state_actor  = self.prev_memory_states_actor\n",
        "        last_prev_mem_state_critic = self.prev_memory_states_critic\n",
        "\n",
        "        for i in range(n_steps):\n",
        "            new_memory_states_actor, logits = self.actor.step(self.prev_memory_states_actor, \n",
        "                                                              self.prev_observations)\n",
        "            sampled_actions = self.actor.sample_actions(logits)\n",
        "\n",
        "            new_memory_states_critic, state_values = self.critic.step(self.prev_memory_states_critic,\n",
        "                                                                      self.prev_observations)\n",
        "\n",
        "            new_observations, cur_rewards, is_alive, infos = zip(\n",
        "                *map(env_step, range(len(self.envs)), sampled_actions))\n",
        "            \n",
        "            \n",
        "            # Append data tuple for this tick.\n",
        "            history_log.append(\n",
        "                (self.prev_observations, sampled_actions, cur_rewards, is_alive))\n",
        "\n",
        "            \n",
        "            self.prev_observations  = new_observations\n",
        "\n",
        "            last_prev_mem_state_actor  = self.prev_memory_states_actor\n",
        "            last_prev_mem_state_critic = self.prev_memory_states_critic\n",
        "\n",
        "            self.prev_memory_states_actor  = new_memory_states_actor\n",
        "            self.prev_memory_states_critic = new_memory_states_critic\n",
        "            \n",
        "            \n",
        "\n",
        "        # add last observation\n",
        "        #dummy_actions = [0] * len(self.envs)\n",
        "        #dummy_rewards = [0] * len(self.envs)\n",
        "        #dummy_mask = [1] * len(self.envs)\n",
        "        #history_log.append(\n",
        "        #    (self.prev_observations,\n",
        "        #     dummy_actions,\n",
        "        #     dummy_rewards,\n",
        "        #     dummy_mask))\n",
        "\n",
        "        # cast to numpy arrays, \n",
        "        # transpose from [time, batch, ...] to [batch, time, ...]\n",
        "        history_log = [\n",
        "            np.array(tensor).swapaxes(0, 1)\n",
        "            for tensor in zip(*history_log)\n",
        "        ]\n",
        "        observation_seq, action_seq, reward_seq, is_alive_seq = history_log\n",
        "\n",
        "        return observation_seq, action_seq, reward_seq, is_alive_seq, last_prev_mem_state_critic\n"
      ],
      "execution_count": 2,
      "outputs": []
    },
    {
      "cell_type": "code",
      "metadata": {
        "id": "cm35vEADY4UT",
        "colab_type": "code",
        "colab": {}
      },
      "source": [
        "import numpy as np\n",
        "\n",
        "import matplotlib.pyplot as plt\n",
        "%matplotlib inline\n",
        "\n",
        "from IPython.display import display"
      ],
      "execution_count": 3,
      "outputs": []
    },
    {
      "cell_type": "markdown",
      "metadata": {
        "id": "4pI8-QsiY4UW",
        "colab_type": "text"
      },
      "source": [
        "For starters, let's take a look at the game itself:\n",
        "\n",
        "* Image resized to 42x42 and converted to grayscale to run faster\n",
        "* Agent sees last 4 frames of game to account for object velocity"
      ]
    },
    {
      "cell_type": "code",
      "metadata": {
        "id": "Qg8qz_iMY4UX",
        "colab_type": "code",
        "colab": {
          "base_uri": "https://localhost:8080/",
          "height": 87
        },
        "outputId": "c241c883-71d2-4d48-c4c0-af8d7caf0889"
      },
      "source": [
        "import gym\n",
        "from atari_util import PreprocessAtari\n",
        "\n",
        "def make_env():\n",
        "    env = gym.make(\"KungFuMasterDeterministic-v0\")\n",
        "    env = PreprocessAtari(\n",
        "        env, height=42, width=42,\n",
        "        crop=lambda img: img[60:-30, 5:],\n",
        "        dim_order='tensorflow',\n",
        "        color=False, n_frames=4)\n",
        "    return env\n",
        "\n",
        "env = make_env()\n",
        "\n",
        "obs_shape = env.observation_space.shape\n",
        "n_actions = env.action_space.n\n",
        "\n",
        "print(\"Observation shape:\", obs_shape)\n",
        "print(\"Num actions:\", n_actions)\n",
        "print(\"Action names:\", env.env.env.get_action_meanings())"
      ],
      "execution_count": 4,
      "outputs": [
        {
          "output_type": "stream",
          "text": [
            "Observation shape: (42, 42, 4)\n",
            "Num actions: 14\n",
            "Action names: ['NOOP', 'UP', 'RIGHT', 'LEFT', 'DOWN', 'DOWNRIGHT', 'DOWNLEFT', 'RIGHTFIRE', 'LEFTFIRE', 'DOWNFIRE', 'UPRIGHTFIRE', 'UPLEFTFIRE', 'DOWNRIGHTFIRE', 'DOWNLEFTFIRE']\n"
          ],
          "name": "stdout"
        }
      ]
    },
    {
      "cell_type": "code",
      "metadata": {
        "id": "Z658owR2Y4Uc",
        "colab_type": "code",
        "colab": {
          "base_uri": "https://localhost:8080/",
          "height": 412
        },
        "outputId": "e037f7a4-23d1-47a3-9373-005a80da7c74"
      },
      "source": [
        "s = env.reset()\n",
        "for _ in range(100):\n",
        "    s, _, _, _ = env.step(env.action_space.sample())\n",
        "\n",
        "plt.title('Game image')\n",
        "plt.imshow(env.render('rgb_array'))\n",
        "plt.show()\n",
        "\n",
        "plt.title('Agent observation (4-frame buffer)')\n",
        "plt.imshow(s.transpose([0, 2, 1]).reshape([42,-1]))\n",
        "plt.show()"
      ],
      "execution_count": 5,
      "outputs": [
        {
          "output_type": "display_data",
          "data": {
            "image/png": "[encoded data removed]",
            "text/plain": [
              "<Figure size 432x288 with 1 Axes>"
            ]
          },
          "metadata": {
            "tags": [],
            "needs_background": "light"
          }
        },
        {
          "output_type": "display_data",
          "data": {
            "image/png": "[encoded data removed]",
            "text/plain": [
              "<Figure size 432x288 with 1 Axes>"
            ]
          },
          "metadata": {
            "tags": [],
            "needs_background": "light"
          }
        }
      ]
    },
    {
      "cell_type": "markdown",
      "metadata": {
        "id": "U-iqdJDMY4Uf",
        "colab_type": "text"
      },
      "source": [
        "### Simple agent for fully-observable MDP\n",
        "\n",
        "Here's a code for an agent that only uses feedforward layers. Please read it carefully: you'll have to extend it later!"
      ]
    },
    {
      "cell_type": "code",
      "metadata": {
        "id": "wiTI0SnkY4Ug",
        "colab_type": "code",
        "colab": {
          "base_uri": "https://localhost:8080/",
          "height": 255
        },
        "outputId": "d3b2437c-2948-49d0-84ac-9af189cb7951"
      },
      "source": [
        "import tensorflow as tf\n",
        "from keras.layers import Conv2D, Dense, Flatten\n",
        "from tensorflow.nn.rnn_cell import LSTMCell, LSTMStateTuple\n",
        "\n",
        "\n",
        "tf.reset_default_graph()\n",
        "sess = tf.InteractiveSession()"
      ],
      "execution_count": 6,
      "outputs": [
        {
          "output_type": "stream",
          "text": [
            "/usr/local/lib/python3.6/dist-packages/tensorflow/python/framework/dtypes.py:526: FutureWarning: Passing (type, 1) or '1type' as a synonym of type is deprecated; in a future version of numpy, it will be understood as (type, (1,)) / '(1,)type'.\n",
            "  _np_qint8 = np.dtype([(\"qint8\", np.int8, 1)])\n",
            "/usr/local/lib/python3.6/dist-packages/tensorflow/python/framework/dtypes.py:527: FutureWarning: Passing (type, 1) or '1type' as a synonym of type is deprecated; in a future version of numpy, it will be understood as (type, (1,)) / '(1,)type'.\n",
            "  _np_quint8 = np.dtype([(\"quint8\", np.uint8, 1)])\n",
            "/usr/local/lib/python3.6/dist-packages/tensorflow/python/framework/dtypes.py:528: FutureWarning: Passing (type, 1) or '1type' as a synonym of type is deprecated; in a future version of numpy, it will be understood as (type, (1,)) / '(1,)type'.\n",
            "  _np_qint16 = np.dtype([(\"qint16\", np.int16, 1)])\n",
            "/usr/local/lib/python3.6/dist-packages/tensorflow/python/framework/dtypes.py:529: FutureWarning: Passing (type, 1) or '1type' as a synonym of type is deprecated; in a future version of numpy, it will be understood as (type, (1,)) / '(1,)type'.\n",
            "  _np_quint16 = np.dtype([(\"quint16\", np.uint16, 1)])\n",
            "/usr/local/lib/python3.6/dist-packages/tensorflow/python/framework/dtypes.py:530: FutureWarning: Passing (type, 1) or '1type' as a synonym of type is deprecated; in a future version of numpy, it will be understood as (type, (1,)) / '(1,)type'.\n",
            "  _np_qint32 = np.dtype([(\"qint32\", np.int32, 1)])\n",
            "/usr/local/lib/python3.6/dist-packages/tensorflow/python/framework/dtypes.py:535: FutureWarning: Passing (type, 1) or '1type' as a synonym of type is deprecated; in a future version of numpy, it will be understood as (type, (1,)) / '(1,)type'.\n",
            "  np_resource = np.dtype([(\"resource\", np.ubyte, 1)])\n",
            "Using TensorFlow backend.\n"
          ],
          "name": "stderr"
        }
      ]
    },
    {
      "cell_type": "code",
      "metadata": {
        "id": "Ff74wi7RY4Uj",
        "colab_type": "code",
        "colab": {}
      },
      "source": [
        "class SimpleRecurrentAgent_Q:\n",
        "    def __init__(self, name, obs_shape, n_actions, reuse=False):\n",
        "        \"\"\"A simple actor-critic agent\"\"\"\n",
        "\n",
        "        with tf.variable_scope(name, reuse=reuse):\n",
        "            # Note: number of units/filters is arbitrary, you can and should change it at your will\n",
        "             # Note: number of units/filters is arbitrary, you can and should change it at your will\n",
        "            self.conv0 = Conv2D(32, (4, 4), strides=(2, 2), activation='relu')\n",
        "            self.conv1 = Conv2D(64, (3, 3), strides=(2, 2), activation='relu')\n",
        "            self.conv2 = Conv2D(64, (3, 3), strides=(1, 1), activation='relu')\n",
        "\n",
        "            self.flatten = Flatten()\n",
        "            self.hid     = Dense(128, activation='relu')\n",
        "            \n",
        "            # Actor: pi(a|s)\n",
        "            self.logits  = Dense(n_actions)\n",
        "            \n",
        "            # Recurrent Layer\n",
        "            self.hid_size  = 128\n",
        "            self.rnn0 = LSTMCell(self.hid_size, state_is_tuple = True)\n",
        "\n",
        "            # prepare a graph for agent step\n",
        "            initial_state_c = tf.placeholder(dtype=tf.float32, \n",
        "                                             shape=[None, self.hid_size],\n",
        "                                             name=\"init_state_c\")\n",
        "            \n",
        "            initial_state_h = tf.placeholder(dtype=tf.float32, \n",
        "                                             shape=[None, self.hid_size],\n",
        "                                             name=\"init_state_h\")\n",
        "            \n",
        "            self.prev_state_placeholder = LSTMStateTuple(initial_state_c, initial_state_h)\n",
        "\n",
        "            self.obs_t = tf.placeholder(tf.float32, [None, ] + list(obs_shape))\n",
        "\n",
        "            self.next_state, self.agent_outputs = self.symbolic_step(self.prev_state_placeholder,\n",
        "                                                                     self.obs_t)\n",
        "            \n",
        "            self.variables = tf.get_collection(tf.GraphKeys.TRAINABLE_VARIABLES, \n",
        "                                               scope = name)\n",
        "            \n",
        "            print(\"\\n\" + \"Model Summary (\" + name + \")\")\n",
        "            for t in self.variables:\n",
        "                print(t)\n",
        "            \n",
        "\n",
        "\n",
        "    def symbolic_step(self, prev_state, obs_t):\n",
        "        \"\"\"Takes agent's previous step and observation, returns next state and whatever it needs to learn (tf tensors)\"\"\"\n",
        "        nn = self.conv0(obs_t)\n",
        "        nn = self.conv1(nn)\n",
        "        nn = self.conv2(nn)\n",
        "        nn = self.flatten(nn)\n",
        "        nn = self.hid(nn)\n",
        "        \n",
        "        # Apply recurrent neural net for one step here.\n",
        "        # The recurrent cell should take the last feedforward dense layer as input.\n",
        "        batch_ones = tf.ones(tf.shape(obs_t)[0])\n",
        "        new_out, new_state_ch = tf.nn.dynamic_rnn(self.rnn0, nn[:,None],\n",
        "                                                  initial_state = prev_state,\n",
        "                                                  sequence_length = batch_ones)\n",
        "        \n",
        "        logits = self.logits(new_out[:,0])\n",
        "\n",
        "        return new_state_ch, logits\n",
        "\n",
        "\n",
        "    def get_initial_state(self, batch_size):\n",
        "        # LSTMStateTuple([batch_size x hid_size], [batch_size x hid_size]]\n",
        "        a = np.zeros([batch_size, self.hid_size], dtype=np.float32)\n",
        "        return LSTMStateTuple(a, a)\n",
        "\n",
        "\n",
        "    # Instantiation\n",
        "    def step(self, prev_state, obs_t):\n",
        "        \"\"\"Same as symbolic state except it operates on numpy arrays\"\"\"\n",
        "        sess = tf.get_default_session()\n",
        "        \n",
        "        feed_dict = {self.obs_t: obs_t,\n",
        "                     self.prev_state_placeholder: prev_state}\n",
        "        \n",
        "        return sess.run([self.next_state, self.agent_outputs], feed_dict)\n",
        "\n",
        "\n",
        "    def sample_actions(self, logits):\n",
        "        \"\"\"pick actions given numeric agent outputs (np arrays)\"\"\"\n",
        "        policy = np.exp(logits) / np.sum(np.exp(logits), axis=-1, keepdims=True)\n",
        "\n",
        "        return [np.random.choice(len(p), p=p) for p in policy]\n",
        "\n"
      ],
      "execution_count": 7,
      "outputs": []
    },
    {
      "cell_type": "code",
      "metadata": {
        "id": "i5BXsxvgmDKX",
        "colab_type": "code",
        "colab": {}
      },
      "source": [
        "class SimpleRecurrentAgent_V:\n",
        "    def __init__(self, name, obs_shape, n_actions, reuse=False):\n",
        "        \"\"\"A simple actor-critic agent\"\"\"\n",
        "\n",
        "        with tf.variable_scope(name, reuse=reuse):\n",
        "            # Note: number of units/filters is arbitrary, you can and should change it at your will\n",
        "             # Note: number of units/filters is arbitrary, you can and should change it at your will\n",
        "            self.conv0 = Conv2D(32, (4, 4), strides=(2, 2), activation='relu')\n",
        "            self.conv1 = Conv2D(64, (3, 3), strides=(2, 2), activation='relu')\n",
        "            self.conv2 = Conv2D(64, (3, 3), strides=(1, 1), activation='relu')\n",
        "\n",
        "            self.flatten = Flatten()\n",
        "            self.hid     = Dense(128, activation='relu')\n",
        "            \n",
        "            # Critic: State Values\n",
        "            self.state_value = Dense(1)\n",
        "            \n",
        "            # Recurrent Layer\n",
        "            self.hid_size  = 128\n",
        "            self.rnn0 = LSTMCell(self.hid_size, state_is_tuple = True)\n",
        "\n",
        "            # prepare a graph for agent step\n",
        "            initial_state_c = tf.placeholder(dtype=tf.float32, \n",
        "                                             shape=[None, self.hid_size],\n",
        "                                             name=\"init_state_c\")\n",
        "            \n",
        "            initial_state_h = tf.placeholder(dtype=tf.float32, \n",
        "                                             shape=[None, self.hid_size],\n",
        "                                             name=\"init_state_h\")\n",
        "            \n",
        "            self.prev_state_placeholder = LSTMStateTuple(initial_state_c, initial_state_h)\n",
        "\n",
        "            self.obs_t = tf.placeholder(tf.float32, [None, ] + list(obs_shape))\n",
        "\n",
        "            self.next_state, self.agent_outputs = self.symbolic_step(self.prev_state_placeholder,\n",
        "                                                                     self.obs_t)\n",
        "            \n",
        "            self.variables = tf.get_collection(tf.GraphKeys.TRAINABLE_VARIABLES, \n",
        "                                               scope = name)\n",
        "            \n",
        "            print(\"\\n\" + \"Model Summary (\" + name + \")\")\n",
        "            for t in self.variables:\n",
        "                print(t)\n",
        "            \n",
        "\n",
        "\n",
        "    def symbolic_step(self, prev_state, obs_t):\n",
        "        \"\"\"Takes agent's previous step and observation, returns next state and whatever it needs to learn (tf tensors)\"\"\"\n",
        "        nn = self.conv0(obs_t)\n",
        "        nn = self.conv1(nn)\n",
        "        nn = self.conv2(nn)\n",
        "        nn = self.flatten(nn)\n",
        "        nn = self.hid(nn)\n",
        "        \n",
        "        # Apply recurrent neural net for one step here.\n",
        "        # The recurrent cell should take the last feedforward dense layer as input.\n",
        "        batch_ones = tf.ones(tf.shape(obs_t)[0])\n",
        "        new_out, new_state_ch = tf.nn.dynamic_rnn(self.rnn0, nn[:,None],\n",
        "                                                  initial_state = prev_state,\n",
        "                                                  sequence_length = batch_ones)\n",
        "        \n",
        "        state_value = self.state_value(new_out[:,0])\n",
        "\n",
        "        return new_state_ch, state_value\n",
        "\n",
        "\n",
        "    def get_initial_state(self, batch_size):\n",
        "        # LSTMStateTuple([batch_size x hid_size], [batch_size x hid_size]]\n",
        "        a = np.zeros([batch_size, self.hid_size], dtype=np.float32)\n",
        "        return LSTMStateTuple(a, a)\n",
        "\n",
        "\n",
        "    # Instantiation\n",
        "    def step(self, prev_state, obs_t):\n",
        "        \"\"\"Same as symbolic state except it operates on numpy arrays\"\"\"\n",
        "        sess = tf.get_default_session()\n",
        "        \n",
        "        feed_dict = {self.obs_t: obs_t,\n",
        "                     self.prev_state_placeholder: prev_state}\n",
        "        \n",
        "        return sess.run([self.next_state, self.agent_outputs], feed_dict)\n",
        "\n",
        "\n",
        "    def get_state_values(self, prev_state, obs_t):\n",
        "        sess = tf.get_default_session()\n",
        "        \n",
        "        feed_dict = {self.obs_t: obs_t,\n",
        "                     self.prev_state_placeholder: prev_state}\n",
        "        \n",
        "        return sess.run(self.agent_outputs, feed_dict)\n",
        "\n",
        "\n",
        "\n"
      ],
      "execution_count": 8,
      "outputs": []
    },
    {
      "cell_type": "code",
      "metadata": {
        "id": "lKfAXDe1Y4Un",
        "colab_type": "code",
        "colab": {
          "base_uri": "https://localhost:8080/",
          "height": 709
        },
        "outputId": "0cf0afb6-5cad-4b11-9c6a-2766d6d75133"
      },
      "source": [
        "n_parallel_games = 10\n",
        "rollout_length   = 25\n",
        "gamma = 0.99\n",
        "\n",
        "actor  = SimpleRecurrentAgent_Q('actor',  obs_shape, n_actions)\n",
        "critic = SimpleRecurrentAgent_V('critic', obs_shape, n_actions)\n",
        "\n",
        "sess.run(tf.global_variables_initializer())"
      ],
      "execution_count": 9,
      "outputs": [
        {
          "output_type": "stream",
          "text": [
            "WARNING:tensorflow:From <ipython-input-7-2480f0676f4d>:20: LSTMCell.__init__ (from tensorflow.python.ops.rnn_cell_impl) is deprecated and will be removed in a future version.\n",
            "Instructions for updating:\n",
            "This class is equivalent as tf.keras.layers.LSTMCell, and will be replaced by that in Tensorflow 2.0.\n",
            "WARNING:tensorflow:From /usr/local/lib/python3.6/dist-packages/tensorflow/python/framework/op_def_library.py:263: colocate_with (from tensorflow.python.framework.ops) is deprecated and will be removed in a future version.\n",
            "Instructions for updating:\n",
            "Colocations handled automatically by placer.\n",
            "WARNING:tensorflow:From <ipython-input-7-2480f0676f4d>:60: dynamic_rnn (from tensorflow.python.ops.rnn) is deprecated and will be removed in a future version.\n",
            "Instructions for updating:\n",
            "Please use `keras.layers.RNN(cell)`, which is equivalent to this API\n",
            "WARNING:tensorflow:From /usr/local/lib/python3.6/dist-packages/tensorflow/python/ops/rnn.py:626: to_int32 (from tensorflow.python.ops.math_ops) is deprecated and will be removed in a future version.\n",
            "Instructions for updating:\n",
            "Use tf.cast instead.\n",
            "\n",
            "Model Summary (actor)\n",
            "<tf.Variable 'actor/conv2d_1/kernel:0' shape=(4, 4, 4, 32) dtype=float32_ref>\n",
            "<tf.Variable 'actor/conv2d_1/bias:0' shape=(32,) dtype=float32_ref>\n",
            "<tf.Variable 'actor/conv2d_2/kernel:0' shape=(3, 3, 32, 64) dtype=float32_ref>\n",
            "<tf.Variable 'actor/conv2d_2/bias:0' shape=(64,) dtype=float32_ref>\n",
            "<tf.Variable 'actor/conv2d_3/kernel:0' shape=(3, 3, 64, 64) dtype=float32_ref>\n",
            "<tf.Variable 'actor/conv2d_3/bias:0' shape=(64,) dtype=float32_ref>\n",
            "<tf.Variable 'actor/dense_1/kernel:0' shape=(3136, 128) dtype=float32_ref>\n",
            "<tf.Variable 'actor/dense_1/bias:0' shape=(128,) dtype=float32_ref>\n",
            "<tf.Variable 'actor/rnn/lstm_cell/kernel:0' shape=(256, 512) dtype=float32_ref>\n",
            "<tf.Variable 'actor/rnn/lstm_cell/bias:0' shape=(512,) dtype=float32_ref>\n",
            "<tf.Variable 'actor/dense_2/kernel:0' shape=(128, 14) dtype=float32_ref>\n",
            "<tf.Variable 'actor/dense_2/bias:0' shape=(14,) dtype=float32_ref>\n",
            "\n",
            "Model Summary (critic)\n",
            "<tf.Variable 'critic/conv2d_4/kernel:0' shape=(4, 4, 4, 32) dtype=float32_ref>\n",
            "<tf.Variable 'critic/conv2d_4/bias:0' shape=(32,) dtype=float32_ref>\n",
            "<tf.Variable 'critic/conv2d_5/kernel:0' shape=(3, 3, 32, 64) dtype=float32_ref>\n",
            "<tf.Variable 'critic/conv2d_5/bias:0' shape=(64,) dtype=float32_ref>\n",
            "<tf.Variable 'critic/conv2d_6/kernel:0' shape=(3, 3, 64, 64) dtype=float32_ref>\n",
            "<tf.Variable 'critic/conv2d_6/bias:0' shape=(64,) dtype=float32_ref>\n",
            "<tf.Variable 'critic/dense_3/kernel:0' shape=(3136, 128) dtype=float32_ref>\n",
            "<tf.Variable 'critic/dense_3/bias:0' shape=(128,) dtype=float32_ref>\n",
            "<tf.Variable 'critic/rnn/lstm_cell/kernel:0' shape=(256, 512) dtype=float32_ref>\n",
            "<tf.Variable 'critic/rnn/lstm_cell/bias:0' shape=(512,) dtype=float32_ref>\n",
            "<tf.Variable 'critic/dense_4/kernel:0' shape=(128, 1) dtype=float32_ref>\n",
            "<tf.Variable 'critic/dense_4/bias:0' shape=(1,) dtype=float32_ref>\n"
          ],
          "name": "stdout"
        }
      ]
    },
    {
      "cell_type": "code",
      "metadata": {
        "id": "xjgYtYdwY4Uq",
        "colab_type": "code",
        "colab": {
          "base_uri": "https://localhost:8080/",
          "height": 118
        },
        "outputId": "39688903-8eeb-4df3-e6d4-1f1d1871410f"
      },
      "source": [
        "state = [env.reset()]\n",
        "_, logits       = actor.step(actor.get_initial_state(1), state)\n",
        "_, state_values = critic.step(critic.get_initial_state(1), state)\n",
        "print(\"action logits:\\n\", logits)\n",
        "print(\"state values:\\n\", state_values)"
      ],
      "execution_count": 10,
      "outputs": [
        {
          "output_type": "stream",
          "text": [
            "action logits:\n",
            " [[-0.01165732 -0.01234715  0.00920098  0.00207483 -0.00184921 -0.00266627\n",
            "   0.00050533  0.00414065  0.00437399  0.00013939 -0.00143254 -0.0081718\n",
            "   0.00056811  0.00049527]]\n",
            "state values:\n",
            " [[-0.00864113]]\n"
          ],
          "name": "stdout"
        }
      ]
    },
    {
      "cell_type": "markdown",
      "metadata": {
        "id": "klqvnKWdY4Us",
        "colab_type": "text"
      },
      "source": [
        "### Let's play!\n",
        "Let's build a function that measures agent's average reward."
      ]
    },
    {
      "cell_type": "code",
      "metadata": {
        "id": "ln4WuILsY4Ut",
        "colab_type": "code",
        "colab": {}
      },
      "source": [
        "def evaluate(actor, env, n_games=1):\n",
        "    \"\"\"Plays an a game from start till done, returns per-game rewards \"\"\"\n",
        "\n",
        "    game_rewards = []\n",
        "    for _ in range(n_games):\n",
        "        # initial observation and memory\n",
        "        observation = env.reset()\n",
        "        prev_memories = actor.get_initial_state(1)\n",
        "\n",
        "        total_reward = 0\n",
        "        while True:\n",
        "            new_memories, readouts = actor.step(prev_memories, \n",
        "                                                observation[None, ...])\n",
        "            action = actor.sample_actions(readouts)\n",
        "\n",
        "            observation, reward, done, info = env.step(action[0])\n",
        "\n",
        "            total_reward += reward\n",
        "            prev_memories = new_memories\n",
        "            if done:\n",
        "                break\n",
        "\n",
        "        game_rewards.append(total_reward)\n",
        "    return game_rewards"
      ],
      "execution_count": 11,
      "outputs": []
    },
    {
      "cell_type": "code",
      "metadata": {
        "id": "PArnjUsxI4Fq",
        "colab_type": "code",
        "colab": {}
      },
      "source": [
        "#import gym.wrappers\n",
        "\n",
        "#with gym.wrappers.Monitor(make_env(), directory=\"videos\", force=True) as env_monitor:\n",
        "#    rewards = evaluate(actor, env_monitor, n_games=3)\n",
        "\n",
        "#print(rewards)"
      ],
      "execution_count": 12,
      "outputs": []
    },
    {
      "cell_type": "code",
      "metadata": {
        "id": "FrmfSJAEY4Uy",
        "colab_type": "code",
        "colab": {}
      },
      "source": [
        "# Show video. This may not work in some setups. If it doesn't\n",
        "# work for you, you can download the videos and view them locally.\n",
        "\n",
        "#from pathlib import Path\n",
        "#from IPython.display import HTML\n",
        "\n",
        "#video_names = sorted([s for s in Path('videos').iterdir() if s.suffix == '.mp4'])\n",
        "\n",
        "#HTML(\"\"\"\n",
        "#<video width=\"640\" height=\"480\" controls>\n",
        "#  <source src=\"{}\" type=\"video/mp4\">\n",
        "#</video>\n",
        "#\"\"\".format(video_names[-1]))  # You can also try other indices"
      ],
      "execution_count": 13,
      "outputs": []
    },
    {
      "cell_type": "markdown",
      "metadata": {
        "id": "Ff_83RwqY4U0",
        "colab_type": "text"
      },
      "source": [
        "### Training on parallel games\n",
        "\n",
        "We introduce a class called EnvPool - it's a tool that handles multiple environments for you. Here's how it works:\n",
        "![img](https://s7.postimg.cc/4y36s2b2z/env_pool.png)"
      ]
    },
    {
      "cell_type": "code",
      "metadata": {
        "id": "8Q77ZJKGY4U1",
        "colab_type": "code",
        "colab": {}
      },
      "source": [
        "# TARGET AGENT is used to sample\n",
        "pool = EnvPool(actor, critic, make_env, n_parallel_games)"
      ],
      "execution_count": 14,
      "outputs": []
    },
    {
      "cell_type": "code",
      "metadata": {
        "id": "WF9OpsgRY4U3",
        "colab_type": "code",
        "colab": {}
      },
      "source": [
        "# for each of n_parallel_games, take \"rollout_length\" steps\n",
        "rollout_obs, rollout_actions, rollout_rewards, rollout_mask, last_prev_mem_state_critic = pool.interact(rollout_length)"
      ],
      "execution_count": 15,
      "outputs": []
    },
    {
      "cell_type": "code",
      "metadata": {
        "id": "4HQ7gxu3Y4U8",
        "colab_type": "code",
        "colab": {
          "base_uri": "https://localhost:8080/",
          "height": 101
        },
        "outputId": "adf5c690-bac5-4a06-9193-f2e2422e8aa1"
      },
      "source": [
        "print(\"Actions shape:\", rollout_actions.shape)\n",
        "print(\"Rewards shape:\", rollout_rewards.shape)\n",
        "print(\"Mask shape:\", rollout_mask.shape)\n",
        "print(\"Observations shape: \", rollout_obs.shape)\n",
        "print(\"Last Previous Memory State: \", (last_prev_mem_state_critic[0].shape, last_prev_mem_state_critic[1].shape))"
      ],
      "execution_count": 16,
      "outputs": [
        {
          "output_type": "stream",
          "text": [
            "Actions shape: (10, 25)\n",
            "Rewards shape: (10, 25)\n",
            "Mask shape: (10, 25)\n",
            "Observations shape:  (10, 25, 42, 42, 4)\n",
            "Last Previous Memory State:  ((10, 128), (10, 128))\n"
          ],
          "name": "stdout"
        }
      ]
    },
    {
      "cell_type": "markdown",
      "metadata": {
        "id": "mhyVE0AzY4VA",
        "colab_type": "text"
      },
      "source": [
        "# Actor-critic objective\n",
        "\n",
        "Here we define a loss function that uses rollout above to train advantage actor-critic agent.\n",
        "\n",
        "\n",
        "Our loss consists of three components:\n",
        "\n",
        "* __The policy \"loss\"__\n",
        " $$ \\hat J = {1 \\over T} \\cdot \\sum_t { \\log \\pi(a_t | s_t) } \\cdot A_{const}(s,a) $$\n",
        "  * This function has no meaning in and of itself, but it was built such that\n",
        "  * $ \\nabla \\hat J = {1 \\over N} \\cdot \\sum_t { \\nabla \\log \\pi(a_t | s_t) } \\cdot A(s,a) \\approx \\nabla E_{s, a \\sim \\pi} R(s,a) $\n",
        "  * Therefore if we __maximize__ J_hat with gradient descent we will maximize expected reward\n",
        "  \n",
        "  \n",
        "* __The value \"loss\"__\n",
        "  $$ L_{td} = {1 \\over T} \\cdot \\sum_t { [r + \\gamma \\cdot V_{const}(s_{t+1}) - V(s_t)] ^ 2 }$$\n",
        "  * Ye Olde TD_loss from q-learning and alike\n",
        "  * If we minimize this loss, V(s) will converge to $V_\\pi(s) = E_{a \\sim \\pi(a | s)} R(s,a) $\n",
        "\n",
        "\n",
        "* __Entropy Regularizer__\n",
        "  $$ H = - {1 \\over T} \\sum_t \\sum_a {\\pi(a|s_t) \\cdot \\log \\pi (a|s_t)}$$\n",
        "  * If we __maximize__ entropy we discourage agent from predicting zero probability to actions\n",
        "  prematurely (a.k.a. exploration)\n",
        "  \n",
        "  \n",
        "So we optimize a linear combination of $L_{td} - \\hat J -H$\n",
        "\n",
        "\n",
        "__One more thing:__ since we train on T-step rollouts, we can use N-step formula for advantage for free:\n",
        "  * At the last step, $A(s_t,a_t) = r(s_t, a_t) + \\gamma \\cdot V(s_{t+1}) - V(s) $\n",
        "  * One step earlier, $A(s_t,a_t) = r(s_t, a_t) + \\gamma \\cdot r(s_{t+1}, a_{t+1}) + \\gamma ^ 2 \\cdot V(s_{t+2}) - V(s) $\n",
        "  * Et cetera, et cetera. This way agent starts training much faster since it's estimate of A(s,a) depends less on his (imperfect) value function and more on actual rewards. There's also a [nice generalization](https://arxiv.org/abs/1506.02438) of this.\n",
        "\n",
        "\n",
        "__Note:__ it's also a good idea to scale rollout_len up to learn longer sequences. You may wish set it to >=20 or to start at 10 and then scale up as time passes."
      ]
    },
    {
      "cell_type": "code",
      "metadata": {
        "id": "d_98omkZY4VA",
        "colab_type": "code",
        "colab": {
          "base_uri": "https://localhost:8080/",
          "height": 171
        },
        "outputId": "5e83d0bc-6453-47e6-d98a-f98ffc303136"
      },
      "source": [
        "# Updatable agent\n",
        "\n",
        "# [batch, time, h, w, c]\n",
        "observations_ph       = tf.placeholder('float32', [None, None,] + list(obs_shape))\n",
        "sampled_actions_ph    = tf.placeholder('int32',   (None, None,))\n",
        "mask_ph               = tf.placeholder('float32', (None, None,))\n",
        "\n",
        "rewards_ph            = tf.placeholder('float32', (None, None,))\n",
        "cumulative_rewards_ph = tf.placeholder('float32', (None, None,))\n",
        "\n",
        "\n",
        "init_state_actor_ph  = actor.prev_state_placeholder\n",
        "init_state_critic_ph = critic.prev_state_placeholder\n",
        "\n",
        "# get new_state, (actor->logits, critic->state_value)\n",
        "next_state_actor, logits = actor.symbolic_step(init_state_actor_ph,\n",
        "                                               observations_ph[:, 0])\n",
        "\n",
        "next_state_critic, state_values = critic.symbolic_step(init_state_critic_ph,\n",
        "                                                       observations_ph[:, 0])\n",
        "\n",
        "def f(stack, obs_t):\n",
        "    init_state_actor, init_state_critic = stack[0], stack[1]\n",
        "    next_state_actor, logits = actor.symbolic_step(init_state_actor, obs_t)\n",
        "    next_state_critic, state_values = critic.symbolic_step(init_state_critic, obs_t)\n",
        "    return [next_state_actor, next_state_critic, logits, state_values]\n",
        "\n",
        "[next_state_seq_actor, next_state_seq_critic, logits_seq, state_values_seq] = tf.scan(\n",
        "    f,\n",
        "    initializer = [init_state_actor_ph, init_state_critic_ph, logits, state_values],\n",
        "    elems = tf.transpose(observations_ph, [1, 0, 2, 3, 4])\n",
        "    # elem.shape = [time, batch, h, w, c]\n",
        ")\n",
        "print(next_state_seq_actor)\n",
        "print(next_state_seq_critic)\n",
        "print(logits_seq)\n",
        "print(state_values_seq)\n",
        "\n",
        "\n",
        "# from [time, batch] back to [batch, time]\n",
        "logits_seq = tf.transpose(logits_seq, [1, 0, 2])\n",
        "state_values_seq = tf.transpose(state_values_seq, [1, 0, 2])\n",
        "\n",
        "next_state_seq_actor  = [tf.transpose(tensor, [1, 0] + list(range(2, tensor.shape.ndims))) \n",
        "                         for tensor in next_state_seq_actor]\n",
        "next_state_seq_critic = [tf.transpose(tensor, [1, 0] + list(range(2, tensor.shape.ndims))) \n",
        "                         for tensor in next_state_seq_critic]\n",
        "\n",
        "print(logits_seq)\n",
        "print(state_values_seq)\n",
        "print(next_state_seq_actor)\n",
        "print(next_state_seq_critic)"
      ],
      "execution_count": 17,
      "outputs": [
        {
          "output_type": "stream",
          "text": [
            "LSTMStateTuple(c=<tf.Tensor 'scan/TensorArrayStack/TensorArrayGatherV3:0' shape=(?, ?, 128) dtype=float32>, h=<tf.Tensor 'scan/TensorArrayStack_1/TensorArrayGatherV3:0' shape=(?, ?, 128) dtype=float32>)\n",
            "LSTMStateTuple(c=<tf.Tensor 'scan/TensorArrayStack_2/TensorArrayGatherV3:0' shape=(?, ?, 128) dtype=float32>, h=<tf.Tensor 'scan/TensorArrayStack_3/TensorArrayGatherV3:0' shape=(?, ?, 128) dtype=float32>)\n",
            "Tensor(\"scan/TensorArrayStack_4/TensorArrayGatherV3:0\", shape=(?, ?, 14), dtype=float32)\n",
            "Tensor(\"scan/TensorArrayStack_5/TensorArrayGatherV3:0\", shape=(?, ?, 1), dtype=float32)\n",
            "Tensor(\"transpose_1:0\", shape=(?, ?, 14), dtype=float32)\n",
            "Tensor(\"transpose_2:0\", shape=(?, ?, 1), dtype=float32)\n",
            "[<tf.Tensor 'transpose_3:0' shape=(?, ?, 128) dtype=float32>, <tf.Tensor 'transpose_4:0' shape=(?, ?, 128) dtype=float32>]\n",
            "[<tf.Tensor 'transpose_5:0' shape=(?, ?, 128) dtype=float32>, <tf.Tensor 'transpose_6:0' shape=(?, ?, 128) dtype=float32>]\n"
          ],
          "name": "stdout"
        }
      ]
    },
    {
      "cell_type": "code",
      "metadata": {
        "id": "Yf8tHYyRY4VE",
        "colab_type": "code",
        "colab": {}
      },
      "source": [
        "# Updatable agent\n",
        "\n",
        "# actor-critic losses\n",
        "# actor  -> logits, with shape: [batch, time, n_actions]\n",
        "# critic -> states, with shape: [batch, time, 1]\n",
        "r = 0\n",
        "\n",
        "logprobs_seq = tf.nn.log_softmax(logits_seq)\n",
        "logp_actions = tf.reduce_sum(logprobs_seq * tf.one_hot(sampled_actions_ph, n_actions),\n",
        "                             axis=-1)[:, r:-1]\n",
        "\n",
        "current_rewards = rewards_ph[:, r:-1] / 100.\n",
        "current_state_values = state_values_seq[:, r:-1, 0]\n",
        "\n",
        "next_state_values = state_values_seq[:, r+1:, 0] * mask_ph[:, r:-1]\n",
        "\n",
        "\n",
        "# policy gradient\n",
        "# compute 1-step advantage using current_rewards, current_state_values and next_state_values\n",
        "# have to manually adjust in the code for \"r\" the right size of cumulative_rewards_ph\n",
        "advantage = cumulative_rewards_ph - current_state_values\n",
        "assert advantage.shape.ndims == 2\n",
        "\n",
        "# compute policy entropy given logits_seq. Mind the sign!\n",
        "policy  = tf.nn.softmax(logits_seq, axis=-1)\n",
        "entropy = - tf.reduce_sum(policy * logprobs_seq, axis=-1)\n",
        "assert entropy.shape.ndims == 2\n",
        "\n",
        "actor_loss = - tf.reduce_mean(logp_actions * tf.stop_gradient(advantage))\n",
        "actor_loss -= 0.001 * tf.reduce_mean(entropy)\n",
        "\n",
        "# Prepare Temporal Difference error (States)\n",
        "target_state_values = (current_rewards + gamma * next_state_values + cumulative_rewards_ph) / 2 \n",
        "critic_loss = tf.reduce_mean(\n",
        "    (current_state_values - tf.stop_gradient(target_state_values))**2)\n",
        "\n",
        "train_step = tf.train.AdamOptimizer(1e-5).minimize(actor_loss + critic_loss)"
      ],
      "execution_count": 18,
      "outputs": []
    },
    {
      "cell_type": "code",
      "metadata": {
        "id": "cm6ND-61Y4VH",
        "colab_type": "code",
        "colab": {}
      },
      "source": [
        "sess.run(tf.global_variables_initializer())"
      ],
      "execution_count": 19,
      "outputs": []
    },
    {
      "cell_type": "markdown",
      "metadata": {
        "id": "aNl_YI7JY4VL",
        "colab_type": "text"
      },
      "source": [
        "# Train \n",
        "\n",
        "just run train step and see if agent learns any better"
      ]
    },
    {
      "cell_type": "code",
      "metadata": {
        "id": "FengAe_yPtZg",
        "colab_type": "code",
        "colab": {}
      },
      "source": [
        "def acc_rewards(rewards, last_state_values, r=10, gamma=0.99):\n",
        "        # rewards at each step [batch, time]\n",
        "        # in a phase, last previous memory state [batch, state_dim]\n",
        "        # discount for reward\n",
        "    \"\"\"\n",
        "    Take a list of immediate rewards r(s,a) for the whole session \n",
        "    and compute cumulative returns (a.k.a. G(s,a) in Sutton '16).\n",
        "    \n",
        "    G_t = r_t + gamma*r_{t+1} + gamma^2*r_{t+2} + ...\n",
        "\n",
        "    A simple way to compute cumulative rewards is to iterate from the last\n",
        "    to the first timestep and compute G_t = r_t + gamma*G_{t+1} recurrently\n",
        "\n",
        "    You must return an array/list of cumulative rewards with as many elements as in the initial rewards.\n",
        "    \"\"\"\n",
        "    curr_rewards = rewards / 100.\n",
        "    b_size, time = rewards.shape\n",
        "    \n",
        "    acc_reward = np.zeros((b_size, time-r-1), dtype='float32')\n",
        "    acc_reward[:,time-r-2] = last_state_values\n",
        "\n",
        "    for i in reversed(np.arange(time-r-2)):\n",
        "        acc_reward[:,i] = curr_rewards[:,i] + gamma * acc_reward[:,i+1]\n",
        "        \n",
        "    return acc_reward"
      ],
      "execution_count": 20,
      "outputs": []
    },
    {
      "cell_type": "code",
      "metadata": {
        "id": "SAkqEf_BY4VM",
        "colab_type": "code",
        "colab": {}
      },
      "source": [
        "def sample_batch(rollout_length=rollout_length):\n",
        "    rollout_obs, rollout_actions, rollout_rewards, rollout_mask, prev_state_critic = pool.interact(rollout_length)\n",
        "\n",
        "    last_state_values = critic.get_state_values(prev_state_critic, rollout_obs[:,-1])\n",
        "    \n",
        "    rollout_cumulative_rewards = acc_rewards(rollout_rewards, last_state_values[:,0], r)\n",
        "    \n",
        "    feed_dict = {\n",
        "        init_state_actor_ph: actor.get_initial_state(n_parallel_games),\n",
        "        init_state_critic_ph: critic.get_initial_state(n_parallel_games),\n",
        "        observations_ph: rollout_obs,\n",
        "        sampled_actions_ph: rollout_actions,\n",
        "        mask_ph: rollout_mask,\n",
        "        rewards_ph: rollout_rewards,\n",
        "        cumulative_rewards_ph: rollout_cumulative_rewards\n",
        "    }\n",
        "\n",
        "    return feed_dict"
      ],
      "execution_count": 21,
      "outputs": []
    },
    {
      "cell_type": "code",
      "metadata": {
        "id": "uoSvv_ewY4VO",
        "colab_type": "code",
        "colab": {}
      },
      "source": [
        "from IPython.display import clear_output\n",
        "\n",
        "from tqdm import trange\n",
        "from pandas import DataFrame\n",
        "\n",
        "moving_average = lambda x, **kw: DataFrame(\n",
        "    {'x': np.asarray(x)}).x.ewm(**kw).mean().values\n",
        "\n",
        "rewards_history = []"
      ],
      "execution_count": 22,
      "outputs": []
    },
    {
      "cell_type": "code",
      "metadata": {
        "id": "S_3kOalqY4VR",
        "colab_type": "code",
        "colab": {
          "base_uri": "https://localhost:8080/",
          "height": 265
        },
        "outputId": "380c64c6-832d-4c85-a1de-a9098263f1d4"
      },
      "source": [
        "iters = 2001\n",
        "for i in range(iters):\n",
        "    train_step.run(sample_batch())\n",
        "\n",
        "    if i % 100 == 0:\n",
        "        rewards_history.append(np.mean(evaluate(actor, env, n_games=1)))\n",
        "        clear_output(True)\n",
        "        plt.plot(rewards_history, label='rewards')\n",
        "        plt.plot(moving_average(np.array(rewards_history),\n",
        "                                span=rollout_length), label='rewards ewma@'+str(rollout_length))\n",
        "        plt.legend()\n",
        "        plt.show()\n",
        "        if rewards_history[-1] >= 20000:\n",
        "            print(\"Your trainable_agent has just passed the minimum homework threshold\")\n",
        "            break"
      ],
      "execution_count": null,
      "outputs": [
        {
          "output_type": "display_data",
          "data": {
            "image/png": "[encoded data removed]",
            "text/plain": [
              "<Figure size 432x288 with 1 Axes>"
            ]
          },
          "metadata": {
            "tags": [],
            "needs_background": "light"
          }
        }
      ]
    },
    {
      "cell_type": "markdown",
      "metadata": {
        "id": "Il8-jD91Y4VV",
        "colab_type": "text"
      },
      "source": [
        "### \"Final\" evaluation"
      ]
    },
    {
      "cell_type": "code",
      "metadata": {
        "id": "1rPp_T9yB91q",
        "colab_type": "code",
        "colab": {}
      },
      "source": [
        "import gym.wrappers\n",
        "\n",
        "with gym.wrappers.Monitor(make_env(), directory=\"videos\", force=True) as env_monitor:\n",
        "    final_rewards = evaluate(agent, env_monitor, n_games=n_parallel_games)\n",
        "\n",
        "print(\"Final mean reward\", np.mean(final_rewards))"
      ],
      "execution_count": null,
      "outputs": []
    },
    {
      "cell_type": "code",
      "metadata": {
        "id": "QBeg64nWY4VY",
        "colab_type": "code",
        "colab": {}
      },
      "source": [
        "# Show video. This may not work in some setups. If it doesn't\n",
        "# work for you, you can download the videos and view them locally.\n",
        "\n",
        "from pathlib import Path\n",
        "from IPython.display import HTML\n",
        "\n",
        "video_names = sorted([s for s in Path('videos').iterdir() if s.suffix == '.mp4'])\n",
        "\n",
        "HTML(\"\"\"\n",
        "<video width=\"640\" height=\"480\" controls>\n",
        "  <source src=\"{}\" type=\"video/mp4\">\n",
        "</video>\n",
        "\"\"\".format(video_names[-1]))  # You can also try other indices"
      ],
      "execution_count": null,
      "outputs": []
    },
    {
      "cell_type": "markdown",
      "metadata": {
        "id": "6t_y0TcOY4Va",
        "colab_type": "text"
      },
      "source": [
        "### POMDP setting\n",
        "\n",
        "The Atari game we're working with is actually a POMDP: your agent needs to know timing at which enemies spawn and move, but cannot do so unless it has some memory. \n",
        "\n",
        "Let's design another agent that has a recurrent neural net memory to solve this.\n",
        "\n",
        "__Note:__ it's also a good idea to scale rollout_len up to learn longer sequences. You may wish set it to >=20 or to start at 10 and then scale up as time passes."
      ]
    },
    {
      "cell_type": "markdown",
      "metadata": {
        "id": "fJgo_LgQY4Vg",
        "colab_type": "text"
      },
      "source": [
        "### Now let's train it!"
      ]
    },
    {
      "cell_type": "code",
      "metadata": {
        "id": "cyzuw5WcY4Vh",
        "colab_type": "code",
        "colab": {}
      },
      "source": [
        "# A whole lot of your code here: train the new agent with GRU memory.\n",
        "# - create pool\n",
        "# - write loss functions and training op\n",
        "# - train\n",
        "# You can reuse most of the code with zero to few changes"
      ],
      "execution_count": null,
      "outputs": []
    }
  ]
}