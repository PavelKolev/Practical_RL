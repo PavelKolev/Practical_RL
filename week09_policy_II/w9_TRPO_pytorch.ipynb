{
  "nbformat": 4,
  "nbformat_minor": 0,
  "metadata": {
    "colab": {
      "name": "w9_TRPO_pytorch.ipynb",
      "provenance": [],
      "collapsed_sections": []
    },
    "kernelspec": {
      "name": "python3",
      "display_name": "Python 3"
    }
  },
  "cells": [
    {
      "cell_type": "code",
      "metadata": {
        "id": "ioJq2tnK6Rit",
        "colab_type": "code",
        "colab": {
          "base_uri": "https://localhost:8080/",
          "height": 34
        },
        "outputId": "54d3b52c-40df-4c10-954b-a5a1695995da"
      },
      "source": [
        "import sys\n",
        "if 'google.colab' in sys.modules:\n",
        "    import os\n",
        "\n",
        "    os.system('apt-get install -y xvfb')\n",
        "    os.system('wget https://raw.githubusercontent.com/yandexdataschool/Practical_DL/fall18/xvfb -O ../xvfb')\n",
        "    os.system('apt-get install -y python-opengl ffmpeg')\n",
        "    os.system('pip install pyglet==1.2.4')\n",
        "\n",
        "# launch XVFB if you run on a server\n",
        "import os\n",
        "if type(os.environ.get(\"DISPLAY\")) is not str or len(os.environ.get(\"DISPLAY\")) == 0:\n",
        "    !bash ../xvfb start\n",
        "    os.environ['DISPLAY'] = ':1'"
      ],
      "execution_count": 1,
      "outputs": [
        {
          "output_type": "stream",
          "text": [
            "Starting virtual X frame buffer: Xvfb.\n"
          ],
          "name": "stdout"
        }
      ]
    },
    {
      "cell_type": "markdown",
      "metadata": {
        "id": "LfqegpDv6Rix",
        "colab_type": "text"
      },
      "source": [
        "### Let's make a TRPO!\n",
        "\n",
        "In this notebook we will write the code of the one Trust Region Policy Optimization.\n",
        "As usually, it contains a few different parts which we are going to reproduce.\n",
        "\n"
      ]
    },
    {
      "cell_type": "code",
      "metadata": {
        "id": "990S6lIy6Rix",
        "colab_type": "code",
        "colab": {}
      },
      "source": [
        "import numpy as np\n",
        "import torch\n",
        "import torch.nn as nn\n",
        "import torch.nn.functional as F\n",
        "from torch.autograd import Variable"
      ],
      "execution_count": 2,
      "outputs": []
    },
    {
      "cell_type": "code",
      "metadata": {
        "id": "qtWfOa936Ri2",
        "colab_type": "code",
        "colab": {
          "base_uri": "https://localhost:8080/",
          "height": 50
        },
        "outputId": "9f636ea0-0492-451a-eba5-b92ad5644771"
      },
      "source": [
        "import gym\n",
        "\n",
        "env = gym.make(\"Acrobot-v1\")\n",
        "env.reset()\n",
        "\n",
        "observation_shape = env.observation_space.shape\n",
        "n_actions = env.action_space.n\n",
        "\n",
        "print(\"Observation Space\", env.observation_space)\n",
        "print(\"Action Space\", env.action_space)"
      ],
      "execution_count": 3,
      "outputs": [
        {
          "output_type": "stream",
          "text": [
            "Observation Space Box(6,)\n",
            "Action Space Discrete(3)\n"
          ],
          "name": "stdout"
        }
      ]
    },
    {
      "cell_type": "code",
      "metadata": {
        "id": "xLLhdSzo6Ri6",
        "colab_type": "code",
        "colab": {}
      },
      "source": [
        "#import matplotlib.pyplot as plt\n",
        "#%matplotlib inline\n",
        "\n",
        "#plt.imshow(env.render('rgb_array'))"
      ],
      "execution_count": 4,
      "outputs": []
    },
    {
      "cell_type": "markdown",
      "metadata": {
        "id": "a_QxK29L6Ri-",
        "colab_type": "text"
      },
      "source": [
        "### Step 1: Defining a network\n",
        "\n",
        "With all it's complexity, at it's core TRPO is yet another policy gradient method. \n",
        "\n",
        "This essentially means we're actually training a stochastic policy $ \\pi_\\theta(a|s) $. \n",
        "\n",
        "And yes, it's gonna be a neural network. So let's start by defining one."
      ]
    },
    {
      "cell_type": "code",
      "metadata": {
        "id": "cEaUOFov6Ri_",
        "colab_type": "code",
        "colab": {}
      },
      "source": [
        "class TRPOAgent(nn.Module):\n",
        "    def __init__(self, state_shape, n_actions, hidden_size=32):\n",
        "        '''\n",
        "        Here you should define your model\n",
        "        You should have LOG-PROBABILITIES as output because you will need it to compute loss\n",
        "        We recommend that you start simple: \n",
        "        use 1-2 hidden layers with 100-500 units and relu for the first try\n",
        "        '''\n",
        "        nn.Module.__init__(self)\n",
        "\n",
        "        self.model = nn.Sequential(nn.Linear(state_shape[0], hidden_size),\n",
        "                                    nn.ReLU(),\n",
        "                                    nn.Linear(hidden_size, n_actions),\n",
        "                                    nn.LogSoftmax())\n",
        "\n",
        "    def forward(self, states):\n",
        "        \"\"\"\n",
        "        takes agent's observation (Variable), returns log-probabilities (Variable)\n",
        "        :param state_t: a batch of states, shape = [batch_size, state_shape]\n",
        "        \"\"\"\n",
        "\n",
        "        # Use your network to compute log_probs for given state\n",
        "        log_probs = self.model(states)\n",
        "        return log_probs\n",
        "\n",
        "    def get_log_probs(self, states):\n",
        "        '''\n",
        "        Log-probs for training\n",
        "        '''\n",
        "\n",
        "        return self.forward(states)\n",
        "\n",
        "    def get_probs(self, states):\n",
        "        '''\n",
        "        Probs for interaction\n",
        "        '''\n",
        "\n",
        "        return torch.exp(self.forward(states))\n",
        "\n",
        "    def act(self, obs, sample=True):\n",
        "        '''\n",
        "        Samples action from policy distribution (sample = True) or takes most likely action (sample = False)\n",
        "        :param: obs - single observation vector\n",
        "        :param sample: if True, samples from \\pi, otherwise takes most likely action\n",
        "        :returns: action (single integer) and probabilities for all actions\n",
        "        '''\n",
        "\n",
        "        probs = self.get_probs(Variable(torch.FloatTensor([obs]))).data.numpy()\n",
        "\n",
        "        if sample:\n",
        "            action = int(np.random.choice(n_actions, p=probs[0]))\n",
        "        else:\n",
        "            action = int(np.argmax(probs))\n",
        "\n",
        "        return action, probs[0]\n",
        "\n",
        "\n",
        "agent = TRPOAgent(observation_shape, n_actions)"
      ],
      "execution_count": 5,
      "outputs": []
    },
    {
      "cell_type": "code",
      "metadata": {
        "id": "JQP_JLuo6RjC",
        "colab_type": "code",
        "colab": {
          "base_uri": "https://localhost:8080/",
          "height": 104
        },
        "outputId": "18ad561f-1601-4da5-fbed-8beec2804b7b"
      },
      "source": [
        "# Check if log-probabilities satisfies all the requirements\n",
        "log_probs = agent.get_log_probs(Variable(torch.FloatTensor([env.reset()])))\n",
        "assert isinstance(\n",
        "    log_probs, Variable) and log_probs.requires_grad, \"qvalues must be a torch variable with grad\"\n",
        "assert len(\n",
        "    log_probs.shape) == 2 and log_probs.shape[0] == 1 and log_probs.shape[1] == n_actions\n",
        "sums = torch.sum(torch.exp(log_probs), dim=1)\n",
        "assert (0.999 < sums).all() and (1.001 > sums).all()\n",
        "\n",
        "# Demo use\n",
        "print(\"sampled:\", [agent.act(env.reset()) for _ in range(5)])\n",
        "print(\"greedy:\", [agent.act(env.reset(), sample=False) for _ in range(5)])"
      ],
      "execution_count": 6,
      "outputs": [
        {
          "output_type": "stream",
          "text": [
            "sampled: [(0, array([0.30824015, 0.33594126, 0.3558186 ], dtype=float32)), (1, array([0.30638382, 0.33670244, 0.3569137 ], dtype=float32)), (1, array([0.31014103, 0.33668745, 0.35317153], dtype=float32)), (0, array([0.3073393 , 0.33801705, 0.35464364], dtype=float32)), (1, array([0.30649477, 0.34157562, 0.35192966], dtype=float32))]\n",
            "greedy: [(2, array([0.31189921, 0.33486605, 0.35323483], dtype=float32)), (2, array([0.30824053, 0.33054852, 0.361211  ], dtype=float32)), (2, array([0.31049067, 0.3388163 , 0.3506931 ], dtype=float32)), (2, array([0.30506426, 0.34180197, 0.35313374], dtype=float32)), (2, array([0.30835015, 0.33371577, 0.35793403], dtype=float32))]\n"
          ],
          "name": "stdout"
        },
        {
          "output_type": "stream",
          "text": [
            "/usr/local/lib/python3.6/dist-packages/torch/nn/modules/container.py:117: UserWarning: Implicit dimension choice for log_softmax has been deprecated. Change the call to include dim=X as an argument.\n",
            "  input = module(input)\n"
          ],
          "name": "stderr"
        }
      ]
    },
    {
      "cell_type": "markdown",
      "metadata": {
        "id": "UIMHTble6RjH",
        "colab_type": "text"
      },
      "source": [
        "#### Flat parameters operations\n",
        "\n",
        "We are going to use it"
      ]
    },
    {
      "cell_type": "code",
      "metadata": {
        "id": "_V8Whot_6RjH",
        "colab_type": "code",
        "colab": {}
      },
      "source": [
        "def get_flat_params_from(model):\n",
        "    params = []\n",
        "    for param in model.parameters():\n",
        "        params.append(param.data.view(-1))\n",
        "\n",
        "    flat_params = torch.cat(params)\n",
        "    return flat_params\n",
        "\n",
        "\n",
        "def set_flat_params_to(model, flat_params):\n",
        "    prev_ind = 0\n",
        "    for param in model.parameters():\n",
        "        flat_size = int(np.prod(list(param.size())))\n",
        "        param.data.copy_(\n",
        "            flat_params[prev_ind:prev_ind + flat_size].view(param.size()))\n",
        "        prev_ind += flat_size"
      ],
      "execution_count": 7,
      "outputs": []
    },
    {
      "cell_type": "markdown",
      "metadata": {
        "id": "3Plm_mJC6RjM",
        "colab_type": "text"
      },
      "source": [
        "Compute cummulative reward just like you did in vanilla REINFORCE"
      ]
    },
    {
      "cell_type": "code",
      "metadata": {
        "id": "i65iXnr_6RjN",
        "colab_type": "code",
        "colab": {}
      },
      "source": [
        "import scipy.signal\n",
        "\n",
        "\n",
        "def get_cummulative_returns(r, gamma=1):\n",
        "    \"\"\"\n",
        "    Computes cummulative discounted rewards given immediate rewards\n",
        "    G_i = r_i + gamma*r_{i+1} + gamma^2*r_{i+2} + ...\n",
        "    Also known as R(s,a).\n",
        "    \"\"\"\n",
        "    r = np.array(r)\n",
        "    assert r.ndim >= 1\n",
        "    return scipy.signal.lfilter([1], [1, -gamma], r[::-1], axis=0)[::-1]"
      ],
      "execution_count": 8,
      "outputs": []
    },
    {
      "cell_type": "code",
      "metadata": {
        "id": "W8D_BYKy6RjR",
        "colab_type": "code",
        "colab": {
          "base_uri": "https://localhost:8080/",
          "height": 34
        },
        "outputId": "22f11fd8-b3e8-41cd-853c-b05c7b798cfe"
      },
      "source": [
        "# simple demo on rewards [0,0,1,0,0,1]\n",
        "get_cummulative_returns([0, 0, 1, 0, 0, 1], gamma=0.9)"
      ],
      "execution_count": 9,
      "outputs": [
        {
          "output_type": "execute_result",
          "data": {
            "text/plain": [
              "array([1.40049, 1.5561 , 1.729  , 0.81   , 0.9    , 1.     ])"
            ]
          },
          "metadata": {
            "tags": []
          },
          "execution_count": 9
        }
      ]
    },
    {
      "cell_type": "markdown",
      "metadata": {
        "id": "N183H3-a6RjW",
        "colab_type": "text"
      },
      "source": [
        "**Rollout**"
      ]
    },
    {
      "cell_type": "code",
      "metadata": {
        "id": "BwdiSGiq6RjX",
        "colab_type": "code",
        "colab": {}
      },
      "source": [
        "def rollout(env, agent, max_pathlength=2500, n_timesteps=50000):\n",
        "    \"\"\"\n",
        "    Generate rollouts for training.\n",
        "    :param: env - environment in which we will make actions to generate rollouts.\n",
        "    :param: act - the function that can return policy and action given observation.\n",
        "    :param: max_pathlength - maximum size of one path that we generate.\n",
        "    :param: n_timesteps - total sum of sizes of all pathes we generate.\n",
        "    \"\"\"\n",
        "    paths = []\n",
        "\n",
        "    total_timesteps = 0\n",
        "    while total_timesteps < n_timesteps:\n",
        "        obervations, actions, rewards, action_probs = [], [], [], []\n",
        "        obervation = env.reset()\n",
        "\n",
        "        for _ in range(max_pathlength):\n",
        "            action, policy = agent.act(obervation)\n",
        "\n",
        "            obervations.append(obervation)\n",
        "            actions.append(action)\n",
        "            action_probs.append(policy)\n",
        "\n",
        "            obervation, reward, done, _ = env.step(action)\n",
        "            rewards.append(reward)\n",
        "\n",
        "            total_timesteps += 1\n",
        "            \n",
        "            if done or total_timesteps == n_timesteps:\n",
        "                path = {\"observations\": np.array(obervations),\n",
        "                        \"policy\": np.array(action_probs),\n",
        "                        \"actions\": np.array(actions),\n",
        "                        \"rewards\": np.array(rewards),\n",
        "                        \"cumulative_returns\": get_cummulative_returns(rewards),\n",
        "                        }\n",
        "                paths.append(path)\n",
        "                break\n",
        "    return paths"
      ],
      "execution_count": 10,
      "outputs": []
    },
    {
      "cell_type": "code",
      "metadata": {
        "id": "kEIQtVg96Rjc",
        "colab_type": "code",
        "colab": {
          "base_uri": "https://localhost:8080/",
          "height": 322
        },
        "outputId": "5d4892aa-05f2-4162-d312-79b765ec9787"
      },
      "source": [
        "paths = rollout(env, agent, max_pathlength=5, n_timesteps=100)\n",
        "print(paths[-1])\n",
        "assert (paths[0]['policy'].shape == (5, n_actions))\n",
        "assert (paths[0]['cumulative_returns'].shape == (5,))\n",
        "assert (paths[0]['rewards'].shape == (5,))\n",
        "assert (paths[0]['observations'].shape == (5,)+observation_shape)\n",
        "assert (paths[0]['actions'].shape == (5,))\n",
        "print('It\\'s ok')"
      ],
      "execution_count": 11,
      "outputs": [
        {
          "output_type": "stream",
          "text": [
            "{'observations': array([[ 0.99777258, -0.06670742,  0.99823316,  0.05941844,  0.00623589,\n",
            "        -0.03763244],\n",
            "       [ 0.99906881, -0.04314526,  0.99998374,  0.00570207,  0.22302807,\n",
            "        -0.48650331],\n",
            "       [ 0.99996004, -0.0089401 ,  0.99837412, -0.0570011 ,  0.11049393,\n",
            "        -0.12519596],\n",
            "       [ 0.99992652,  0.01212219,  0.99715591, -0.07536633,  0.09532958,\n",
            "        -0.05253227],\n",
            "       [ 0.99917112,  0.04070706,  0.99392041, -0.11010093,  0.18358441,\n",
            "        -0.28557435]]), 'policy': array([[0.30964282, 0.33508715, 0.35527   ],\n",
            "       [0.2953882 , 0.3441681 , 0.3604437 ],\n",
            "       [0.30368158, 0.3431043 , 0.35321406],\n",
            "       [0.30509335, 0.34254578, 0.35236084],\n",
            "       [0.29785067, 0.3469784 , 0.35517088]], dtype=float32), 'actions': array([0, 2, 1, 0, 1]), 'rewards': array([-1., -1., -1., -1., -1.]), 'cumulative_returns': array([-5., -4., -3., -2., -1.])}\n",
            "It's ok\n"
          ],
          "name": "stdout"
        },
        {
          "output_type": "stream",
          "text": [
            "/usr/local/lib/python3.6/dist-packages/torch/nn/modules/container.py:117: UserWarning: Implicit dimension choice for log_softmax has been deprecated. Change the call to include dim=X as an argument.\n",
            "  input = module(input)\n"
          ],
          "name": "stderr"
        }
      ]
    },
    {
      "cell_type": "markdown",
      "metadata": {
        "id": "hBzkn2xF6Rji",
        "colab_type": "text"
      },
      "source": [
        "### Step 3: Auxiliary functions\n",
        "\n",
        "Now let's define the loss functions and something else for actual TRPO training."
      ]
    },
    {
      "cell_type": "markdown",
      "metadata": {
        "id": "GIT8gnz66Rji",
        "colab_type": "text"
      },
      "source": [
        "The surrogate reward should be\n",
        "$$J_{surr}= {1 \\over N} \\sum\\limits_{i=0}^N \\frac{\\pi_{\\theta}(s_i, a_i)}{\\pi_{\\theta_{old}}(s_i, a_i)}A_{\\theta_{old}(s_i, a_i)}$$\n",
        "\n",
        "For simplicity, let's use cummulative returns instead of advantage for now:\n",
        "$$J'_{surr}= {1 \\over N} \\sum\\limits_{i=0}^N \\frac{\\pi_{\\theta}(s_i, a_i)}{\\pi_{\\theta_{old}}(s_i, a_i)}G_{\\theta_{old}(s_i, a_i)}$$\n",
        "\n",
        "Or alternatively, minimize the surrogate loss:\n",
        "$$ L_{surr} = - J'_{surr} $$  \n"
      ]
    },
    {
      "cell_type": "code",
      "metadata": {
        "id": "FWIGiVZx6Rjj",
        "colab_type": "code",
        "colab": {}
      },
      "source": [
        "def get_loss(agent, observations, actions, cummulative_returns, old_probs):\n",
        "    \"\"\"\n",
        "    Computes TRPO objective\n",
        "    :param: observations - batch of observations\n",
        "    :param: actions - batch of actions\n",
        "    :param: cummulative_returns - batch of cummulative returns\n",
        "    :param: old_probs - batch of probabilities computed by old network\n",
        "    :returns: scalar value of the objective function\n",
        "    \"\"\"\n",
        "    batch_size = observations.shape[0]\n",
        "    log_probs_all = agent.get_log_probs(observations)\n",
        "    probs_all = torch.exp(log_probs_all)\n",
        "\n",
        "    probs_for_actions = probs_all[torch.arange(\n",
        "        0, batch_size, out=torch.LongTensor()), actions]\n",
        "    old_probs_for_actions = old_probs[torch.arange(\n",
        "        0, batch_size, out=torch.LongTensor()), actions]\n",
        "\n",
        "    # Compute surrogate loss, aka importance-sampled policy gradient\n",
        "    Loss = - torch.mean(cummulative_returns * (probs_for_actions / old_probs_for_actions))\n",
        "\n",
        "    assert Loss.shape == torch.Size([])\n",
        "    return Loss"
      ],
      "execution_count": 12,
      "outputs": []
    },
    {
      "cell_type": "markdown",
      "metadata": {
        "id": "TFLZgp3A6Rjn",
        "colab_type": "text"
      },
      "source": [
        "We can ascend these gradients as long as our $pi_\\theta(a|s)$ satisfies the constraint\n",
        "$$E_{s,\\pi_{\\Theta_{t}}}\\Big[KL(\\pi(\\Theta_{t}, s) \\:||\\:\\pi(\\Theta_{t+1}, s))\\Big]< \\alpha$$\n",
        "\n",
        "\n",
        "where\n",
        "\n",
        "$$KL(p||q) = E _p log({p \\over q})$$"
      ]
    },
    {
      "cell_type": "code",
      "metadata": {
        "id": "rvvyWjIJ6Rjn",
        "colab_type": "code",
        "colab": {}
      },
      "source": [
        "def get_kl(agent, observations, actions, cummulative_returns, old_probs):\n",
        "    \"\"\"\n",
        "    Computes KL-divergence between network policy and old policy\n",
        "    :param: observations - batch of observations\n",
        "    :param: actions - batch of actions\n",
        "    :param: cummulative_returns - batch of cummulative returns (we don't need it actually)\n",
        "    :param: old_probs - batch of probabilities computed by old network\n",
        "    :returns: scalar value of the KL-divergence\n",
        "    \"\"\"\n",
        "    batch_size = observations.shape[0]\n",
        "    log_probs_all = agent.get_log_probs(observations)\n",
        "    probs_all = torch.exp(log_probs_all)\n",
        "\n",
        "    # Compute Kullback-Leibler divergence (see formula above)\n",
        "    # Note: you need to sum KL and entropy over all actions, not just the ones agent took\n",
        "    old_log_probs = torch.log(old_probs+1e-10)\n",
        "\n",
        "    kl = torch.sum(old_probs * (old_log_probs - log_probs_all)) / batch_size\n",
        "\n",
        "    assert kl.shape == torch.Size([])\n",
        "    assert (kl > -0.0001).all() and (kl < 10000).all()\n",
        "    return kl"
      ],
      "execution_count": 13,
      "outputs": []
    },
    {
      "cell_type": "code",
      "metadata": {
        "id": "VTZ4w9su6Rjq",
        "colab_type": "code",
        "colab": {}
      },
      "source": [
        "def get_entropy(agent, observations):\n",
        "    \"\"\"\n",
        "    Computes entropy of the network policy \n",
        "    :param: observations - batch of observations\n",
        "    :returns: scalar value of the entropy\n",
        "    \"\"\"\n",
        "\n",
        "    observations = Variable(torch.FloatTensor(observations))\n",
        "\n",
        "    batch_size = observations.shape[0]\n",
        "    log_probs_all = agent.get_log_probs(observations)\n",
        "    probs_all = torch.exp(log_probs_all)\n",
        "\n",
        "    entropy = - torch.sum(probs_all * log_probs_all) / batch_size\n",
        "\n",
        "    assert entropy.shape == torch.Size([])\n",
        "    return entropy"
      ],
      "execution_count": 14,
      "outputs": []
    },
    {
      "cell_type": "markdown",
      "metadata": {
        "id": "Zq5pd6Rr6Rjv",
        "colab_type": "text"
      },
      "source": [
        "**Linear search**\n",
        "\n",
        "TRPO in its core involves ascending surrogate policy gradient constrained by KL divergence. \n",
        "\n",
        "In order to enforce this constraint, we're gonna use linesearch. You can find out more about it [here](https://en.wikipedia.org/wiki/Linear_search)"
      ]
    },
    {
      "cell_type": "code",
      "metadata": {
        "id": "lrehNthY6Rjv",
        "colab_type": "code",
        "colab": {}
      },
      "source": [
        "def linesearch(f, x, fullstep, max_kl):\n",
        "    \"\"\"\n",
        "    Linesearch finds the best parameters of neural networks in the direction of fullstep contrainted by KL divergence.\n",
        "    :param: f - function that returns loss, kl and arbitrary third component.\n",
        "    :param: x - old parameters of neural network.\n",
        "    :param: fullstep - direction in which we make search.\n",
        "    :param: max_kl - constraint of KL divergence.\n",
        "    :returns:\n",
        "    \"\"\"\n",
        "    max_backtracks = 10\n",
        "    loss, _, = f(x)\n",
        "    for stepfrac in .5**np.arange(max_backtracks):\n",
        "        xnew = x + stepfrac * fullstep\n",
        "        new_loss, kl = f(xnew)\n",
        "        actual_improve = new_loss - loss\n",
        "        if kl.data.numpy() <= max_kl and actual_improve.data.numpy() < 0:\n",
        "            x = xnew\n",
        "            loss = new_loss\n",
        "    return x"
      ],
      "execution_count": 15,
      "outputs": []
    },
    {
      "cell_type": "markdown",
      "metadata": {
        "id": "7B-4SPwj6Rj4",
        "colab_type": "text"
      },
      "source": [
        "**Conjugate gradients**\n",
        "\n",
        "Since TRPO includes contrainted optimization, we will need to solve Ax=b using conjugate gradients.\n",
        "\n",
        "In general, CG is an algorithm that solves Ax=b where A is positive-defined. A is Hessian matrix so A is positive-defined. You can find out more about them [here](https://en.wikipedia.org/wiki/Conjugate_gradient_method)"
      ]
    },
    {
      "cell_type": "code",
      "metadata": {
        "id": "GeKuDBQI6Rj5",
        "colab_type": "code",
        "colab": {}
      },
      "source": [
        "from numpy.linalg import inv\n",
        "\n",
        "\n",
        "def conjugate_gradient(f_Ax, b, cg_iters=10, residual_tol=1e-10):\n",
        "    \"\"\"\n",
        "    This method solves system of equation Ax=b using iterative method called conjugate gradients\n",
        "    :f_Ax: function that returns Ax\n",
        "    :b: targets for Ax\n",
        "    :cg_iters: how many iterations this method should do\n",
        "    :residual_tol: epsilon for stability\n",
        "    \"\"\"\n",
        "    p = b.clone()\n",
        "    r = b.clone()\n",
        "    x = torch.zeros(b.size())\n",
        "    rdotr = torch.sum(r*r)\n",
        "    for i in range(cg_iters):\n",
        "        z = f_Ax(p)\n",
        "        v = rdotr / (torch.sum(p*z) + 1e-8)\n",
        "        x += v * p\n",
        "        r -= v * z\n",
        "        newrdotr = torch.sum(r*r)\n",
        "        mu = newrdotr / (rdotr + 1e-8)\n",
        "        p = r + mu * p\n",
        "        rdotr = newrdotr\n",
        "        if rdotr < residual_tol:\n",
        "            break\n",
        "    return x"
      ],
      "execution_count": 16,
      "outputs": []
    },
    {
      "cell_type": "code",
      "metadata": {
        "id": "7awExsbf6RkA",
        "colab_type": "code",
        "colab": {
          "base_uri": "https://localhost:8080/",
          "height": 84
        },
        "outputId": "c60547ee-7c0b-481b-9953-7fd53daaf634"
      },
      "source": [
        "# This code validates conjugate gradients\n",
        "A = np.random.rand(8, 8)\n",
        "A = np.matmul(np.transpose(A), A)\n",
        "\n",
        "\n",
        "def f_Ax(x):\n",
        "    return torch.matmul(torch.FloatTensor(A), x.view((-1, 1))).view(-1)\n",
        "\n",
        "\n",
        "b = np.random.rand(8)\n",
        "\n",
        "w = np.matmul(np.matmul(inv(np.matmul(np.transpose(A), A)),\n",
        "                        np.transpose(A)), b.reshape((-1, 1))).reshape(-1)\n",
        "print(w)\n",
        "print(conjugate_gradient(f_Ax, torch.FloatTensor(b)).numpy())"
      ],
      "execution_count": 17,
      "outputs": [
        {
          "output_type": "stream",
          "text": [
            "[-2.09479907 -0.62344199  0.44290387  0.60481028  1.41170911  3.01490067\n",
            " -0.93900383 -0.42596319]\n",
            "[-2.0955772  -0.62296116  0.444943    0.6029619   1.4113466   3.014458\n",
            " -0.9394931  -0.42494413]\n"
          ],
          "name": "stdout"
        }
      ]
    },
    {
      "cell_type": "markdown",
      "metadata": {
        "id": "iwkAWUrT6RkD",
        "colab_type": "text"
      },
      "source": [
        "### Step 4: training\n",
        "In this section we construct the whole update step function."
      ]
    },
    {
      "cell_type": "code",
      "metadata": {
        "id": "5zqCD6Yn6RkD",
        "colab_type": "code",
        "colab": {}
      },
      "source": [
        "def update_step(agent, observations, actions, cummulative_returns, old_probs, max_kl):\n",
        "    \"\"\"\n",
        "    This function does the TRPO update step\n",
        "    :param: observations - batch of observations\n",
        "    :param: actions - batch of actions\n",
        "    :param: cummulative_returns - batch of cummulative returns\n",
        "    :param: old_probs - batch of probabilities computed by old network\n",
        "    :param: max_kl - controls how big KL divergence may be between old and new policy every step.\n",
        "    :returns: KL between new and old policies and the value of the loss function.\n",
        "    \"\"\"\n",
        "\n",
        "    # Here we prepare the information\n",
        "    observations = Variable(torch.FloatTensor(observations))\n",
        "    actions = torch.LongTensor(actions)\n",
        "    cummulative_returns = Variable(torch.FloatTensor(cummulative_returns))\n",
        "    old_probs = Variable(torch.FloatTensor(old_probs))\n",
        "\n",
        "    # Here we compute gradient of the loss function\n",
        "    loss = get_loss(agent, observations, actions,\n",
        "                    cummulative_returns, old_probs)\n",
        "    grads = torch.autograd.grad(loss, agent.parameters())\n",
        "    loss_grad = torch.cat([grad.view(-1) for grad in grads]).data\n",
        "\n",
        "    def Fvp(v):\n",
        "        # Here we compute Fx to do solve Fx = g using conjugate gradients\n",
        "        # We actually do here a couple of tricks to compute it efficiently\n",
        "\n",
        "        kl = get_kl(agent, observations, actions,\n",
        "                    cummulative_returns, old_probs)\n",
        "\n",
        "        grads = torch.autograd.grad(kl, agent.parameters(), create_graph=True)\n",
        "        flat_grad_kl = torch.cat([grad.view(-1) for grad in grads])\n",
        "\n",
        "        kl_v = (flat_grad_kl * Variable(v)).sum()\n",
        "        grads = torch.autograd.grad(kl_v, agent.parameters())\n",
        "        flat_grad_grad_kl = torch.cat(\n",
        "            [grad.contiguous().view(-1) for grad in grads]).data\n",
        "\n",
        "        return flat_grad_grad_kl + v * 0.1\n",
        "\n",
        "    # Here we solveolve Fx = g system using conjugate gradients\n",
        "    stepdir = conjugate_gradient(Fvp, -loss_grad, 10)\n",
        "\n",
        "    # Here we compute the initial vector to do linear search\n",
        "    shs = 0.5 * (stepdir * Fvp(stepdir)).sum(0, keepdim=True)\n",
        "\n",
        "    lm = torch.sqrt(shs / max_kl)\n",
        "    fullstep = stepdir / lm[0]\n",
        "\n",
        "    neggdotstepdir = (-loss_grad * stepdir).sum(0, keepdim=True)\n",
        "\n",
        "    # Here we get the start point\n",
        "    prev_params = get_flat_params_from(agent)\n",
        "\n",
        "    def get_loss_kl(params):\n",
        "        # Helper for linear search\n",
        "        set_flat_params_to(agent, params)\n",
        "        return [get_loss(agent, observations, actions, cummulative_returns, old_probs),\n",
        "                get_kl(agent, observations, actions, cummulative_returns, old_probs)]\n",
        "\n",
        "    # Here we find our new parameters\n",
        "    new_params = linesearch(get_loss_kl, prev_params, fullstep, max_kl)\n",
        "\n",
        "    # And we set it to our network\n",
        "    set_flat_params_to(agent, new_params)\n",
        "\n",
        "    return get_loss_kl(new_params)"
      ],
      "execution_count": 18,
      "outputs": []
    },
    {
      "cell_type": "markdown",
      "metadata": {
        "id": "dL1B9HNY6RkH",
        "colab_type": "text"
      },
      "source": [
        "##### Step 5: Main TRPO loop\n",
        "\n",
        "Here we will train our network!"
      ]
    },
    {
      "cell_type": "code",
      "metadata": {
        "id": "k_rrjc-e6RkH",
        "colab_type": "code",
        "colab": {
          "base_uri": "https://localhost:8080/",
          "height": 1000
        },
        "outputId": "19e34c86-721a-4498-a992-fe2465bc993f"
      },
      "source": [
        "import time\n",
        "from itertools import count\n",
        "from collections import OrderedDict\n",
        "\n",
        "# this is hyperparameter of TRPO. It controls how big KL divergence may be between old and new policy every step.\n",
        "max_kl = 0.01\n",
        "numeptotal = 0  # this is number of episodes that we played.\n",
        "\n",
        "start_time = time.time()\n",
        "\n",
        "for i in count(1):\n",
        "\n",
        "    print(\"\\n********** Iteration %i ************\" % i)\n",
        "\n",
        "    # Generating paths.\n",
        "    print(\"Rollout\")\n",
        "    paths = rollout(env, agent)\n",
        "    print(\"Made rollout\")\n",
        "\n",
        "    # Updating policy.\n",
        "    observations = np.concatenate([path[\"observations\"] for path in paths])\n",
        "    actions = np.concatenate([path[\"actions\"] for path in paths])\n",
        "    returns = np.concatenate([path[\"cumulative_returns\"] for path in paths])\n",
        "    old_probs = np.concatenate([path[\"policy\"] for path in paths])\n",
        "\n",
        "    loss, kl = update_step(agent, observations, actions,\n",
        "                           returns, old_probs, max_kl)\n",
        "\n",
        "    # Report current progress\n",
        "    episode_rewards = np.array([path[\"rewards\"].sum() for path in paths])\n",
        "\n",
        "    stats = OrderedDict()\n",
        "    numeptotal += len(episode_rewards)\n",
        "    stats[\"Total number of episodes\"] = numeptotal\n",
        "    stats[\"Average sum of rewards per episode\"] = episode_rewards.mean()\n",
        "    stats[\"Std of rewards per episode\"] = episode_rewards.std()\n",
        "    stats[\"Time elapsed\"] = \"%.2f mins\" % ((time.time() - start_time)/60.)\n",
        "    stats[\"KL between old and new distribution\"] = kl.data.numpy()\n",
        "    stats[\"Entropy\"] = get_entropy(agent, observations).data.numpy()\n",
        "    stats[\"Surrogate loss\"] = loss.data.numpy()\n",
        "    for k, v in stats.items():\n",
        "        print(k + \": \" + \" \" * (40 - len(k)) + str(v))\n",
        "    i += 1"
      ],
      "execution_count": 19,
      "outputs": [
        {
          "output_type": "stream",
          "text": [
            "\n",
            "********** Iteration 1 ************\n",
            "Rollout\n"
          ],
          "name": "stdout"
        },
        {
          "output_type": "stream",
          "text": [
            "/usr/local/lib/python3.6/dist-packages/torch/nn/modules/container.py:117: UserWarning: Implicit dimension choice for log_softmax has been deprecated. Change the call to include dim=X as an argument.\n",
            "  input = module(input)\n"
          ],
          "name": "stderr"
        },
        {
          "output_type": "stream",
          "text": [
            "Made rollout\n",
            "Total number of episodes:                 103\n",
            "Average sum of rewards per episode:       -485.28155339805824\n",
            "Std of rewards per episode:               42.01026630785453\n",
            "Time elapsed:                             0.36 mins\n",
            "KL between old and new distribution:      0.009997814\n",
            "Entropy:                                  1.0821818\n",
            "Surrogate loss:                           244.36084\n",
            "\n",
            "********** Iteration 2 ************\n",
            "Rollout\n",
            "Made rollout\n",
            "Total number of episodes:                 217\n",
            "Average sum of rewards per episode:       -438.07894736842104\n",
            "Std of rewards per episode:               78.86232114982148\n",
            "Time elapsed:                             0.72 mins\n",
            "KL between old and new distribution:      0.009997694\n",
            "Entropy:                                  1.060565\n",
            "Surrogate loss:                           225.78394\n",
            "\n",
            "********** Iteration 3 ************\n",
            "Rollout\n",
            "Made rollout\n",
            "Total number of episodes:                 392\n",
            "Average sum of rewards per episode:       -284.7371428571429\n",
            "Std of rewards per episode:               74.39922843576225\n",
            "Time elapsed:                             1.08 mins\n",
            "KL between old and new distribution:      0.009992463\n",
            "Entropy:                                  1.0086558\n",
            "Surrogate loss:                           151.54128\n",
            "\n",
            "********** Iteration 4 ************\n",
            "Rollout\n",
            "Made rollout\n",
            "Total number of episodes:                 631\n",
            "Average sum of rewards per episode:       -208.2133891213389\n",
            "Std of rewards per episode:               53.91843045663665\n",
            "Time elapsed:                             1.44 mins\n",
            "KL between old and new distribution:      0.00998495\n",
            "Entropy:                                  0.93945783\n",
            "Surrogate loss:                           110.67842\n",
            "\n",
            "********** Iteration 5 ************\n",
            "Rollout\n",
            "Made rollout\n",
            "Total number of episodes:                 934\n",
            "Average sum of rewards per episode:       -164.01980198019803\n",
            "Std of rewards per episode:               36.52486296322329\n",
            "Time elapsed:                             1.81 mins\n",
            "KL between old and new distribution:      0.009987545\n",
            "Entropy:                                  0.8807757\n",
            "Surrogate loss:                           85.78293\n",
            "\n",
            "********** Iteration 6 ************\n",
            "Rollout\n",
            "Made rollout\n",
            "Total number of episodes:                 1286\n",
            "Average sum of rewards per episode:       -141.04829545454547\n",
            "Std of rewards per episode:               28.826685227154265\n",
            "Time elapsed:                             2.17 mins\n",
            "KL between old and new distribution:      0.009977262\n",
            "Entropy:                                  0.81719416\n",
            "Surrogate loss:                           73.19611\n",
            "\n",
            "********** Iteration 7 ************\n",
            "Rollout\n",
            "Made rollout\n",
            "Total number of episodes:                 1677\n",
            "Average sum of rewards per episode:       -126.88235294117646\n",
            "Std of rewards per episode:               37.09277055168892\n",
            "Time elapsed:                             2.53 mins\n",
            "KL between old and new distribution:      0.009988741\n",
            "Entropy:                                  0.7554453\n",
            "Surrogate loss:                           68.60049\n",
            "\n",
            "********** Iteration 8 ************\n",
            "Rollout\n",
            "Made rollout\n",
            "Total number of episodes:                 2098\n",
            "Average sum of rewards per episode:       -117.76722090261282\n",
            "Std of rewards per episode:               27.250626511068308\n",
            "Time elapsed:                             2.89 mins\n",
            "KL between old and new distribution:      0.009977152\n",
            "Entropy:                                  0.68534905\n",
            "Surrogate loss:                           61.80334\n",
            "\n",
            "********** Iteration 9 ************\n",
            "Rollout\n",
            "Made rollout\n",
            "Total number of episodes:                 2548\n",
            "Average sum of rewards per episode:       -110.11555555555556\n",
            "Std of rewards per episode:               29.803280621476375\n",
            "Time elapsed:                             3.26 mins\n",
            "KL between old and new distribution:      0.009981227\n",
            "Entropy:                                  0.66957045\n",
            "Surrogate loss:                           58.758217\n",
            "\n",
            "********** Iteration 10 ************\n",
            "Rollout\n",
            "Made rollout\n",
            "Total number of episodes:                 2988\n",
            "Average sum of rewards per episode:       -112.64090909090909\n",
            "Std of rewards per episode:               36.565547111142614\n",
            "Time elapsed:                             3.62 mins\n",
            "KL between old and new distribution:      0.0099989725\n",
            "Entropy:                                  0.5887192\n",
            "Surrogate loss:                           61.95572\n",
            "\n",
            "********** Iteration 11 ************\n",
            "Rollout\n",
            "Made rollout\n",
            "Total number of episodes:                 3474\n",
            "Average sum of rewards per episode:       -101.88271604938272\n",
            "Std of rewards per episode:               26.458847416598577\n",
            "Time elapsed:                             3.98 mins\n",
            "KL between old and new distribution:      0.009997384\n",
            "Entropy:                                  0.5990652\n",
            "Surrogate loss:                           54.12549\n",
            "\n",
            "********** Iteration 12 ************\n",
            "Rollout\n",
            "Made rollout\n",
            "Total number of episodes:                 3949\n",
            "Average sum of rewards per episode:       -104.26526315789474\n",
            "Std of rewards per episode:               28.16891070300564\n",
            "Time elapsed:                             4.35 mins\n",
            "KL between old and new distribution:      0.009989715\n",
            "Entropy:                                  0.5145759\n",
            "Surrogate loss:                           55.70947\n",
            "\n",
            "********** Iteration 13 ************\n",
            "Rollout\n",
            "Made rollout\n",
            "Total number of episodes:                 4446\n",
            "Average sum of rewards per episode:       -99.6056338028169\n",
            "Std of rewards per episode:               25.770645421552103\n",
            "Time elapsed:                             4.71 mins\n",
            "KL between old and new distribution:      0.009980676\n",
            "Entropy:                                  0.49316844\n",
            "Surrogate loss:                           52.885365\n",
            "\n",
            "********** Iteration 14 ************\n",
            "Rollout\n",
            "Made rollout\n",
            "Total number of episodes:                 4954\n",
            "Average sum of rewards per episode:       -97.42716535433071\n",
            "Std of rewards per episode:               26.301414033351136\n",
            "Time elapsed:                             5.07 mins\n",
            "KL between old and new distribution:      0.0099815745\n",
            "Entropy:                                  0.45264047\n",
            "Surrogate loss:                           52.037457\n",
            "\n",
            "********** Iteration 15 ************\n",
            "Rollout\n",
            "Made rollout\n",
            "Total number of episodes:                 5482\n",
            "Average sum of rewards per episode:       -93.69886363636364\n",
            "Std of rewards per episode:               21.687393319892273\n",
            "Time elapsed:                             5.43 mins\n",
            "KL between old and new distribution:      0.009984946\n",
            "Entropy:                                  0.41383508\n",
            "Surrogate loss:                           49.19215\n",
            "\n",
            "********** Iteration 16 ************\n",
            "Rollout\n",
            "Made rollout\n",
            "Total number of episodes:                 6017\n",
            "Average sum of rewards per episode:       -92.45981308411216\n",
            "Std of rewards per episode:               27.297765681095875\n",
            "Time elapsed:                             5.80 mins\n",
            "KL between old and new distribution:      0.00998903\n",
            "Entropy:                                  0.3691478\n",
            "Surrogate loss:                           50.045475\n",
            "\n",
            "********** Iteration 17 ************\n",
            "Rollout\n",
            "Made rollout\n",
            "Total number of episodes:                 6558\n",
            "Average sum of rewards per episode:       -91.42329020332717\n",
            "Std of rewards per episode:               26.536065735868476\n",
            "Time elapsed:                             6.16 mins\n",
            "KL between old and new distribution:      0.009996809\n",
            "Entropy:                                  0.37709245\n",
            "Surrogate loss:                           49.395226\n",
            "\n",
            "********** Iteration 18 ************\n",
            "Rollout\n",
            "Made rollout\n",
            "Total number of episodes:                 7103\n",
            "Average sum of rewards per episode:       -90.74495412844037\n",
            "Std of rewards per episode:               27.315605266091794\n",
            "Time elapsed:                             6.52 mins\n",
            "KL between old and new distribution:      0.009994608\n",
            "Entropy:                                  0.34896386\n",
            "Surrogate loss:                           49.316326\n",
            "\n",
            "********** Iteration 19 ************\n",
            "Rollout\n",
            "Made rollout\n",
            "Total number of episodes:                 7661\n",
            "Average sum of rewards per episode:       -88.60752688172043\n",
            "Std of rewards per episode:               21.87996941555498\n",
            "Time elapsed:                             6.88 mins\n",
            "KL between old and new distribution:      0.009981095\n",
            "Entropy:                                  0.31859243\n",
            "Surrogate loss:                           46.83736\n",
            "\n",
            "********** Iteration 20 ************\n",
            "Rollout\n",
            "Made rollout\n",
            "Total number of episodes:                 8205\n",
            "Average sum of rewards per episode:       -90.91360294117646\n",
            "Std of rewards per episode:               27.809585582207244\n",
            "Time elapsed:                             7.25 mins\n",
            "KL between old and new distribution:      0.009987479\n",
            "Entropy:                                  0.27750507\n",
            "Surrogate loss:                           49.522484\n",
            "\n",
            "********** Iteration 21 ************\n",
            "Rollout\n",
            "Made rollout\n",
            "Total number of episodes:                 8752\n",
            "Average sum of rewards per episode:       -90.40767824497257\n",
            "Std of rewards per episode:               30.494405269569317\n",
            "Time elapsed:                             7.61 mins\n",
            "KL between old and new distribution:      0.009995776\n",
            "Entropy:                                  0.2975866\n",
            "Surrogate loss:                           50.1428\n",
            "\n",
            "********** Iteration 22 ************\n",
            "Rollout\n",
            "Made rollout\n",
            "Total number of episodes:                 9317\n",
            "Average sum of rewards per episode:       -87.49734513274336\n",
            "Std of rewards per episode:               25.65824561759667\n",
            "Time elapsed:                             7.98 mins\n",
            "KL between old and new distribution:      0.009970478\n",
            "Entropy:                                  0.28809837\n",
            "Surrogate loss:                           47.302525\n",
            "\n",
            "********** Iteration 23 ************\n",
            "Rollout\n",
            "Made rollout\n",
            "Total number of episodes:                 9886\n",
            "Average sum of rewards per episode:       -86.87697715289983\n",
            "Std of rewards per episode:               27.482583985077564\n",
            "Time elapsed:                             8.34 mins\n",
            "KL between old and new distribution:      0.009998794\n",
            "Entropy:                                  0.27446\n",
            "Surrogate loss:                           47.59301\n",
            "\n",
            "********** Iteration 24 ************\n",
            "Rollout\n",
            "Made rollout\n",
            "Total number of episodes:                 10451\n",
            "Average sum of rewards per episode:       -87.50088495575221\n",
            "Std of rewards per episode:               30.83094783410975\n",
            "Time elapsed:                             8.71 mins\n",
            "KL between old and new distribution:      0.009975177\n",
            "Entropy:                                  0.28554097\n",
            "Surrogate loss:                           48.911114\n",
            "\n",
            "********** Iteration 25 ************\n",
            "Rollout\n",
            "Made rollout\n",
            "Total number of episodes:                 11023\n",
            "Average sum of rewards per episode:       -86.41433566433567\n",
            "Std of rewards per episode:               22.351014215170864\n",
            "Time elapsed:                             9.07 mins\n",
            "KL between old and new distribution:      0.009972294\n",
            "Entropy:                                  0.24793598\n",
            "Surrogate loss:                           45.917133\n",
            "\n",
            "********** Iteration 26 ************\n",
            "Rollout\n",
            "Made rollout\n",
            "Total number of episodes:                 11598\n",
            "Average sum of rewards per episode:       -85.95826086956522\n",
            "Std of rewards per episode:               22.667924024579776\n",
            "Time elapsed:                             9.44 mins\n",
            "KL between old and new distribution:      0.009982042\n",
            "Entropy:                                  0.23281516\n",
            "Surrogate loss:                           45.821453\n",
            "\n",
            "********** Iteration 27 ************\n",
            "Rollout\n",
            "Made rollout\n",
            "Total number of episodes:                 12158\n",
            "Average sum of rewards per episode:       -88.2875\n",
            "Std of rewards per episode:               26.062449468947243\n",
            "Time elapsed:                             9.80 mins\n",
            "KL between old and new distribution:      0.009974591\n",
            "Entropy:                                  0.20942068\n",
            "Surrogate loss:                           47.77536\n",
            "\n",
            "********** Iteration 28 ************\n",
            "Rollout\n",
            "Made rollout\n",
            "Total number of episodes:                 12731\n",
            "Average sum of rewards per episode:       -86.26352530541013\n",
            "Std of rewards per episode:               31.5706694373758\n",
            "Time elapsed:                             10.17 mins\n",
            "KL between old and new distribution:      0.009986508\n",
            "Entropy:                                  0.17390892\n",
            "Surrogate loss:                           48.66855\n",
            "\n",
            "********** Iteration 29 ************\n",
            "Rollout\n",
            "Made rollout\n",
            "Total number of episodes:                 13293\n",
            "Average sum of rewards per episode:       -87.97330960854093\n",
            "Std of rewards per episode:               33.65505888704727\n",
            "Time elapsed:                             10.53 mins\n",
            "KL between old and new distribution:      0.0099734925\n",
            "Entropy:                                  0.18218762\n",
            "Surrogate loss:                           50.14748\n",
            "\n",
            "********** Iteration 30 ************\n",
            "Rollout\n",
            "Made rollout\n",
            "Total number of episodes:                 13874\n",
            "Average sum of rewards per episode:       -85.06024096385542\n",
            "Std of rewards per episode:               23.67598591535608\n",
            "Time elapsed:                             10.90 mins\n",
            "KL between old and new distribution:      0.009987774\n",
            "Entropy:                                  0.19202648\n",
            "Surrogate loss:                           45.659386\n",
            "\n",
            "********** Iteration 31 ************\n",
            "Rollout\n",
            "Made rollout\n",
            "Total number of episodes:                 14466\n",
            "Average sum of rewards per episode:       -83.46114864864865\n",
            "Std of rewards per episode:               20.335659102006964\n",
            "Time elapsed:                             11.26 mins\n",
            "KL between old and new distribution:      0.009970509\n",
            "Entropy:                                  0.17738293\n",
            "Surrogate loss:                           44.050236\n",
            "\n",
            "********** Iteration 32 ************\n",
            "Rollout\n",
            "Made rollout\n",
            "Total number of episodes:                 15052\n",
            "Average sum of rewards per episode:       -84.32764505119454\n",
            "Std of rewards per episode:               25.269506105636825\n",
            "Time elapsed:                             11.63 mins\n",
            "KL between old and new distribution:      0.009979825\n",
            "Entropy:                                  0.19319344\n",
            "Surrogate loss:                           45.77727\n",
            "\n",
            "********** Iteration 33 ************\n",
            "Rollout\n",
            "Made rollout\n",
            "Total number of episodes:                 15635\n",
            "Average sum of rewards per episode:       -84.76672384219555\n",
            "Std of rewards per episode:               28.34994121933695\n",
            "Time elapsed:                             11.99 mins\n",
            "KL between old and new distribution:      0.009975927\n",
            "Entropy:                                  0.20154394\n",
            "Surrogate loss:                           46.88986\n",
            "\n",
            "********** Iteration 34 ************\n",
            "Rollout\n",
            "Made rollout\n",
            "Total number of episodes:                 16226\n",
            "Average sum of rewards per episode:       -83.60406091370558\n",
            "Std of rewards per episode:               20.53058262116492\n",
            "Time elapsed:                             12.36 mins\n",
            "KL between old and new distribution:      0.009977569\n",
            "Entropy:                                  0.21032815\n",
            "Surrogate loss:                           44.14502\n",
            "\n",
            "********** Iteration 35 ************\n",
            "Rollout\n",
            "Made rollout\n",
            "Total number of episodes:                 16814\n",
            "Average sum of rewards per episode:       -84.0374149659864\n",
            "Std of rewards per episode:               26.32163619711186\n",
            "Time elapsed:                             12.73 mins\n",
            "KL between old and new distribution:      0.009968389\n",
            "Entropy:                                  0.23331752\n",
            "Surrogate loss:                           45.94741\n",
            "\n",
            "********** Iteration 36 ************\n",
            "Rollout\n",
            "Made rollout\n",
            "Total number of episodes:                 17389\n",
            "Average sum of rewards per episode:       -85.96\n",
            "Std of rewards per episode:               33.141857941673805\n",
            "Time elapsed:                             13.09 mins\n",
            "KL between old and new distribution:      0.009999339\n",
            "Entropy:                                  0.23279716\n",
            "Surrogate loss:                           49.15687\n",
            "\n",
            "********** Iteration 37 ************\n",
            "Rollout\n"
          ],
          "name": "stdout"
        },
        {
          "output_type": "error",
          "ename": "KeyboardInterrupt",
          "evalue": "ignored",
          "traceback": [
            "\u001b[0;31m---------------------------------------------------------------------------\u001b[0m",
            "\u001b[0;31mKeyboardInterrupt\u001b[0m                         Traceback (most recent call last)",
            "\u001b[0;32m<ipython-input-19-4e6dbda4efe8>\u001b[0m in \u001b[0;36m<module>\u001b[0;34m()\u001b[0m\n\u001b[1;32m     15\u001b[0m     \u001b[0;31m# Generating paths.\u001b[0m\u001b[0;34m\u001b[0m\u001b[0;34m\u001b[0m\u001b[0;34m\u001b[0m\u001b[0m\n\u001b[1;32m     16\u001b[0m     \u001b[0mprint\u001b[0m\u001b[0;34m(\u001b[0m\u001b[0;34m\"Rollout\"\u001b[0m\u001b[0;34m)\u001b[0m\u001b[0;34m\u001b[0m\u001b[0;34m\u001b[0m\u001b[0m\n\u001b[0;32m---> 17\u001b[0;31m     \u001b[0mpaths\u001b[0m \u001b[0;34m=\u001b[0m \u001b[0mrollout\u001b[0m\u001b[0;34m(\u001b[0m\u001b[0menv\u001b[0m\u001b[0;34m,\u001b[0m \u001b[0magent\u001b[0m\u001b[0;34m)\u001b[0m\u001b[0;34m\u001b[0m\u001b[0;34m\u001b[0m\u001b[0m\n\u001b[0m\u001b[1;32m     18\u001b[0m     \u001b[0mprint\u001b[0m\u001b[0;34m(\u001b[0m\u001b[0;34m\"Made rollout\"\u001b[0m\u001b[0;34m)\u001b[0m\u001b[0;34m\u001b[0m\u001b[0;34m\u001b[0m\u001b[0m\n\u001b[1;32m     19\u001b[0m \u001b[0;34m\u001b[0m\u001b[0m\n",
            "\u001b[0;32m<ipython-input-10-e4eb83f65919>\u001b[0m in \u001b[0;36mrollout\u001b[0;34m(env, agent, max_pathlength, n_timesteps)\u001b[0m\n\u001b[1;32m     21\u001b[0m             \u001b[0maction_probs\u001b[0m\u001b[0;34m.\u001b[0m\u001b[0mappend\u001b[0m\u001b[0;34m(\u001b[0m\u001b[0mpolicy\u001b[0m\u001b[0;34m)\u001b[0m\u001b[0;34m\u001b[0m\u001b[0;34m\u001b[0m\u001b[0m\n\u001b[1;32m     22\u001b[0m \u001b[0;34m\u001b[0m\u001b[0m\n\u001b[0;32m---> 23\u001b[0;31m             \u001b[0mobervation\u001b[0m\u001b[0;34m,\u001b[0m \u001b[0mreward\u001b[0m\u001b[0;34m,\u001b[0m \u001b[0mdone\u001b[0m\u001b[0;34m,\u001b[0m \u001b[0m_\u001b[0m \u001b[0;34m=\u001b[0m \u001b[0menv\u001b[0m\u001b[0;34m.\u001b[0m\u001b[0mstep\u001b[0m\u001b[0;34m(\u001b[0m\u001b[0maction\u001b[0m\u001b[0;34m)\u001b[0m\u001b[0;34m\u001b[0m\u001b[0;34m\u001b[0m\u001b[0m\n\u001b[0m\u001b[1;32m     24\u001b[0m             \u001b[0mrewards\u001b[0m\u001b[0;34m.\u001b[0m\u001b[0mappend\u001b[0m\u001b[0;34m(\u001b[0m\u001b[0mreward\u001b[0m\u001b[0;34m)\u001b[0m\u001b[0;34m\u001b[0m\u001b[0;34m\u001b[0m\u001b[0m\n\u001b[1;32m     25\u001b[0m \u001b[0;34m\u001b[0m\u001b[0m\n",
            "\u001b[0;32m/usr/local/lib/python3.6/dist-packages/gym/wrappers/time_limit.py\u001b[0m in \u001b[0;36mstep\u001b[0;34m(self, action)\u001b[0m\n\u001b[1;32m     14\u001b[0m     \u001b[0;32mdef\u001b[0m \u001b[0mstep\u001b[0m\u001b[0;34m(\u001b[0m\u001b[0mself\u001b[0m\u001b[0;34m,\u001b[0m \u001b[0maction\u001b[0m\u001b[0;34m)\u001b[0m\u001b[0;34m:\u001b[0m\u001b[0;34m\u001b[0m\u001b[0;34m\u001b[0m\u001b[0m\n\u001b[1;32m     15\u001b[0m         \u001b[0;32massert\u001b[0m \u001b[0mself\u001b[0m\u001b[0;34m.\u001b[0m\u001b[0m_elapsed_steps\u001b[0m \u001b[0;32mis\u001b[0m \u001b[0;32mnot\u001b[0m \u001b[0;32mNone\u001b[0m\u001b[0;34m,\u001b[0m \u001b[0;34m\"Cannot call env.step() before calling reset()\"\u001b[0m\u001b[0;34m\u001b[0m\u001b[0;34m\u001b[0m\u001b[0m\n\u001b[0;32m---> 16\u001b[0;31m         \u001b[0mobservation\u001b[0m\u001b[0;34m,\u001b[0m \u001b[0mreward\u001b[0m\u001b[0;34m,\u001b[0m \u001b[0mdone\u001b[0m\u001b[0;34m,\u001b[0m \u001b[0minfo\u001b[0m \u001b[0;34m=\u001b[0m \u001b[0mself\u001b[0m\u001b[0;34m.\u001b[0m\u001b[0menv\u001b[0m\u001b[0;34m.\u001b[0m\u001b[0mstep\u001b[0m\u001b[0;34m(\u001b[0m\u001b[0maction\u001b[0m\u001b[0;34m)\u001b[0m\u001b[0;34m\u001b[0m\u001b[0;34m\u001b[0m\u001b[0m\n\u001b[0m\u001b[1;32m     17\u001b[0m         \u001b[0mself\u001b[0m\u001b[0;34m.\u001b[0m\u001b[0m_elapsed_steps\u001b[0m \u001b[0;34m+=\u001b[0m \u001b[0;36m1\u001b[0m\u001b[0;34m\u001b[0m\u001b[0;34m\u001b[0m\u001b[0m\n\u001b[1;32m     18\u001b[0m         \u001b[0;32mif\u001b[0m \u001b[0mself\u001b[0m\u001b[0;34m.\u001b[0m\u001b[0m_elapsed_steps\u001b[0m \u001b[0;34m>=\u001b[0m \u001b[0mself\u001b[0m\u001b[0;34m.\u001b[0m\u001b[0m_max_episode_steps\u001b[0m\u001b[0;34m:\u001b[0m\u001b[0;34m\u001b[0m\u001b[0;34m\u001b[0m\u001b[0m\n",
            "\u001b[0;32m/usr/local/lib/python3.6/dist-packages/gym/envs/classic_control/acrobot.py\u001b[0m in \u001b[0;36mstep\u001b[0;34m(self, a)\u001b[0m\n\u001b[1;32m    122\u001b[0m         \u001b[0;31m# at the ''final timestep'', self.dt\u001b[0m\u001b[0;34m\u001b[0m\u001b[0;34m\u001b[0m\u001b[0;34m\u001b[0m\u001b[0m\n\u001b[1;32m    123\u001b[0m \u001b[0;34m\u001b[0m\u001b[0m\n\u001b[0;32m--> 124\u001b[0;31m         \u001b[0mns\u001b[0m\u001b[0;34m[\u001b[0m\u001b[0;36m0\u001b[0m\u001b[0;34m]\u001b[0m \u001b[0;34m=\u001b[0m \u001b[0mwrap\u001b[0m\u001b[0;34m(\u001b[0m\u001b[0mns\u001b[0m\u001b[0;34m[\u001b[0m\u001b[0;36m0\u001b[0m\u001b[0;34m]\u001b[0m\u001b[0;34m,\u001b[0m \u001b[0;34m-\u001b[0m\u001b[0mpi\u001b[0m\u001b[0;34m,\u001b[0m \u001b[0mpi\u001b[0m\u001b[0;34m)\u001b[0m\u001b[0;34m\u001b[0m\u001b[0;34m\u001b[0m\u001b[0m\n\u001b[0m\u001b[1;32m    125\u001b[0m         \u001b[0mns\u001b[0m\u001b[0;34m[\u001b[0m\u001b[0;36m1\u001b[0m\u001b[0;34m]\u001b[0m \u001b[0;34m=\u001b[0m \u001b[0mwrap\u001b[0m\u001b[0;34m(\u001b[0m\u001b[0mns\u001b[0m\u001b[0;34m[\u001b[0m\u001b[0;36m1\u001b[0m\u001b[0;34m]\u001b[0m\u001b[0;34m,\u001b[0m \u001b[0;34m-\u001b[0m\u001b[0mpi\u001b[0m\u001b[0;34m,\u001b[0m \u001b[0mpi\u001b[0m\u001b[0;34m)\u001b[0m\u001b[0;34m\u001b[0m\u001b[0;34m\u001b[0m\u001b[0m\n\u001b[1;32m    126\u001b[0m         \u001b[0mns\u001b[0m\u001b[0;34m[\u001b[0m\u001b[0;36m2\u001b[0m\u001b[0;34m]\u001b[0m \u001b[0;34m=\u001b[0m \u001b[0mbound\u001b[0m\u001b[0;34m(\u001b[0m\u001b[0mns\u001b[0m\u001b[0;34m[\u001b[0m\u001b[0;36m2\u001b[0m\u001b[0;34m]\u001b[0m\u001b[0;34m,\u001b[0m \u001b[0;34m-\u001b[0m\u001b[0mself\u001b[0m\u001b[0;34m.\u001b[0m\u001b[0mMAX_VEL_1\u001b[0m\u001b[0;34m,\u001b[0m \u001b[0mself\u001b[0m\u001b[0;34m.\u001b[0m\u001b[0mMAX_VEL_1\u001b[0m\u001b[0;34m)\u001b[0m\u001b[0;34m\u001b[0m\u001b[0;34m\u001b[0m\u001b[0m\n",
            "\u001b[0;32m/usr/local/lib/python3.6/dist-packages/gym/envs/classic_control/acrobot.py\u001b[0m in \u001b[0;36mwrap\u001b[0;34m(x, m, M)\u001b[0m\n\u001b[1;32m    228\u001b[0m     \"\"\"\n\u001b[1;32m    229\u001b[0m     \u001b[0mdiff\u001b[0m \u001b[0;34m=\u001b[0m \u001b[0mM\u001b[0m \u001b[0;34m-\u001b[0m \u001b[0mm\u001b[0m\u001b[0;34m\u001b[0m\u001b[0;34m\u001b[0m\u001b[0m\n\u001b[0;32m--> 230\u001b[0;31m     \u001b[0;32mwhile\u001b[0m \u001b[0mx\u001b[0m \u001b[0;34m>\u001b[0m \u001b[0mM\u001b[0m\u001b[0;34m:\u001b[0m\u001b[0;34m\u001b[0m\u001b[0;34m\u001b[0m\u001b[0m\n\u001b[0m\u001b[1;32m    231\u001b[0m         \u001b[0mx\u001b[0m \u001b[0;34m=\u001b[0m \u001b[0mx\u001b[0m \u001b[0;34m-\u001b[0m \u001b[0mdiff\u001b[0m\u001b[0;34m\u001b[0m\u001b[0;34m\u001b[0m\u001b[0m\n\u001b[1;32m    232\u001b[0m     \u001b[0;32mwhile\u001b[0m \u001b[0mx\u001b[0m \u001b[0;34m<\u001b[0m \u001b[0mm\u001b[0m\u001b[0;34m:\u001b[0m\u001b[0;34m\u001b[0m\u001b[0;34m\u001b[0m\u001b[0m\n",
            "\u001b[0;31mKeyboardInterrupt\u001b[0m: "
          ]
        }
      ]
    },
    {
      "cell_type": "markdown",
      "metadata": {
        "id": "Du6E07kN6RkK",
        "colab_type": "text"
      },
      "source": [
        "# Homework option I: better sampling (10+pts)\n",
        "\n",
        "In this section, you're invited to implement a better rollout strategy called _vine_.\n",
        "\n",
        "![img](https://s17.postimg.cc/i90chxgvj/vine.png)\n",
        "\n",
        "In most gym environments, you can actually backtrack by using states. You can find a wrapper that saves/loads states in [the mcts seminar](https://github.com/yandexdataschool/Practical_RL/blob/master/week10_planning/seminar_MCTS.ipynb).\n",
        "\n",
        "You can read more about in the [TRPO article](https://arxiv.org/abs/1502.05477) in section 5.2.\n",
        "\n",
        "The goal here is to implement such rollout policy (we recommend using tree data structure like in the seminar above).\n",
        "Then you can assign cummulative rewards similar to `get_cummulative_rewards`, but for a tree.\n",
        "\n",
        "__bonus task__ - parallelize samples using multiple cores"
      ]
    },
    {
      "cell_type": "markdown",
      "metadata": {
        "id": "l6eInHdr6RkK",
        "colab_type": "text"
      },
      "source": [
        "# Homework option II (10+pts)\n",
        "\n",
        "Let's use TRPO to train evil robots! (pick any of two)\n",
        "* [MuJoCo robots](https://gym.openai.com/envs#mujoco)\n",
        "* [Box2d robot](https://gym.openai.com/envs/BipedalWalker-v2)\n",
        "\n",
        "The catch here is that those environments have continuous action spaces. \n",
        "\n",
        "Luckily, TRPO is a policy gradient method, so it's gonna work for any parametric $\\pi_\\theta(a|s)$. We recommend starting with gaussian policy:\n",
        "\n",
        "$$\\pi_\\theta(a|s) = N(\\mu_\\theta(s),\\sigma^2_\\theta(s)) = {1 \\over \\sqrt { 2 \\pi {\\sigma^2}_\\theta(s) } } e^{ (a - \n",
        "\\mu_\\theta(s))^2 \\over 2 {\\sigma^2}_\\theta(s) } $$\n",
        "\n",
        "In the $\\sqrt { 2 \\pi {\\sigma^2}_\\theta(s) }$ clause, $\\pi$ means ~3.1415926, not agent's policy.\n",
        "\n",
        "This essentially means that you will need two output layers:\n",
        "* $\\mu_\\theta(s)$, a dense layer with linear activation\n",
        "* ${\\sigma^2}_\\theta(s)$, a dense layer with activation tf.exp (to make it positive; like rho from bandits)\n",
        "\n",
        "For multidimensional actions, you can use fully factorized gaussian (basically a vector of gaussians).\n",
        "\n",
        "__bonus task__: compare performance of continuous action space method to action space discretization"
      ]
    },
    {
      "cell_type": "code",
      "metadata": {
        "id": "DXFATIc36RkK",
        "colab_type": "code",
        "colab": {}
      },
      "source": [
        ""
      ],
      "execution_count": null,
      "outputs": []
    }
  ]
}