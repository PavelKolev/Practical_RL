{
  "nbformat": 4,
  "nbformat_minor": 0,
  "metadata": {
    "colab": {
      "name": "w9_TRPO_tf.ipynb",
      "provenance": [],
      "collapsed_sections": []
    },
    "kernelspec": {
      "name": "python3",
      "display_name": "Python 3"
    },
    "accelerator": "GPU"
  },
  "cells": [
    {
      "cell_type": "code",
      "metadata": {
        "id": "0SRyzt5S_75J",
        "colab_type": "code",
        "colab": {
          "base_uri": "https://localhost:8080/",
          "height": 658
        },
        "outputId": "415f105c-b79f-4be3-b494-8bd59ed0ff4d"
      },
      "source": [
        "import sys, os\n",
        "if 'google.colab' in sys.modules:\n",
        "    # https://github.com/yandexdataschool/Practical_RL/issues/256\n",
        "    !pip uninstall tensorflow --yes\n",
        "    !pip uninstall keras --yes\n",
        "    !pip install tensorflow-gpu==1.13.1\n",
        "    !pip install keras==2.2.4\n",
        "    \n",
        "    if not os.path.exists('.setup_complete'):\n",
        "        !wget -q https://raw.githubusercontent.com/yandexdataschool/Practical_RL/master/setup_colab.sh -O- | bash\n",
        "\n",
        "        #!wget -q https://raw.githubusercontent.com/yandexdataschool/Practical_RL/master/week08_pomdp/atari_util.py\n",
        "        \n",
        "        !touch .setup_complete\n",
        "\n",
        "# This code creates a virtual display to draw game images on.\n",
        "# It will have no effect if your machine has a monitor.\n",
        "if type(os.environ.get(\"DISPLAY\")) is not str or len(os.environ.get(\"DISPLAY\")) == 0:\n",
        "    !bash ../xvfb start\n",
        "    os.environ['DISPLAY'] = ':1'"
      ],
      "execution_count": 1,
      "outputs": [
        {
          "output_type": "stream",
          "text": [
            "\u001b[33mWARNING: Skipping tensorflow as it is not installed.\u001b[0m\n",
            "Uninstalling Keras-2.2.4:\n",
            "  Successfully uninstalled Keras-2.2.4\n",
            "Requirement already satisfied: tensorflow-gpu==1.13.1 in /usr/local/lib/python3.6/dist-packages (1.13.1)\n",
            "Requirement already satisfied: absl-py>=0.1.6 in /usr/local/lib/python3.6/dist-packages (from tensorflow-gpu==1.13.1) (0.8.1)\n",
            "Requirement already satisfied: keras-applications>=1.0.6 in /usr/local/lib/python3.6/dist-packages (from tensorflow-gpu==1.13.1) (1.0.8)\n",
            "Requirement already satisfied: grpcio>=1.8.6 in /usr/local/lib/python3.6/dist-packages (from tensorflow-gpu==1.13.1) (1.31.0)\n",
            "Requirement already satisfied: termcolor>=1.1.0 in /usr/local/lib/python3.6/dist-packages (from tensorflow-gpu==1.13.1) (1.1.0)\n",
            "Requirement already satisfied: gast>=0.2.0 in /usr/local/lib/python3.6/dist-packages (from tensorflow-gpu==1.13.1) (0.3.3)\n",
            "Requirement already satisfied: astor>=0.6.0 in /usr/local/lib/python3.6/dist-packages (from tensorflow-gpu==1.13.1) (0.8.1)\n",
            "Requirement already satisfied: tensorboard<1.14.0,>=1.13.0 in /usr/local/lib/python3.6/dist-packages (from tensorflow-gpu==1.13.1) (1.13.1)\n",
            "Requirement already satisfied: tensorflow-estimator<1.14.0rc0,>=1.13.0 in /usr/local/lib/python3.6/dist-packages (from tensorflow-gpu==1.13.1) (1.13.0)\n",
            "Requirement already satisfied: wheel>=0.26 in /usr/local/lib/python3.6/dist-packages (from tensorflow-gpu==1.13.1) (0.35.1)\n",
            "Requirement already satisfied: keras-preprocessing>=1.0.5 in /usr/local/lib/python3.6/dist-packages (from tensorflow-gpu==1.13.1) (1.1.2)\n",
            "Requirement already satisfied: six>=1.10.0 in /usr/local/lib/python3.6/dist-packages (from tensorflow-gpu==1.13.1) (1.15.0)\n",
            "Requirement already satisfied: protobuf>=3.6.1 in /usr/local/lib/python3.6/dist-packages (from tensorflow-gpu==1.13.1) (3.12.4)\n",
            "Requirement already satisfied: numpy>=1.13.3 in /usr/local/lib/python3.6/dist-packages (from tensorflow-gpu==1.13.1) (1.18.5)\n",
            "Requirement already satisfied: h5py in /usr/local/lib/python3.6/dist-packages (from keras-applications>=1.0.6->tensorflow-gpu==1.13.1) (2.10.0)\n",
            "Requirement already satisfied: werkzeug>=0.11.15 in /usr/local/lib/python3.6/dist-packages (from tensorboard<1.14.0,>=1.13.0->tensorflow-gpu==1.13.1) (1.0.1)\n",
            "Requirement already satisfied: markdown>=2.6.8 in /usr/local/lib/python3.6/dist-packages (from tensorboard<1.14.0,>=1.13.0->tensorflow-gpu==1.13.1) (3.2.2)\n",
            "Requirement already satisfied: mock>=2.0.0 in /usr/local/lib/python3.6/dist-packages (from tensorflow-estimator<1.14.0rc0,>=1.13.0->tensorflow-gpu==1.13.1) (4.0.2)\n",
            "Requirement already satisfied: setuptools in /usr/local/lib/python3.6/dist-packages (from protobuf>=3.6.1->tensorflow-gpu==1.13.1) (49.6.0)\n",
            "Requirement already satisfied: importlib-metadata; python_version < \"3.8\" in /usr/local/lib/python3.6/dist-packages (from markdown>=2.6.8->tensorboard<1.14.0,>=1.13.0->tensorflow-gpu==1.13.1) (1.7.0)\n",
            "Requirement already satisfied: zipp>=0.5 in /usr/local/lib/python3.6/dist-packages (from importlib-metadata; python_version < \"3.8\"->markdown>=2.6.8->tensorboard<1.14.0,>=1.13.0->tensorflow-gpu==1.13.1) (3.1.0)\n",
            "Collecting keras==2.2.4\n",
            "  Using cached https://files.pythonhosted.org/packages/5e/10/aa32dad071ce52b5502266b5c659451cfd6ffcbf14e6c8c4f16c0ff5aaab/Keras-2.2.4-py2.py3-none-any.whl\n",
            "Requirement already satisfied: numpy>=1.9.1 in /usr/local/lib/python3.6/dist-packages (from keras==2.2.4) (1.18.5)\n",
            "Requirement already satisfied: scipy>=0.14 in /usr/local/lib/python3.6/dist-packages (from keras==2.2.4) (1.4.1)\n",
            "Requirement already satisfied: keras-applications>=1.0.6 in /usr/local/lib/python3.6/dist-packages (from keras==2.2.4) (1.0.8)\n",
            "Requirement already satisfied: keras-preprocessing>=1.0.5 in /usr/local/lib/python3.6/dist-packages (from keras==2.2.4) (1.1.2)\n",
            "Requirement already satisfied: six>=1.9.0 in /usr/local/lib/python3.6/dist-packages (from keras==2.2.4) (1.15.0)\n",
            "Requirement already satisfied: pyyaml in /usr/local/lib/python3.6/dist-packages (from keras==2.2.4) (3.13)\n",
            "Requirement already satisfied: h5py in /usr/local/lib/python3.6/dist-packages (from keras==2.2.4) (2.10.0)\n",
            "\u001b[31mERROR: fancyimpute 0.4.3 requires tensorflow, which is not installed.\u001b[0m\n",
            "Installing collected packages: keras\n",
            "Successfully installed keras-2.2.4\n",
            "Starting virtual X frame buffer: Xvfb.\n"
          ],
          "name": "stdout"
        }
      ]
    },
    {
      "cell_type": "markdown",
      "metadata": {
        "id": "WQAUCblQ_75N",
        "colab_type": "text"
      },
      "source": [
        "### Let's make a TRPO!\n",
        "\n",
        "In this notebook we will write the code of the one Trust Region Policy Optimization.\n",
        "As usually, it contains a few different parts which we are going to reproduce.\n",
        "\n"
      ]
    },
    {
      "cell_type": "code",
      "metadata": {
        "id": "xzsdr5_8_75O",
        "colab_type": "code",
        "colab": {
          "base_uri": "https://localhost:8080/",
          "height": 255
        },
        "outputId": "e968d6a2-f98e-4082-c428-485d964554cf"
      },
      "source": [
        "import numpy as np\n",
        "import tensorflow as tf\n",
        "from keras.layers import Dense"
      ],
      "execution_count": 2,
      "outputs": [
        {
          "output_type": "stream",
          "text": [
            "/usr/local/lib/python3.6/dist-packages/tensorflow/python/framework/dtypes.py:526: FutureWarning: Passing (type, 1) or '1type' as a synonym of type is deprecated; in a future version of numpy, it will be understood as (type, (1,)) / '(1,)type'.\n",
            "  _np_qint8 = np.dtype([(\"qint8\", np.int8, 1)])\n",
            "/usr/local/lib/python3.6/dist-packages/tensorflow/python/framework/dtypes.py:527: FutureWarning: Passing (type, 1) or '1type' as a synonym of type is deprecated; in a future version of numpy, it will be understood as (type, (1,)) / '(1,)type'.\n",
            "  _np_quint8 = np.dtype([(\"quint8\", np.uint8, 1)])\n",
            "/usr/local/lib/python3.6/dist-packages/tensorflow/python/framework/dtypes.py:528: FutureWarning: Passing (type, 1) or '1type' as a synonym of type is deprecated; in a future version of numpy, it will be understood as (type, (1,)) / '(1,)type'.\n",
            "  _np_qint16 = np.dtype([(\"qint16\", np.int16, 1)])\n",
            "/usr/local/lib/python3.6/dist-packages/tensorflow/python/framework/dtypes.py:529: FutureWarning: Passing (type, 1) or '1type' as a synonym of type is deprecated; in a future version of numpy, it will be understood as (type, (1,)) / '(1,)type'.\n",
            "  _np_quint16 = np.dtype([(\"quint16\", np.uint16, 1)])\n",
            "/usr/local/lib/python3.6/dist-packages/tensorflow/python/framework/dtypes.py:530: FutureWarning: Passing (type, 1) or '1type' as a synonym of type is deprecated; in a future version of numpy, it will be understood as (type, (1,)) / '(1,)type'.\n",
            "  _np_qint32 = np.dtype([(\"qint32\", np.int32, 1)])\n",
            "/usr/local/lib/python3.6/dist-packages/tensorflow/python/framework/dtypes.py:535: FutureWarning: Passing (type, 1) or '1type' as a synonym of type is deprecated; in a future version of numpy, it will be understood as (type, (1,)) / '(1,)type'.\n",
            "  np_resource = np.dtype([(\"resource\", np.ubyte, 1)])\n",
            "Using TensorFlow backend.\n"
          ],
          "name": "stderr"
        }
      ]
    },
    {
      "cell_type": "code",
      "metadata": {
        "id": "iHzq9yG7_75R",
        "colab_type": "code",
        "colab": {
          "base_uri": "https://localhost:8080/",
          "height": 50
        },
        "outputId": "88ea49b9-7729-461c-ac7a-c9f3c0acb379"
      },
      "source": [
        "import gym\n",
        "\n",
        "env = gym.make(\"Acrobot-v1\")\n",
        "env.reset()\n",
        "\n",
        "observation_shape = env.observation_space.shape\n",
        "n_actions = env.action_space.n\n",
        "\n",
        "print(\"Observation Space\", env.observation_space)\n",
        "print(\"Action Space\", env.action_space)"
      ],
      "execution_count": 3,
      "outputs": [
        {
          "output_type": "stream",
          "text": [
            "Observation Space Box(6,)\n",
            "Action Space Discrete(3)\n"
          ],
          "name": "stdout"
        }
      ]
    },
    {
      "cell_type": "code",
      "metadata": {
        "id": "2AS5Om-4_75T",
        "colab_type": "code",
        "colab": {
          "base_uri": "https://localhost:8080/",
          "height": 286
        },
        "outputId": "e7baf035-2957-42f6-ea5a-261a39f042a6"
      },
      "source": [
        "import matplotlib.pyplot as plt\n",
        "%matplotlib inline\n",
        "\n",
        "plt.imshow(env.render('rgb_array'))"
      ],
      "execution_count": 4,
      "outputs": [
        {
          "output_type": "execute_result",
          "data": {
            "text/plain": [
              "<matplotlib.image.AxesImage at 0x7f67bf4dba90>"
            ]
          },
          "metadata": {
            "tags": []
          },
          "execution_count": 4
        },
        {
          "output_type": "display_data",
          "data": {
            "image/png": "[encoded data removed]",
            "text/plain": [
              "<Figure size 432x288 with 1 Axes>"
            ]
          },
          "metadata": {
            "tags": [],
            "needs_background": "light"
          }
        }
      ]
    },
    {
      "cell_type": "markdown",
      "metadata": {
        "id": "rgvVN9_z_75W",
        "colab_type": "text"
      },
      "source": [
        "### Step 1: Defining a network\n",
        "\n",
        "With all it's complexity, at it's core TRPO is yet another policy gradient method. \n",
        "\n",
        "This essentially means we're actually training a stochastic policy $ \\pi_\\theta(a|s) $. \n",
        "\n",
        "And yes, it's gonna be a neural network. So let's start by defining one."
      ]
    },
    {
      "cell_type": "code",
      "metadata": {
        "id": "J0sJTpTj_75X",
        "colab_type": "code",
        "colab": {}
      },
      "source": [
        "tf.reset_default_graph()\n",
        "\n",
        "# input tensors\n",
        "observations_ph = tf.placeholder(shape=(None, observation_shape[0]), \n",
        "                                 dtype=tf.float32)\n",
        "# Actions that we made\n",
        "actions_ph = tf.placeholder(shape=(None,), dtype=tf.int32)\n",
        "\n",
        "# \"G = r + gamma*r' + gamma^2*r'' + ...\"\n",
        "cummulative_returns_ph = tf.placeholder(shape=(None,), dtype=tf.float32)\n",
        "\n",
        "# Action probabilities from previous iteration\n",
        "old_probs_ph = tf.placeholder(shape=(None, n_actions), dtype=tf.float32)\n",
        "\n",
        "all_inputs = [observations_ph, actions_ph,\n",
        "              cummulative_returns_ph, old_probs_ph]"
      ],
      "execution_count": 5,
      "outputs": []
    },
    {
      "cell_type": "code",
      "metadata": {
        "id": "VOPs8OEn_75a",
        "colab_type": "code",
        "colab": {
          "base_uri": "https://localhost:8080/",
          "height": 87
        },
        "outputId": "286d7422-7ba0-459c-fae9-32560d5bf2ad"
      },
      "source": [
        "def denselayer(name, x, out_dim, nonlinearity=None):\n",
        "    with tf.variable_scope(name):\n",
        "        if nonlinearity is None:\n",
        "            nonlinearity = tf.identity\n",
        "\n",
        "        W = tf.get_variable('W', shape=[x.shape[1], out_dim])\n",
        "        b = tf.get_variable('b', shape=[out_dim], \n",
        "                            initializer=tf.constant_initializer(0))\n",
        "        o = nonlinearity(tf.matmul(x, W) + b)\n",
        "\n",
        "        return o\n",
        "\n",
        "sess = tf.InteractiveSession()\n",
        "\n",
        "nn = observations_ph\n",
        "nn = denselayer(\"layer_1\", nn, 64, tf.nn.relu)\n",
        "nn = denselayer(\"layer_2\", nn, n_actions, None)\n",
        "\n",
        "policy_log   = tf.nn.log_softmax(nn)\n",
        "policy_probs = tf.exp(policy_log)\n",
        "\n",
        "train_vars = tf.trainable_variables()\n",
        "sess.run(tf.global_variables_initializer())"
      ],
      "execution_count": 6,
      "outputs": [
        {
          "output_type": "stream",
          "text": [
            "WARNING:tensorflow:From /usr/local/lib/python3.6/dist-packages/tensorflow/python/framework/op_def_library.py:263: colocate_with (from tensorflow.python.framework.ops) is deprecated and will be removed in a future version.\n",
            "Instructions for updating:\n",
            "Colocations handled automatically by placer.\n"
          ],
          "name": "stdout"
        }
      ]
    },
    {
      "cell_type": "markdown",
      "metadata": {
        "id": "ljE2-68L_75f",
        "colab_type": "text"
      },
      "source": [
        "### Step 2: Actions and rollouts\n",
        "\n",
        "In this section, we'll define functions that take actions $ a \\sim \\pi_\\theta(a|s) $ and rollouts $ \\langle s_0,a_0,s_1,a_1,s_2,a_2,...s_n,a_n \\rangle $."
      ]
    },
    {
      "cell_type": "code",
      "metadata": {
        "id": "2TaUC34w_75f",
        "colab_type": "code",
        "colab": {}
      },
      "source": [
        "# compile function\n",
        "\n",
        "def act(obs, sample=True):\n",
        "    \"\"\"\n",
        "    Samples action from policy distribution (sample = True) or takes most likely action (sample = False)\n",
        "    :param: obs - single observation vector\n",
        "    :param sample: if True, samples from \\pi, otherwise takes most likely action\n",
        "    :returns: action (single integer) and probabilities for all actions\n",
        "    \"\"\"\n",
        "    # obs.reshape((1, -1)) makes batch first: [[obs]]\n",
        "    feed_dict = {observations_ph: obs.reshape((1, -1))}\n",
        "\n",
        "    probs = sess.run(policy_probs, feed_dict = feed_dict)[0]\n",
        "\n",
        "    if sample:\n",
        "        action = int(np.random.choice(n_actions, p=probs))\n",
        "    else:\n",
        "        action = int(np.argmax(probs))\n",
        "\n",
        "    return action, probs"
      ],
      "execution_count": 7,
      "outputs": []
    },
    {
      "cell_type": "code",
      "metadata": {
        "id": "s4WJ6clb_75l",
        "colab_type": "code",
        "colab": {
          "base_uri": "https://localhost:8080/",
          "height": 202
        },
        "outputId": "3406ac9a-dbba-48aa-b673-2b1394d8eb30"
      },
      "source": [
        "# demo\n",
        "print(\"obs:\", env.reset())\n",
        "print()\n",
        "for _ in range(3):\n",
        "    print(\"sampled:\", act(env.reset()))\n",
        "    print(\"greedy:\", act(env.reset(), sample=False))\n",
        "    print()"
      ],
      "execution_count": 8,
      "outputs": [
        {
          "output_type": "stream",
          "text": [
            "obs: [ 0.99998287 -0.00585393  0.99647508 -0.08388926  0.04861228  0.04570049]\n",
            "\n",
            "sampled: (1, array([0.32436314, 0.36819744, 0.30743948], dtype=float32))\n",
            "greedy: (1, array([0.32662597, 0.372049  , 0.3013251 ], dtype=float32))\n",
            "\n",
            "sampled: (1, array([0.32228336, 0.37919542, 0.2985212 ], dtype=float32))\n",
            "greedy: (1, array([0.3224881 , 0.37724066, 0.3002713 ], dtype=float32))\n",
            "\n",
            "sampled: (1, array([0.3215596 , 0.37672904, 0.30171138], dtype=float32))\n",
            "greedy: (1, array([0.318887  , 0.379241  , 0.30187193], dtype=float32))\n",
            "\n"
          ],
          "name": "stdout"
        }
      ]
    },
    {
      "cell_type": "markdown",
      "metadata": {
        "id": "PX7Wf5kj_75o",
        "colab_type": "text"
      },
      "source": [
        "Compute cummulative reward just like you did in vanilla REINFORCE"
      ]
    },
    {
      "cell_type": "code",
      "metadata": {
        "id": "LLl7xwjJ_75o",
        "colab_type": "code",
        "colab": {}
      },
      "source": [
        "import scipy.signal\n",
        "\n",
        "\n",
        "def get_cummulative_returns(r, gamma=1):\n",
        "    \"\"\"\n",
        "    Computes cummulative discounted rewards given immediate rewards\n",
        "    G_i = r_i + gamma*r_{i+1} + gamma^2*r_{i+2} + ...\n",
        "    Also known as R(s,a).\n",
        "    \"\"\"\n",
        "    r = np.array(r)\n",
        "    assert r.ndim >= 1\n",
        "    return scipy.signal.lfilter([1], [1, -gamma], r[::-1], axis=0)[::-1]"
      ],
      "execution_count": 9,
      "outputs": []
    },
    {
      "cell_type": "code",
      "metadata": {
        "id": "8NJY0SK8_75s",
        "colab_type": "code",
        "colab": {
          "base_uri": "https://localhost:8080/",
          "height": 34
        },
        "outputId": "681c0339-86a1-4943-bf13-bf4175f61c0b"
      },
      "source": [
        "# simple demo on rewards [0,0,1,0,0,1]\n",
        "print( get_cummulative_returns([0, 0, 1, 0, 0, 1], gamma=0.9) )"
      ],
      "execution_count": 10,
      "outputs": [
        {
          "output_type": "stream",
          "text": [
            "[1.40049 1.5561  1.729   0.81    0.9     1.     ]\n"
          ],
          "name": "stdout"
        }
      ]
    },
    {
      "cell_type": "markdown",
      "metadata": {
        "id": "eDLeSmTX_75w",
        "colab_type": "text"
      },
      "source": [
        "**Rollout**"
      ]
    },
    {
      "cell_type": "code",
      "metadata": {
        "id": "0UFon-4g_75x",
        "colab_type": "code",
        "colab": {}
      },
      "source": [
        "# A valid path in a rollout must either:\n",
        "# end up in a \"done\" state or\n",
        "# exceed the allowed steps\n",
        "# NOTE: We might end up with a single path that exceeds steps limit !\n",
        "\n",
        "def rollout(env, act, max_pathlength=2500, n_timesteps=50000):\n",
        "    \"\"\"\n",
        "    Generate rollouts for training.\n",
        "    :param: env - environment in which we will make actions to generate rollouts.\n",
        "    :param: act - the function that can return policy and action given observation.\n",
        "    :param: max_pathlength - maximum size of one path that we generate.\n",
        "    :param: n_timesteps - total sum of sizes of all pathes we generate.\n",
        "    \"\"\"\n",
        "    paths = []\n",
        "\n",
        "    total_timesteps = 0\n",
        "\n",
        "    while total_timesteps < n_timesteps:\n",
        "        obervations, actions, rewards, action_probs = [], [], [], []\n",
        "        obervation = env.reset()\n",
        "        \n",
        "        for _ in range(max_pathlength):\n",
        "            action, policy_prob = act(obervation)\n",
        "\n",
        "            obervations.append(obervation)\n",
        "            actions.append(action)\n",
        "            action_probs.append(policy_prob)\n",
        "\n",
        "            obervation, reward, done, _ = env.step(action)\n",
        "            rewards.append(reward)\n",
        "            total_timesteps += 1\n",
        "\n",
        "            if done or total_timesteps == n_timesteps:\n",
        "                path = {\"observations\": np.array(obervations),\n",
        "                        \"policy\":  np.array(action_probs),\n",
        "                        \"actions\": np.array(actions),\n",
        "                        \"rewards\": np.array(rewards),\n",
        "                        \"cumulative_returns\": get_cummulative_returns(rewards),\n",
        "                        }\n",
        "                paths.append(path)\n",
        "                break\n",
        "    # outputs List of Dictionaries (feed to nn)\n",
        "    return paths"
      ],
      "execution_count": 11,
      "outputs": []
    },
    {
      "cell_type": "code",
      "metadata": {
        "id": "VtubLIHvZmLs",
        "colab_type": "code",
        "colab": {}
      },
      "source": [
        "paths = rollout(env, act, max_pathlength=5, n_timesteps=100)"
      ],
      "execution_count": 12,
      "outputs": []
    },
    {
      "cell_type": "code",
      "metadata": {
        "id": "aW-3i3_3ZrkE",
        "colab_type": "code",
        "colab": {
          "base_uri": "https://localhost:8080/",
          "height": 118
        },
        "outputId": "a5ab91d2-e3d7-4f08-cf31-fb9ab89bb27a"
      },
      "source": [
        "print(len(paths))\n",
        "for path in paths:\n",
        "    for k,v in path.items():\n",
        "        print(k, len(v))"
      ],
      "execution_count": 13,
      "outputs": [
        {
          "output_type": "stream",
          "text": [
            "1\n",
            "observations 5\n",
            "policy 5\n",
            "actions 5\n",
            "rewards 5\n",
            "cumulative_returns 5\n"
          ],
          "name": "stdout"
        }
      ]
    },
    {
      "cell_type": "code",
      "metadata": {
        "id": "EQCZi6kQ_754",
        "colab_type": "code",
        "colab": {
          "base_uri": "https://localhost:8080/",
          "height": 289
        },
        "outputId": "6abc2e96-2b54-467b-8941-4cc18a4738ab"
      },
      "source": [
        "print(paths[-1])\n",
        "assert (paths[0]['policy'].shape == (5, n_actions))\n",
        "assert (paths[0]['cumulative_returns'].shape == (5,))\n",
        "assert (paths[0]['rewards'].shape == (5,))\n",
        "assert (paths[0]['observations'].shape == (5,)+observation_shape)\n",
        "assert (paths[0]['actions'].shape == (5,))\n",
        "print('It\\'s ok')"
      ],
      "execution_count": 14,
      "outputs": [
        {
          "output_type": "stream",
          "text": [
            "{'observations': array([[ 9.99032365e-01, -4.39810674e-02,  9.99637033e-01,\n",
            "         2.69407149e-02, -8.04248328e-04, -4.12534986e-02],\n",
            "       [ 9.99684933e-01, -2.51004743e-02,  9.99755158e-01,\n",
            "        -2.21274721e-02,  1.84102298e-01, -4.37605570e-01],\n",
            "       [ 9.99999514e-01, -9.85553623e-04,  9.97469472e-01,\n",
            "        -7.10960842e-02,  5.09352790e-02, -4.10472758e-02],\n",
            "       [ 9.99971553e-01,  7.54277962e-03,  9.97443203e-01,\n",
            "        -7.14636775e-02,  3.26411267e-02,  3.86638302e-02],\n",
            "       [ 9.99690779e-01,  2.48665604e-02,  9.95948132e-01,\n",
            "        -8.99295140e-02,  1.36361444e-01, -2.17721481e-01]]), 'policy': array([[0.3251656 , 0.37192243, 0.30291203],\n",
            "       [0.31820112, 0.3782693 , 0.30352965],\n",
            "       [0.31868666, 0.38062733, 0.3006859 ],\n",
            "       [0.3191325 , 0.37969652, 0.30117097],\n",
            "       [0.31727263, 0.38254473, 0.30018255]], dtype=float32), 'actions': array([0, 2, 1, 0, 0]), 'rewards': array([-1., -1., -1., -1., -1.]), 'cumulative_returns': array([-5., -4., -3., -2., -1.])}\n",
            "It's ok\n"
          ],
          "name": "stdout"
        }
      ]
    },
    {
      "cell_type": "markdown",
      "metadata": {
        "id": "auf2Au2__758",
        "colab_type": "text"
      },
      "source": [
        "### Step 3: loss functions\n",
        "\n",
        "Now let's define the loss functions and constraints for actual TRPO training."
      ]
    },
    {
      "cell_type": "markdown",
      "metadata": {
        "id": "5EkGpySi_759",
        "colab_type": "text"
      },
      "source": [
        "The surrogate reward should be\n",
        "$$J_{surr}= {1 \\over N} \\sum\\limits_{i=0}^N \\frac{\\pi_{\\theta}(s_i, a_i)}{\\pi_{\\theta_{old}}(s_i, a_i)}A_{\\theta_{old}(s_i, a_i)}$$\n",
        "\n",
        "For simplicity, let's use cummulative returns instead of advantage for now:\n",
        "$$J'_{surr}= {1 \\over N} \\sum\\limits_{i=0}^N \\frac{\\pi_{\\theta}(s_i, a_i)}{\\pi_{\\theta_{old}}(s_i, a_i)}G_{\\theta_{old}(s_i, a_i)}$$\n",
        "\n",
        "Or alternatively, minimize the surrogate loss:\n",
        "$$ L_{surr} = - J'_{surr} $$"
      ]
    },
    {
      "cell_type": "code",
      "metadata": {
        "id": "t0o3pphY_75-",
        "colab_type": "code",
        "colab": {}
      },
      "source": [
        "# select probabilities of chosen actions\n",
        "batch_size = tf.shape(policy_probs)[0]\n",
        "\n",
        "probs_all = tf.reshape(policy_probs, [-1])\n",
        "probs_for_actions = tf.gather(probs_all, \n",
        "                              tf.range(0, batch_size) * n_actions + actions_ph)\n",
        "\n",
        "old_probs_all = tf.reshape(old_probs_ph, [-1])\n",
        "old_probs_for_actions = tf.gather(old_probs_all, \n",
        "                                  tf.range(0, batch_size) * n_actions + actions_ph)"
      ],
      "execution_count": 15,
      "outputs": []
    },
    {
      "cell_type": "code",
      "metadata": {
        "id": "hGzd6WwT_76B",
        "colab_type": "code",
        "colab": {}
      },
      "source": [
        "# Compute surrogate loss: negative importance-sampled policy gradient\n",
        "#L_surr = <YOUR CODE: compute surrogate loss, aka _negative_ importance-sampled policy gradient>\n",
        "\n",
        "L_surr = - tf.reduce_mean(cummulative_returns_ph * (probs_for_actions / old_probs_for_actions))"
      ],
      "execution_count": 16,
      "outputs": []
    },
    {
      "cell_type": "code",
      "metadata": {
        "id": "jN1cdJZp_76D",
        "colab_type": "code",
        "colab": {
          "base_uri": "https://localhost:8080/",
          "height": 121
        },
        "outputId": "63fed93f-e8ce-4eca-94fb-68db47f64cf9"
      },
      "source": [
        "# compute and return surrogate policy gradient\n",
        "def var_shape(x):\n",
        "    res = [k.value for k in x.shape]\n",
        "    return res\n",
        "\n",
        "\n",
        "def numel(x):\n",
        "    return np.prod(var_shape(x))\n",
        "\n",
        "\n",
        "def flatgrad(loss, var_list):\n",
        "    grads = tf.gradients(loss, var_list)\n",
        "\n",
        "    grads_reshape = [tf.reshape(grad, [numel(v)])\n",
        "                     for (v, grad) in zip(var_list, grads)]\n",
        "\n",
        "    return tf.concat(grads_reshape, axis=0)\n",
        "\n",
        "flat_grad_L_surr = flatgrad(L_surr, train_vars)"
      ],
      "execution_count": 17,
      "outputs": [
        {
          "output_type": "stream",
          "text": [
            "WARNING:tensorflow:From /usr/local/lib/python3.6/dist-packages/tensorflow/python/ops/array_grad.py:425: to_int32 (from tensorflow.python.ops.math_ops) is deprecated and will be removed in a future version.\n",
            "Instructions for updating:\n",
            "Use tf.cast instead.\n"
          ],
          "name": "stdout"
        },
        {
          "output_type": "stream",
          "text": [
            "/usr/local/lib/python3.6/dist-packages/tensorflow/python/ops/gradients_impl.py:110: UserWarning: Converting sparse IndexedSlices to a dense Tensor of unknown shape. This may consume a large amount of memory.\n",
            "  \"Converting sparse IndexedSlices to a dense Tensor of unknown shape. \"\n"
          ],
          "name": "stderr"
        }
      ]
    },
    {
      "cell_type": "code",
      "metadata": {
        "id": "1p4yI2non7J_",
        "colab_type": "code",
        "colab": {
          "base_uri": "https://localhost:8080/",
          "height": 34
        },
        "outputId": "c19991d3-04cf-4751-cb0b-e6766c97c26d"
      },
      "source": [
        "print(flat_grad_L_surr)"
      ],
      "execution_count": 18,
      "outputs": [
        {
          "output_type": "stream",
          "text": [
            "Tensor(\"concat:0\", shape=(643,), dtype=float32)\n"
          ],
          "name": "stdout"
        }
      ]
    },
    {
      "cell_type": "markdown",
      "metadata": {
        "id": "Imv9XYia_76F",
        "colab_type": "text"
      },
      "source": [
        "We can ascend these gradients as long as our $\\pi_\\theta(a|s)$ satisfies the constraint\n",
        "$$E_{s,\\pi_{\\Theta_{t}}}\\Big[KL(\\pi(\\Theta_{t}, s) \\:||\\:\\pi(\\Theta_{t+1}, s))\\Big] < \\alpha$$\n",
        "\n",
        "\n",
        "where\n",
        "\n",
        "$$KL(p||q) = E _p \\log\\left(\\frac{p}{q}\\right)$$"
      ]
    },
    {
      "cell_type": "code",
      "metadata": {
        "id": "YvAuUZZU_76G",
        "colab_type": "code",
        "colab": {}
      },
      "source": [
        "#all_inputs = [observations_ph, actions_ph,\n",
        "#              cummulative_returns_ph, old_probs_ph]\n",
        "# policy_log   = tf.nn.log_softmax(nn)\n",
        "# policy_probs = tf.exp(policy_log)\n",
        "\n",
        "# Compute Kullback-Leibler divergence (see formula above)\n",
        "# Note: you need to sum KL and entropy over all actions, not just the ones agent took\n",
        "old_log_probs = tf.log(old_probs_ph + 1e-10)\n",
        "new_log_probs = tf.log(policy_probs + 1e-10)\n",
        "\n",
        "b_size = tf.dtypes.cast(batch_size, tf.float32)\n",
        "\n",
        "#kl = <YOUR CODE: compute Kullback-Leibler as per formula above>\n",
        "kl = tf.reduce_sum(old_probs_ph * (old_log_probs - new_log_probs)) / b_size\n",
        "\n",
        "# Compute policy entropy\n",
        "#entropy = <YOUR CODE: compute policy entropy. Don't forget the sign!>\n",
        "entropy = - tf.reduce_sum(policy_probs * new_log_probs) / b_size\n",
        "\n",
        "# No variable depends on the following losses\n",
        "# Used only for progress tracking\n",
        "losses = [L_surr, kl, entropy]"
      ],
      "execution_count": 19,
      "outputs": []
    },
    {
      "cell_type": "markdown",
      "metadata": {
        "id": "2d3IDLfp_76K",
        "colab_type": "text"
      },
      "source": [
        "**Linear search**\n",
        "\n",
        "TRPO in its core involves ascending surrogate policy gradient constrained by KL divergence. \n",
        "\n",
        "In order to enforce this constraint, we're gonna use linesearch. You can find out more about it [here](https://en.wikipedia.org/wiki/Linear_search)"
      ]
    },
    {
      "cell_type": "code",
      "metadata": {
        "id": "kaMmk1QR_76L",
        "colab_type": "code",
        "colab": {}
      },
      "source": [
        "def linesearch(f, x, fullstep, max_kl):\n",
        "    \"\"\"\n",
        "    Linesearch finds the best parameters of neural networks \n",
        "    in the direction of fullstep contrainted by KL divergence.\n",
        "    :param: f - function that returns loss, kl and arbitrary third component.\n",
        "    :param: x - old parameters of neural network.\n",
        "    :param: fullstep - direction in which we make search.\n",
        "    :param: max_kl - constraint of KL divergence.\n",
        "    :returns:\n",
        "    \"\"\"\n",
        "    max_backtracks = 10\n",
        "    loss, _, _ = f(x)\n",
        "\n",
        "    for stepfrac in .5**np.arange(max_backtracks):\n",
        "        xnew = x + stepfrac * fullstep\n",
        "        new_loss, kl, _ = f(xnew)\n",
        "\n",
        "        actual_improve = new_loss - loss\n",
        "        if kl <= max_kl and actual_improve < 0:\n",
        "            x = xnew\n",
        "            loss = new_loss\n",
        "    return x"
      ],
      "execution_count": 20,
      "outputs": []
    },
    {
      "cell_type": "markdown",
      "metadata": {
        "id": "LRRJZEk5_76O",
        "colab_type": "text"
      },
      "source": [
        "### Step 4: training\n",
        "In this section we construct rest parts of our computational graph"
      ]
    },
    {
      "cell_type": "code",
      "metadata": {
        "id": "No9-oU7O_76O",
        "colab_type": "code",
        "colab": {}
      },
      "source": [
        "def slice_vector(vector, shapes):\n",
        "    \"\"\"\n",
        "    Slices symbolic vector into several symbolic tensors of given shapes.\n",
        "    Auxilary function used to un-flatten gradients, tangents etc.\n",
        "    :param vector: 1-dimensional symbolic vector\n",
        "    :param shapes: list or tuple of shapes (list, tuple or symbolic)\n",
        "    :returns: list of symbolic tensors of given shapes\n",
        "    \"\"\"\n",
        "    assert len(vector.shape) == 1, \"vector must be 1-dimensional\"\n",
        "    start = 0\n",
        "    tensors = []\n",
        "    for shape in shapes:\n",
        "        size = np.prod(shape)\n",
        "        tensor = tf.reshape(vector[start:(start + size)], shape)\n",
        "        tensors.append(tensor)\n",
        "        start += size\n",
        "    return tensors"
      ],
      "execution_count": 21,
      "outputs": []
    },
    {
      "cell_type": "code",
      "metadata": {
        "id": "OYlSxZxT_76R",
        "colab_type": "code",
        "colab": {}
      },
      "source": [
        "# (intermediate grad in conjugate_gradient)\n",
        "# \n",
        "# intended usage: -flat_grad = -derivative(L_surr)\n",
        "# this is the vector b in calling ConjugateGradient(F, b)\n",
        "conjugate_grad_intermediate_vector = tf.placeholder(dtype=tf.float32, shape=(None,))\n",
        "\n",
        "# slice flat_tangent into chunks for each weight\n",
        "weight_shapes = [sess.run(var).shape for var in train_vars]\n",
        "tangents = slice_vector(conjugate_grad_intermediate_vector, weight_shapes)\n",
        "\n",
        "# KL divergence where first arg is fixed\n",
        "kl_firstfixed = tf.reduce_sum((tf.stop_gradient(policy_probs) *\\\n",
        "                              (tf.stop_gradient(tf.log(policy_probs)) - tf.log(policy_probs)))\\\n",
        "                             ) / tf.cast(batch_size, tf.float32)      # The Gradient Part\n",
        "\n",
        "# MAIN OBSERVATION\n",
        "# H(f)*v = \\nabla_x( [\\nabla_x f(x)]^T * v )\n",
        "\n",
        "# compute fisher information matrix (used for conjugate gradients and to estimate KL)\n",
        "gradients = tf.gradients(kl_firstfixed, train_vars)\n",
        "gradient_vector_product = [tf.reduce_sum(g[0] * t) \n",
        "                           for (g, t) in zip(gradients, tangents)]\n",
        "\n",
        "# flatgrad - computes the second gradient!\n",
        "fisher_vec_prod = flatgrad(gradient_vector_product, train_vars)\n",
        "\n",
        "# Benefit: The Hessian matrix is not stored"
      ],
      "execution_count": 22,
      "outputs": []
    },
    {
      "cell_type": "markdown",
      "metadata": {
        "id": "Ykbwt6fy_76U",
        "colab_type": "text"
      },
      "source": [
        "### TRPO helpers\n",
        "\n",
        "Here we define a few helper functions used in the main TRPO loop"
      ]
    },
    {
      "cell_type": "markdown",
      "metadata": {
        "id": "LDX_FDRL_76U",
        "colab_type": "text"
      },
      "source": [
        "**Conjugate gradients**\n",
        "\n",
        "Since TRPO includes contrainted optimization, we will need to solve Ax=b using conjugate gradients.\n",
        "\n",
        "In general, CG is an algorithm that solves Ax=b where A is positive-defined. A is Hessian matrix so A is positive-defined. You can find out more about them [here](https://en.wikipedia.org/wiki/Conjugate_gradient_method)"
      ]
    },
    {
      "cell_type": "code",
      "metadata": {
        "id": "4QTVWVc-_76V",
        "colab_type": "code",
        "colab": {}
      },
      "source": [
        "from numpy.linalg import inv\n",
        "\n",
        "def conjugate_gradient(f_Ax, b, cg_iters=10, residual_tol=1e-10):\n",
        "    \"\"\"\n",
        "    This method solves system of equation Ax=b using iterative method called conjugate gradients\n",
        "    :f_Ax: function that returns Ax\n",
        "    :b: targets for Ax\n",
        "    :cg_iters: how many iterations this method should do\n",
        "    :residual_tol: epsilon for stability\n",
        "    \"\"\"\n",
        "    eps = 1e-8\n",
        "\n",
        "    p = b.copy()\n",
        "    r = b.copy()\n",
        "    x = np.zeros_like(b)\n",
        "\n",
        "    rTr = r.dot(r)\n",
        "\n",
        "    for k in range(cg_iters):\n",
        "        Ap = f_Ax(p)\n",
        "        a_k = rTr / (p.dot(Ap) + eps)\n",
        "\n",
        "        x += a_k * p\n",
        "        r -= a_k * Ap\n",
        "\n",
        "        next_rTr = r.dot(r)\n",
        "        beta_k = next_rTr / (rTr + eps)\n",
        "\n",
        "        p = r + beta_k * p\n",
        "        rTr = next_rTr\n",
        "        \n",
        "        if rTr < residual_tol:\n",
        "            break\n",
        "    return x"
      ],
      "execution_count": 23,
      "outputs": []
    },
    {
      "cell_type": "code",
      "metadata": {
        "id": "8Gb0C56t_76X",
        "colab_type": "code",
        "colab": {
          "base_uri": "https://localhost:8080/",
          "height": 84
        },
        "outputId": "72c72112-e0ec-4b00-bd20-cb4bfb51174d"
      },
      "source": [
        "# This code validates conjugate gradients\n",
        "A = np.random.rand(8, 8)\n",
        "A = np.matmul(np.transpose(A), A)\n",
        "\n",
        "\n",
        "def f_Ax(x):\n",
        "    return np.matmul(A, x.reshape(-1, 1)).reshape(-1)\n",
        "\n",
        "\n",
        "b = np.random.rand(8)\n",
        "\n",
        "#(A^TA)^-1 A^T\n",
        "M = np.matmul(inv(np.matmul(np.transpose(A), A)), np.transpose(A))\n",
        "w = np.matmul(M, b.reshape((-1, 1))).reshape(-1)\n",
        "\n",
        "print(w)\n",
        "print(conjugate_gradient(f_Ax, b))"
      ],
      "execution_count": 24,
      "outputs": [
        {
          "output_type": "stream",
          "text": [
            "[ 15.22155329  -7.20700631  -2.82311559 -11.60322822   2.33306336\n",
            "  -0.26237446  -3.2815459   10.40317776]\n",
            "[ 15.22130995  -7.20719267  -2.82305386 -11.60313744   2.33292963\n",
            "  -0.26224021  -3.28137342  10.40321174]\n"
          ],
          "name": "stdout"
        }
      ]
    },
    {
      "cell_type": "code",
      "metadata": {
        "id": "YnbjqLQj_76a",
        "colab_type": "code",
        "colab": {}
      },
      "source": [
        "# Compile a function that exports network weights as a vector\n",
        "flat_weights = tf.concat([tf.reshape(var, [-1]) for var in train_vars], axis=0)\n",
        "\n",
        "# ... and another function that imports vector back into network weights\n",
        "flat_weights_placeholder = tf.placeholder(tf.float32, shape=(None,))\n",
        "assigns = slice_vector(flat_weights_placeholder, weight_shapes)\n",
        "\n",
        "load_flat_weights = [w.assign(ph) for w, ph in zip(train_vars, assigns)]"
      ],
      "execution_count": 25,
      "outputs": []
    },
    {
      "cell_type": "markdown",
      "metadata": {
        "id": "hrH9E9sk_76c",
        "colab_type": "text"
      },
      "source": [
        "##### Step 5: Main TRPO loop\n",
        "\n",
        "Here we will train our network!"
      ]
    },
    {
      "cell_type": "code",
      "metadata": {
        "id": "FgJmJFz1_76d",
        "colab_type": "code",
        "colab": {
          "base_uri": "https://localhost:8080/",
          "height": 1000
        },
        "outputId": "64172fa5-af1d-4791-cb6d-efa1ef01cb95"
      },
      "source": [
        "import time\n",
        "from itertools import count\n",
        "from collections import OrderedDict\n",
        "\n",
        "# this is hyperparameter of TRPO. It controls how big KL divergence may be between old and new policy every step.\n",
        "max_kl = 0.01\n",
        "cg_damping = 0.1  # This parameters regularize addition to\n",
        "num_epis_total = 0    # number of played episodes\n",
        "\n",
        "start_time = time.time()\n",
        "\n",
        "for i in count(1):\n",
        "\n",
        "    print(\"\\n********** Iteration %i ************\" % i)\n",
        "\n",
        "\n",
        "    # Generating paths.\n",
        "    print(\"Rollout\")\n",
        "    paths = rollout(env, act)\n",
        "    print(\"Made rollout\")\n",
        "\n",
        "\n",
        "    # Load feed_dict and old_weights\n",
        "    observations = np.concatenate([path[\"observations\"] for path in paths])\n",
        "    actions      = np.concatenate([path[\"actions\"] for path in paths])\n",
        "    returns      = np.concatenate([path[\"cumulative_returns\"] for path in paths])\n",
        "    old_probs    = np.concatenate([path[\"policy\"] for path in paths])\n",
        "\n",
        "    feed_dict = {observations_ph: observations,\n",
        "                 actions_ph: actions,\n",
        "                 old_probs_ph: old_probs,\n",
        "                 cummulative_returns_ph: returns,\n",
        "                }\n",
        "    old_weights = sess.run(flat_weights)\n",
        "\n",
        "\n",
        "    # Fisher Vector Product\n",
        "    def Fvp(p):\n",
        "        \"\"\"gets intermediate grads (p) and computes (Fisher * vector) \"\"\"\n",
        "        feed_dict[conjugate_grad_intermediate_vector] = p\n",
        "        return sess.run(fisher_vec_prod, feed_dict) + cg_damping * p\n",
        "\n",
        "    flat_grad = sess.run(flat_grad_L_surr, feed_dict)\n",
        "\n",
        "    step_dir = conjugate_gradient(Fvp, -flat_grad)\n",
        "    alpha    = np.sqrt( 2 * max_kl / np.sum( step_dir * Fvp(step_dir) ) )\n",
        "    fullstep = alpha * step_dir\n",
        "\n",
        "\n",
        "    # Compute new weights with linesearch in the direction we found with CG\n",
        "\n",
        "    def losses_f(flat_weights):\n",
        "        feed_dict[flat_weights_placeholder] = flat_weights\n",
        "        sess.run(load_flat_weights, feed_dict)\n",
        "        return sess.run(losses, feed_dict)\n",
        "\n",
        "    new_weights = linesearch(losses_f, old_weights, fullstep, max_kl)\n",
        "    feed_dict[flat_weights_placeholder] = new_weights\n",
        "    sess.run(load_flat_weights, feed_dict)\n",
        "\n",
        "\n",
        "    # Report current progress\n",
        "    L_surr, kl, entropy = sess.run(losses, feed_dict)\n",
        "    episode_rewards = np.array([path[\"rewards\"].sum() for path in paths])\n",
        "\n",
        "    stats = OrderedDict()\n",
        "    num_epis_total += len(episode_rewards)\n",
        "\n",
        "    stats[\"Total number of episodes\"] = num_epis_total\n",
        "    stats[\"Average sum of rewards per episode\"] = episode_rewards.mean()\n",
        "    stats[\"Std of rewards per episode\"] = episode_rewards.std()\n",
        "    stats[\"Entropy\"] = entropy\n",
        "    stats[\"Time elapsed\"] = \"%.2f mins\" % ((time.time() - start_time)/60.)\n",
        "    stats[\"KL between old and new distribution\"] = kl\n",
        "    stats[\"Surrogate loss\"] = L_surr\n",
        "\n",
        "    for k, v in stats.items():\n",
        "        print(k + \": \" + \" \" * (40 - len(k)) + str(v))\n",
        "\n",
        "    i += 1"
      ],
      "execution_count": null,
      "outputs": [
        {
          "output_type": "stream",
          "text": [
            "\n",
            "********** Iteration 1 ************\n",
            "Rollout\n",
            "Made rollout\n",
            "Total number of episodes:                 109\n",
            "Average sum of rewards per episode:       -458.348623853211\n",
            "Std of rewards per episode:               67.74363115693167\n",
            "Entropy:                                  1.049657\n",
            "Time elapsed:                             0.78 mins\n",
            "KL between old and new distribution:      0.008244746\n",
            "Surrogate loss:                           234.08035\n",
            "\n",
            "********** Iteration 2 ************\n",
            "Rollout\n",
            "Made rollout\n",
            "Total number of episodes:                 245\n",
            "Average sum of rewards per episode:       -366.8014705882353\n",
            "Std of rewards per episode:               85.91033457083417\n",
            "Entropy:                                  1.0018404\n",
            "Time elapsed:                             1.55 mins\n",
            "KL between old and new distribution:      0.009023059\n",
            "Surrogate loss:                           192.9896\n",
            "\n",
            "********** Iteration 3 ************\n",
            "Rollout\n",
            "Made rollout\n",
            "Total number of episodes:                 430\n",
            "Average sum of rewards per episode:       -269.2918918918919\n",
            "Std of rewards per episode:               74.4461437056142\n",
            "Entropy:                                  0.99471915\n",
            "Time elapsed:                             2.34 mins\n",
            "KL between old and new distribution:      -1.23721e-10\n",
            "Surrogate loss:                           144.90984\n",
            "\n",
            "********** Iteration 4 ************\n",
            "Rollout\n",
            "Made rollout\n",
            "Total number of episodes:                 617\n",
            "Average sum of rewards per episode:       -266.39572192513367\n",
            "Std of rewards per episode:               68.01449659009437\n",
            "Entropy:                                  0.94805586\n",
            "Time elapsed:                             3.11 mins\n",
            "KL between old and new distribution:      0.009976947\n",
            "Surrogate loss:                           141.5226\n",
            "\n",
            "********** Iteration 5 ************\n",
            "Rollout\n",
            "Made rollout\n",
            "Total number of episodes:                 857\n",
            "Average sum of rewards per episode:       -207.3375\n",
            "Std of rewards per episode:               45.25187208374183\n",
            "Entropy:                                  0.941035\n",
            "Time elapsed:                             3.89 mins\n",
            "KL between old and new distribution:      8.31234e-11\n",
            "Surrogate loss:                           108.58538\n",
            "\n",
            "********** Iteration 6 ************\n",
            "Rollout\n"
          ],
          "name": "stdout"
        },
        {
          "output_type": "stream",
          "text": [
            "/usr/local/lib/python3.6/dist-packages/ipykernel_launcher.py:46: RuntimeWarning: invalid value encountered in sqrt\n"
          ],
          "name": "stderr"
        },
        {
          "output_type": "stream",
          "text": [
            "Made rollout\n",
            "Total number of episodes:                 1088\n",
            "Average sum of rewards per episode:       -215.46320346320346\n",
            "Std of rewards per episode:               56.34100861783968\n",
            "Entropy:                                  0.88484687\n",
            "Time elapsed:                             4.65 mins\n",
            "KL between old and new distribution:      0.009976322\n",
            "Surrogate loss:                           114.95326\n",
            "\n",
            "********** Iteration 7 ************\n",
            "Rollout\n",
            "Made rollout\n",
            "Total number of episodes:                 1343\n",
            "Average sum of rewards per episode:       -195.08235294117648\n",
            "Std of rewards per episode:               46.239074834197226\n",
            "Entropy:                                  0.82918936\n",
            "Time elapsed:                             5.42 mins\n",
            "KL between old and new distribution:      0.009867148\n",
            "Surrogate loss:                           102.74554\n",
            "\n",
            "********** Iteration 8 ************\n",
            "Rollout\n",
            "Made rollout\n",
            "Total number of episodes:                 1637\n",
            "Average sum of rewards per episode:       -169.07142857142858\n",
            "Std of rewards per episode:               42.71203609301346\n",
            "Entropy:                                  0.7586083\n",
            "Time elapsed:                             6.19 mins\n",
            "KL between old and new distribution:      0.009787115\n",
            "Surrogate loss:                           89.74534\n",
            "\n",
            "********** Iteration 9 ************\n",
            "Rollout\n",
            "Made rollout\n",
            "Total number of episodes:                 1960\n",
            "Average sum of rewards per episode:       -153.80495356037153\n",
            "Std of rewards per episode:               40.831630126727646\n",
            "Entropy:                                  0.699742\n",
            "Time elapsed:                             6.96 mins\n",
            "KL between old and new distribution:      0.009965799\n",
            "Surrogate loss:                           82.166565\n",
            "\n",
            "********** Iteration 10 ************\n",
            "Rollout\n",
            "Made rollout\n",
            "Total number of episodes:                 2294\n",
            "Average sum of rewards per episode:       -148.70658682634732\n",
            "Std of rewards per episode:               38.73645196845907\n",
            "Entropy:                                  0.62915045\n",
            "Time elapsed:                             7.73 mins\n",
            "KL between old and new distribution:      0.009968561\n",
            "Surrogate loss:                           79.13372\n",
            "\n",
            "********** Iteration 11 ************\n",
            "Rollout\n",
            "Made rollout\n",
            "Total number of episodes:                 2655\n",
            "Average sum of rewards per episode:       -137.50692520775624\n",
            "Std of rewards per episode:               29.141560724501016\n",
            "Entropy:                                  0.609535\n",
            "Time elapsed:                             8.49 mins\n",
            "KL between old and new distribution:      0.009937549\n",
            "Surrogate loss:                           71.63238\n",
            "\n",
            "********** Iteration 12 ************\n",
            "Rollout\n",
            "Made rollout\n",
            "Total number of episodes:                 3033\n",
            "Average sum of rewards per episode:       -131.28306878306879\n",
            "Std of rewards per episode:               39.815869574174194\n",
            "Entropy:                                  0.546117\n",
            "Time elapsed:                             9.26 mins\n",
            "KL between old and new distribution:      0.00998049\n",
            "Surrogate loss:                           71.51818\n",
            "\n",
            "********** Iteration 13 ************\n",
            "Rollout\n",
            "Made rollout\n",
            "Total number of episodes:                 3413\n",
            "Average sum of rewards per episode:       -130.5842105263158\n",
            "Std of rewards per episode:               43.31968998234181\n",
            "Entropy:                                  0.5063383\n",
            "Time elapsed:                             10.03 mins\n",
            "KL between old and new distribution:      0.009976754\n",
            "Surrogate loss:                           72.308754\n",
            "\n",
            "********** Iteration 14 ************\n",
            "Rollout\n",
            "Made rollout\n",
            "Total number of episodes:                 3799\n",
            "Average sum of rewards per episode:       -128.53626943005182\n",
            "Std of rewards per episode:               24.802535817412696\n",
            "Entropy:                                  0.55976963\n",
            "Time elapsed:                             10.79 mins\n",
            "KL between old and new distribution:      0.009964002\n",
            "Surrogate loss:                           66.4838\n",
            "\n",
            "********** Iteration 15 ************\n",
            "Rollout\n",
            "Made rollout\n",
            "Total number of episodes:                 4161\n",
            "Average sum of rewards per episode:       -137.12707182320443\n",
            "Std of rewards per episode:               33.656542577582286\n",
            "Entropy:                                  0.5533068\n",
            "Time elapsed:                             11.55 mins\n",
            "KL between old and new distribution:      0.009973368\n",
            "Surrogate loss:                           72.52077\n",
            "\n",
            "********** Iteration 16 ************\n",
            "Rollout\n",
            "Made rollout\n",
            "Total number of episodes:                 4558\n",
            "Average sum of rewards per episode:       -124.9471032745592\n",
            "Std of rewards per episode:               28.80097120741927\n",
            "Entropy:                                  0.5349463\n",
            "Time elapsed:                             12.32 mins\n",
            "KL between old and new distribution:      0.009960072\n",
            "Surrogate loss:                           65.70462\n",
            "\n",
            "********** Iteration 17 ************\n",
            "Rollout\n",
            "Made rollout\n",
            "Total number of episodes:                 4983\n",
            "Average sum of rewards per episode:       -116.65176470588236\n",
            "Std of rewards per episode:               29.487323744139537\n",
            "Entropy:                                  0.5220601\n",
            "Time elapsed:                             13.09 mins\n",
            "KL between old and new distribution:      0.009834616\n",
            "Surrogate loss:                           61.927505\n",
            "\n",
            "********** Iteration 18 ************\n",
            "Rollout\n",
            "Made rollout\n",
            "Total number of episodes:                 5395\n",
            "Average sum of rewards per episode:       -120.36407766990291\n",
            "Std of rewards per episode:               33.671434565558755\n",
            "Entropy:                                  0.5008538\n",
            "Time elapsed:                             13.86 mins\n",
            "KL between old and new distribution:      0.009557698\n",
            "Surrogate loss:                           64.70752\n",
            "\n",
            "********** Iteration 19 ************\n",
            "Rollout\n",
            "Made rollout\n",
            "Total number of episodes:                 5820\n",
            "Average sum of rewards per episode:       -116.64941176470589\n",
            "Std of rewards per episode:               24.28588369223576\n",
            "Entropy:                                  0.5038595\n",
            "Time elapsed:                             14.63 mins\n",
            "KL between old and new distribution:      5.5517858e-11\n",
            "Surrogate loss:                           60.83254\n",
            "\n",
            "********** Iteration 20 ************\n",
            "Rollout\n",
            "Made rollout\n",
            "Total number of episodes:                 6240\n",
            "Average sum of rewards per episode:       -118.05\n",
            "Std of rewards per episode:               29.01337745641778\n",
            "Entropy:                                  0.50125116\n",
            "Time elapsed:                             15.39 mins\n",
            "KL between old and new distribution:      4.3463906e-11\n",
            "Surrogate loss:                           62.56164\n",
            "\n",
            "********** Iteration 21 ************\n",
            "Rollout\n",
            "Made rollout\n",
            "Total number of episodes:                 6661\n",
            "Average sum of rewards per episode:       -117.76722090261282\n",
            "Std of rewards per episode:               32.73477915590514\n",
            "Entropy:                                  0.5026868\n",
            "Time elapsed:                             16.15 mins\n",
            "KL between old and new distribution:      -6.909485e-11\n",
            "Surrogate loss:                           63.39608\n",
            "\n",
            "********** Iteration 22 ************\n",
            "Rollout\n",
            "Made rollout\n",
            "Total number of episodes:                 7083\n",
            "Average sum of rewards per episode:       -117.48578199052133\n",
            "Std of rewards per episode:               27.397002927550076\n",
            "Entropy:                                  0.49562547\n",
            "Time elapsed:                             16.91 mins\n",
            "KL between old and new distribution:      2.3566718e-10\n",
            "Surrogate loss:                           61.91158\n",
            "\n",
            "********** Iteration 23 ************\n",
            "Rollout\n",
            "Made rollout\n",
            "Total number of episodes:                 7495\n",
            "Average sum of rewards per episode:       -120.36650485436893\n",
            "Std of rewards per episode:               41.278760428836016\n",
            "Entropy:                                  0.501458\n",
            "Time elapsed:                             17.67 mins\n",
            "KL between old and new distribution:      -1.5390647e-10\n",
            "Surrogate loss:                           67.20708\n",
            "\n",
            "********** Iteration 24 ************\n",
            "Rollout\n",
            "Made rollout\n",
            "Total number of episodes:                 7919\n",
            "Average sum of rewards per episode:       -116.92688679245283\n",
            "Std of rewards per episode:               31.53474923280449\n",
            "Entropy:                                  0.50516915\n",
            "Time elapsed:                             18.43 mins\n",
            "KL between old and new distribution:      -4.1153716e-11\n",
            "Surrogate loss:                           62.68104\n",
            "\n",
            "********** Iteration 25 ************\n",
            "Rollout\n",
            "Made rollout\n",
            "Total number of episodes:                 8339\n",
            "Average sum of rewards per episode:       -118.05238095238096\n",
            "Std of rewards per episode:               35.46402763697078\n",
            "Entropy:                                  0.49551868\n",
            "Time elapsed:                             19.21 mins\n",
            "KL between old and new distribution:      2.3233479e-10\n",
            "Surrogate loss:                           64.31088\n",
            "\n",
            "********** Iteration 26 ************\n",
            "Rollout\n",
            "Made rollout\n",
            "Total number of episodes:                 8764\n",
            "Average sum of rewards per episode:       -116.64941176470589\n",
            "Std of rewards per episode:               26.69164938164749\n",
            "Entropy:                                  0.47279587\n",
            "Time elapsed:                             19.98 mins\n",
            "KL between old and new distribution:      0.0098756645\n",
            "Surrogate loss:                           61.292885\n",
            "\n",
            "********** Iteration 27 ************\n",
            "Rollout\n",
            "Made rollout\n",
            "Total number of episodes:                 9173\n",
            "Average sum of rewards per episode:       -121.25916870415648\n",
            "Std of rewards per episode:               41.975558382342406\n",
            "Entropy:                                  0.4616296\n",
            "Time elapsed:                             20.75 mins\n",
            "KL between old and new distribution:      -1.6956565e-10\n",
            "Surrogate loss:                           67.8408\n",
            "\n",
            "********** Iteration 28 ************\n",
            "Rollout\n",
            "Made rollout\n",
            "Total number of episodes:                 9581\n",
            "Average sum of rewards per episode:       -121.55392156862744\n",
            "Std of rewards per episode:               35.728785482748776\n",
            "Entropy:                                  0.4608611\n",
            "Time elapsed:                             21.51 mins\n",
            "KL between old and new distribution:      6.792594e-11\n",
            "Surrogate loss:                           65.9877\n",
            "\n",
            "********** Iteration 29 ************\n",
            "Rollout\n",
            "Made rollout\n",
            "Total number of episodes:                 10003\n",
            "Average sum of rewards per episode:       -117.48815165876778\n",
            "Std of rewards per episode:               32.49963327384396\n",
            "Entropy:                                  0.4737363\n",
            "Time elapsed:                             22.27 mins\n",
            "KL between old and new distribution:      -3.2597508e-10\n",
            "Surrogate loss:                           63.2037\n",
            "\n",
            "********** Iteration 30 ************\n",
            "Rollout\n",
            "Made rollout\n",
            "Total number of episodes:                 10407\n",
            "Average sum of rewards per episode:       -122.76980198019803\n",
            "Std of rewards per episode:               41.99780733267949\n",
            "Entropy:                                  0.45470428\n",
            "Time elapsed:                             23.05 mins\n",
            "KL between old and new distribution:      1.675688e-11\n",
            "Surrogate loss:                           68.5144\n",
            "\n",
            "********** Iteration 31 ************\n",
            "Rollout\n"
          ],
          "name": "stdout"
        }
      ]
    },
    {
      "cell_type": "markdown",
      "metadata": {
        "id": "O6mISEoL_76h",
        "colab_type": "text"
      },
      "source": [
        "# Homework option I: better sampling (10+pts)\n",
        "\n",
        "In this section, you're invited to implement a better rollout strategy called _vine_.\n",
        "\n",
        "![img](https://s17.postimg.cc/i90chxgvj/vine.png)\n",
        "\n",
        "In most gym environments, you can actually backtrack by using states. You can find a wrapper that saves/loads states in [the mcts seminar](https://github.com/yandexdataschool/Practical_RL/blob/master/week10_planning/seminar_MCTS.ipynb).\n",
        "\n",
        "You can read more about in the [TRPO article](https://arxiv.org/abs/1502.05477) in section 5.2.\n",
        "\n",
        "The goal here is to implement such rollout policy (we recommend using tree data structure like in the seminar above).\n",
        "Then you can assign cummulative rewards similar to `get_cummulative_rewards`, but for a tree.\n",
        "\n",
        "__bonus task__ - parallelize samples using multiple cores"
      ]
    },
    {
      "cell_type": "markdown",
      "metadata": {
        "id": "khJsr6IU_76h",
        "colab_type": "text"
      },
      "source": [
        "# Homework option II (10+pts)\n",
        "\n",
        "Let's use TRPO to train evil robots! (pick any of two)\n",
        "* [MuJoCo robots](https://gym.openai.com/envs#mujoco)\n",
        "* [Box2d robot](https://gym.openai.com/envs/BipedalWalker-v2)\n",
        "\n",
        "The catch here is that those environments have continuous action spaces. \n",
        "\n",
        "Luckily, TRPO is a policy gradient method, so it's gonna work for any parametric $\\pi_\\theta(a|s)$. We recommend starting with gaussian policy:\n",
        "\n",
        "$$\\pi_\\theta(a|s) = N(\\mu_\\theta(s),\\sigma^2_\\theta(s)) = {1 \\over \\sqrt { 2 \\pi {\\sigma^2}_\\theta(s) } } e^{ (a - \n",
        "\\mu_\\theta(s))^2 \\over 2 {\\sigma^2}_\\theta(s) } $$\n",
        "\n",
        "In the $\\sqrt { 2 \\pi {\\sigma^2}_\\theta(s) }$ clause, $\\pi$ means ~3.1415926, not agent's policy.\n",
        "\n",
        "This essentially means that you will need two output layers:\n",
        "* $\\mu_\\theta(s)$, a dense layer with linear activation\n",
        "* ${\\sigma^2}_\\theta(s)$, a dense layer with activation tf.exp (to make it positive; like rho from bandits)\n",
        "\n",
        "For multidimensional actions, you can use fully factorized gaussian (basically a vector of gaussians).\n",
        "\n",
        "__bonus task__: compare performance of continuous action space method to action space discretization"
      ]
    },
    {
      "cell_type": "code",
      "metadata": {
        "id": "Z44qcI-y_76i",
        "colab_type": "code",
        "colab": {}
      },
      "source": [
        ""
      ],
      "execution_count": null,
      "outputs": []
    }
  ]
}